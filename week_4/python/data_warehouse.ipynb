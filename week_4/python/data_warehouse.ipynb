{
 "cells": [
  {
   "cell_type": "markdown",
   "metadata": {},
   "source": [
    "Importeren van modules"
   ]
  },
  {
   "cell_type": "code",
   "execution_count": 9,
   "metadata": {},
   "outputs": [],
   "source": [
    "import pandas as pd\n",
    "import pyodbc\n",
    "import sqlite3\n",
    "import numpy as np"
   ]
  },
  {
   "cell_type": "markdown",
   "metadata": {},
   "source": [
    "Connectie maken met de  SSMS database"
   ]
  },
  {
   "cell_type": "code",
   "execution_count": 14,
   "metadata": {},
   "outputs": [
    {
     "name": "stderr",
     "output_type": "stream",
     "text": [
      "<>:1: SyntaxWarning: invalid escape sequence '\\S'\n",
      "<>:1: SyntaxWarning: invalid escape sequence '\\S'\n",
      "C:\\Users\\Jimmy\\AppData\\Local\\Temp\\ipykernel_23344\\2103634628.py:1: SyntaxWarning: invalid escape sequence '\\S'\n",
      "  DB = {'servername': 'LAPTOP-NIPS1D14\\SQLEXPRESS',\n",
      "C:\\Users\\Jimmy\\AppData\\Local\\Temp\\ipykernel_23344\\2103634628.py:11: UserWarning: pandas only supports SQLAlchemy connectable (engine/connection) or database string URI or sqlite3 DBAPI2 connection. Other DBAPI2 objects are not tested. Please consider using SQLAlchemy.\n",
      "  product = pd.read_sql(query, export_conn)\n"
     ]
    },
    {
     "data": {
      "text/html": [
       "<div>\n",
       "<style scoped>\n",
       "    .dataframe tbody tr th:only-of-type {\n",
       "        vertical-align: middle;\n",
       "    }\n",
       "\n",
       "    .dataframe tbody tr th {\n",
       "        vertical-align: top;\n",
       "    }\n",
       "\n",
       "    .dataframe thead th {\n",
       "        text-align: right;\n",
       "    }\n",
       "</style>\n",
       "<table border=\"1\" class=\"dataframe\">\n",
       "  <thead>\n",
       "    <tr style=\"text-align: right;\">\n",
       "      <th></th>\n",
       "      <th>product_product_id</th>\n",
       "      <th>product_name</th>\n",
       "      <th>product_image</th>\n",
       "      <th>product_line_name</th>\n",
       "      <th>product_type_name</th>\n",
       "      <th>product_introduction_date</th>\n",
       "      <th>product_cost</th>\n",
       "      <th>product_margin</th>\n",
       "      <th>product_language</th>\n",
       "    </tr>\n",
       "  </thead>\n",
       "  <tbody>\n",
       "  </tbody>\n",
       "</table>\n",
       "</div>"
      ],
      "text/plain": [
       "Empty DataFrame\n",
       "Columns: [product_product_id, product_name, product_image, product_line_name, product_type_name, product_introduction_date, product_cost, product_margin, product_language]\n",
       "Index: []"
      ]
     },
     "execution_count": 14,
     "metadata": {},
     "output_type": "execute_result"
    }
   ],
   "source": [
    "DB = {'servername': 'LAPTOP-NIPS1D14\\SQLEXPRESS',\n",
    "    'database': 'johari'}\n",
    "\n",
    "export_conn = pyodbc.connect('DRIVER={SQL Server};SERVER=' + DB['servername'] + \n",
    "                     ';DATABASE=' + DB['database'] + ';Trusted_Connection=yes')\n",
    "export_cursor = export_conn.cursor()\n",
    "export_cursor\n",
    "\n",
    "# Read the data from the SQL Server\n",
    "query = 'SELECT * FROM dbo.rPRODUCT'\n",
    "product = pd.read_sql(query, export_conn)\n",
    "\n",
    "product.head()"
   ]
  },
  {
   "cell_type": "markdown",
   "metadata": {},
   "source": [
    "Aanmaken van een SQLite database. Hier worden alle bewerkingen toegepast. Pas wanneer alles klaar is, worden alle gegevens binnen deze SQLite database overgezet naar de SSMS database"
   ]
  },
  {
   "cell_type": "code",
   "execution_count": 12,
   "metadata": {},
   "outputs": [
    {
     "data": {
      "text/plain": [
       "3"
      ]
     },
     "execution_count": 12,
     "metadata": {},
     "output_type": "execute_result"
    }
   ],
   "source": [
    "import datetime\n",
    "\n",
    "# Voor het geval dat de database nog niet bestaat, maak een nieuwe SQLite-database aan\n",
    "conn = sqlite3.connect('johari_sqlite.db')\n",
    "\n",
    "# Nieuwe dataframes met dummy data\n",
    "dbo_product = pd.DataFrame({\n",
    "    'PRODUCT_id': [1, 2, 3],\n",
    "    'PRODUCT_name': ['Moondrop Variations', 'Sony IER-Z1R', 'Truthear Nova'],\n",
    "    'PRODUCT_image': ['moondrop.jpg', 'sony.jpg', 'truthear.jpg'],\n",
    "    'PRODUCT_LINE_name': ['Moondrop', 'Sony', 'Truthear'],\n",
    "    'PRODUCT_TYPE_name': ['In-ear monitor', 'In-ear monitor', 'In-ear monitor'],\n",
    "    'PRODUCT_INTRODUCTION_DATE_date': [datetime.date(2021, 1, 1), datetime.date(2021, 1, 1), datetime.date(2021, 1, 1)],\n",
    "    'PRODUCT_COST_price': [400, 1100, 180],\n",
    "    'PRODUCT_MARGIN_dimensions': [0.5, 0.6, 0.7],\n",
    "    'PRODUCT_LANGUAGE_name': ['English', 'English', 'English'],\n",
    "})\n",
    "\n",
    "dbo_sales_staff = pd.DataFrame({\n",
    "    'SALES_STAFF_id': [1, 2, 3],\n",
    "    'SALES_STAFF_f_name': ['Karel', 'Henk', 'Regen'],\n",
    "    'SALES_STAFF_l_name': ['Ankerwout', 'Tank', 'Achterstevoren'],\n",
    "    'SALES_STAFF_phone': ['+316456789', '+316654321', '+316123123'],\n",
    "    'SALES_STAFF_email': ['k.anker@yandex.ru', 'henk@yahoo.com', 'nee@ger.com'],\n",
    "    'SALES_STAFF_fax': ['+316456789', '+316654321', '+316123123'],\n",
    "    'SALES_STAFF_sales_branch_id': [1, 2, 3],\n",
    "    'SALES_STAFF_POSITION_EN_name': ['Sales Manager', 'Sales Manager', 'Sales Manager'],\n",
    "    'SALES_STAFF_DATE_HIRED_date': [datetime.date(2021, 1, 1), datetime.date(2021, 1, 1), datetime.date(2021, 1, 1)],\n",
    "    'SALES_STAFF_EXTENSION_extension': ['+316456789', '+316654321', '+316123123'],\n",
    "    'SALES_STAFF_SALES_BRANCH_address1': ['Kerkstraat 1', 'Kerkstraat 2', 'Kerkstraat 3'],\n",
    "    'SALES_STAFF_SALES_BRANCH_address2': ['Kerkstraat 1', 'Kerkstraat 2', 'Kerkstraat 3'],\n",
    "    'SALES_STAFF_SALES_BRANCH_region': ['Noord', 'Zuid', 'Oost'],\n",
    "    'SALES_STAFF_SALES_BRANCH_city': ['Amsterdam', 'Rotterdam', 'Utrecht'],\n",
    "    'SALES_STAFF_SALES_BRANCH_postal_zone': ['1000AA', '2000BB', '3000CC'],\n",
    "    'SALES_STAFF_COUNTRY_id': [1, 2, 3],\n",
    "    'SALES_STAFF_COUNTRY_name': ['Netherlands', 'Belgium', 'Germany'],\n",
    "    'SALES_STAFF_COUNTRY_language': ['Dutch', 'French', 'German'],\n",
    "    'SALES_STAFF_COUNTRY_currency': ['Euro', 'Euro', 'Euro'],\n",
    "})\n",
    "\n",
    "dbo_retailer_contact = pd.DataFrame({\n",
    "    'retailer_contact_contact_id': np.random.randint(1, 100, size=10),\n",
    "    'retailer_contact_site_id': np.random.randint(1, 100, size=10),\n",
    "    'retailer_contact_first_name': np.random.choice(['John', 'Jane', 'Jim', 'Jill', 'Joe'], size=10),\n",
    "    'retailer_contact_last_name': np.random.choice(['Smith', 'Johnson', 'Williams', 'Jones', 'Brown'], size=10),\n",
    "    'retailer_contact_job_position_en': np.random.choice(['Manager', 'Employee', 'CEO', 'CFO', 'CTO'], size=10),\n",
    "    'retailer_contact_extension': np.random.randint(1, 100, size=10),\n",
    "    'retailer_contact_fax': np.random.randint(1, 100, size=10),\n",
    "    'retailer_contact_email': [f'test{i}@test.com' for i in range(10)],\n",
    "    'retailer_contact_gender': np.random.choice(['Male', 'Female'], size=10),\n",
    "    'retailer_id': np.random.randint(1, 100, size=10),\n",
    "    'retailer_codemr': np.random.randint(1, 100, size=10),\n",
    "    'retailer_company_name': [f'Company{i}' for i in range(10)],\n",
    "    'retailer_age_group_id': np.random.randint(1, 100, size=10),\n",
    "    'retailer_age_group_upper_age': np.random.randint(30, 60, size=10),\n",
    "    'retailer_age_group_lower_age': np.random.randint(20, 30, size=10),\n",
    "    'retailer_sales_demographic_id': np.random.randint(1, 100, size=10),\n",
    "    'retailer_sales_demographic_codemr': np.random.randint(1, 100, size=10),\n",
    "    'retailer_sales_demographic_age_group_id': np.random.randint(1, 100, size=10),\n",
    "    'retailer_sales_demographic_sales_percent': np.random.random(size=10),\n",
    "    'retailer_sales_territory_id': np.random.randint(1, 100, size=10),\n",
    "    'retailer_sales_territory_name_en': [f'Territory{i}' for i in range(10)],\n",
    "    'retailer_country_id': np.random.randint(1, 100, size=10),\n",
    "    'retailer_country_country_en': [f'Country{i}' for i in range(10)],\n",
    "    'retailer_country_flag_image': [f'Image{i}' for i in range(10)],\n",
    "    'retailer_country_sales_territory_id': np.random.randint(1, 100, size=10),\n",
    "    'retailer_site_id': np.random.randint(1, 100, size=10),\n",
    "    'retailer_site_retailer_id': np.random.randint(1, 100, size=10),\n",
    "    'retailer_site_address1': [f'Address{i}' for i in range(10)],\n",
    "    'retailer_site_address2': [f'Address{i}' for i in range(10)],\n",
    "    'retailer_site_city': [f'City{i}' for i in range(10)],\n",
    "    'retailer_site_region': [f'Region{i}' for i in range(10)],\n",
    "    'retailer_site_postal_zone': [f'Postal{i}' for i in range(10)],\n",
    "    'retailer_site_country_id': np.random.randint(1, 100, size=10),\n",
    "    'retailer_site_active_indicator': np.random.choice([True, False], size=10),\n",
    "    'retailer_headquarters_codemr': np.random.randint(1, 100, size=10),\n",
    "    'retailer_headquarters_name': [f'Name{i}' for i in range(10)],\n",
    "    'retailer_headquarters_address1': [f'Address{i}' for i in range(10)],\n",
    "    'retailer_headquarters_address2': [f'Address{i}' for i in range(10)],\n",
    "    'retailer_headquarters_city': [f'City{i}' for i in range(10)],\n",
    "    'retailer_headquarters_region': [f'Region{i}' for i in range(10)],\n",
    "    'retailer_headquarters_postal_zone': [f'Postal{i}' for i in range(10)],\n",
    "    'retailer_headquarters_country_id': np.random.randint(1, 100, size=10),\n",
    "    'retailer_headquarters_phone': [f'Phone{i}' for i in range(10)],\n",
    "    'retailer_headquarters_fax': [f'Fax{i}' for i in range(10)],\n",
    "    'retailer_headquarters_segment_id': np.random.randint(1, 100, size=10),\n",
    "    'retailer_type_id': np.random.randint(1, 100, size=10),\n",
    "    'retailer_type_type_en': [f'Type{i}' for i in range(10)],\n",
    "    'retailer_segment_id': np.random.randint(1, 100, size=10),\n",
    "    'retailer_segment_language': [f'Language{i}' for i in range(10)],\n",
    "    'retailer_segment_name': [f'Segment Name{i}' for i in range(10)],\n",
    "    'retailer_segment_description': [f'Segment Description{i}' for i in range(10)],\n",
    "})\n",
    "\n",
    "dbo_returned_reason = pd.DataFrame({\n",
    "    'RETURNED_REASON_id': [1, 2, 3],\n",
    "    'RETURNED_REASON_DESCRIPTION_name': ['Broken', 'Not satisfied', 'Wrong product'],\n",
    "})\n",
    "\n",
    "dbo_order_method = pd.DataFrame({\n",
    "    'ORDER_METHOD_id': [1, 2, 3],\n",
    "    'ORDER_METHOD_EN_name': ['Online', 'Phone', 'Mail'],\n",
    "})\n",
    "\n",
    "dbo_course = pd.DataFrame({\n",
    "    'COURSE_id': [1, 2, 3],\n",
    "    'COURSE_DESCRIPTION_en': ['Programming', 'Querying', 'Spreadsheets'],\n",
    "})\n",
    "\n",
    "dbo_satisfaction_type = pd.DataFrame({\n",
    "    'SATISFACTION_TYPE_id': [1, 2, 3],\n",
    "    'SATISFACTION_TYPE_DESCRIPTION_name': ['Good', 'Bad', 'Neutral'],\n",
    "})\n",
    "\n",
    "# Exporteer de dataframes naar de SQLite-database\n",
    "dbo_product.to_sql('PRODUCT', conn, if_exists='replace', index=False)\n",
    "dbo_sales_staff.to_sql('SALES_STAFF', conn, if_exists='replace', index=False)\n",
    "dbo_retailer_contact.to_sql('RETAILER_CONTACT', conn, if_exists='replace', index=False)\n",
    "dbo_returned_reason.to_sql('RETURNED_REASON', conn, if_exists='replace', index=False)\n",
    "dbo_order_method.to_sql('ORDER_METHOD', conn, if_exists='replace', index=False)\n",
    "dbo_course.to_sql('COURSE', conn, if_exists='replace', index=False)\n",
    "dbo_satisfaction_type.to_sql('SATISFACTION_TYPE', conn, if_exists='replace', index=False)"
   ]
  },
  {
   "cell_type": "markdown",
   "metadata": {},
   "source": [
    "Zet alle gegevens om van de SQLite .db bestand naar de officiele SSMS database"
   ]
  },
  {
   "cell_type": "code",
   "execution_count": 15,
   "metadata": {},
   "outputs": [
    {
     "name": "stderr",
     "output_type": "stream",
     "text": [
      "C:\\Users\\Jimmy\\AppData\\Local\\Temp\\ipykernel_23344\\78682237.py:15: UserWarning: pandas only supports SQLAlchemy connectable (engine/connection) or database string URI or sqlite3 DBAPI2 connection. Other DBAPI2 objects are not tested. Please consider using SQLAlchemy.\n",
      "  product = pd.read_sql(query, export_conn)\n"
     ]
    },
    {
     "data": {
      "text/html": [
       "<div>\n",
       "<style scoped>\n",
       "    .dataframe tbody tr th:only-of-type {\n",
       "        vertical-align: middle;\n",
       "    }\n",
       "\n",
       "    .dataframe tbody tr th {\n",
       "        vertical-align: top;\n",
       "    }\n",
       "\n",
       "    .dataframe thead th {\n",
       "        text-align: right;\n",
       "    }\n",
       "</style>\n",
       "<table border=\"1\" class=\"dataframe\">\n",
       "  <thead>\n",
       "    <tr style=\"text-align: right;\">\n",
       "      <th></th>\n",
       "      <th>product_product_id</th>\n",
       "      <th>product_name</th>\n",
       "      <th>product_image</th>\n",
       "      <th>product_line_name</th>\n",
       "      <th>product_type_name</th>\n",
       "      <th>product_introduction_date</th>\n",
       "      <th>product_cost</th>\n",
       "      <th>product_margin</th>\n",
       "      <th>product_language</th>\n",
       "    </tr>\n",
       "  </thead>\n",
       "  <tbody>\n",
       "    <tr>\n",
       "      <th>0</th>\n",
       "      <td>1</td>\n",
       "      <td>Moondrop Variations</td>\n",
       "      <td>moondrop.jpg</td>\n",
       "      <td>Moondrop</td>\n",
       "      <td>In-ear monitor</td>\n",
       "      <td>2021-01-01</td>\n",
       "      <td>400.0</td>\n",
       "      <td>0.5</td>\n",
       "      <td>English</td>\n",
       "    </tr>\n",
       "    <tr>\n",
       "      <th>1</th>\n",
       "      <td>2</td>\n",
       "      <td>Sony IER-Z1R</td>\n",
       "      <td>sony.jpg</td>\n",
       "      <td>Sony</td>\n",
       "      <td>In-ear monitor</td>\n",
       "      <td>2021-01-01</td>\n",
       "      <td>1100.0</td>\n",
       "      <td>0.6</td>\n",
       "      <td>English</td>\n",
       "    </tr>\n",
       "    <tr>\n",
       "      <th>2</th>\n",
       "      <td>3</td>\n",
       "      <td>Truthear Nova</td>\n",
       "      <td>truthear.jpg</td>\n",
       "      <td>Truthear</td>\n",
       "      <td>In-ear monitor</td>\n",
       "      <td>2021-01-01</td>\n",
       "      <td>180.0</td>\n",
       "      <td>0.7</td>\n",
       "      <td>English</td>\n",
       "    </tr>\n",
       "  </tbody>\n",
       "</table>\n",
       "</div>"
      ],
      "text/plain": [
       "   product_product_id         product_name product_image product_line_name  \\\n",
       "0                   1  Moondrop Variations  moondrop.jpg          Moondrop   \n",
       "1                   2         Sony IER-Z1R      sony.jpg              Sony   \n",
       "2                   3        Truthear Nova  truthear.jpg          Truthear   \n",
       "\n",
       "  product_type_name product_introduction_date  product_cost product_margin  \\\n",
       "0    In-ear monitor                2021-01-01         400.0            0.5   \n",
       "1    In-ear monitor                2021-01-01        1100.0            0.6   \n",
       "2    In-ear monitor                2021-01-01         180.0            0.7   \n",
       "\n",
       "  product_language  \n",
       "0          English  \n",
       "1          English  \n",
       "2          English  "
      ]
     },
     "execution_count": 15,
     "metadata": {},
     "output_type": "execute_result"
    }
   ],
   "source": [
    "aenc_conn = sqlite3.connect('johari_sqlite.db')\n",
    "product = pd.read_sql_query('SELECT * FROM PRODUCT', aenc_conn)\n",
    "\n",
    "for index, row in product.iterrows():\n",
    "    try:\n",
    "        query = f\"INSERT INTO dbo.rPRODUCT VALUES ({row['PRODUCT_id']}, '{row['PRODUCT_name']}', '{row['PRODUCT_image']}', '{row['PRODUCT_LINE_name']}', '{row['PRODUCT_TYPE_name']}', '{row['PRODUCT_INTRODUCTION_DATE_date']}', {row['PRODUCT_COST_price']}, {row['PRODUCT_MARGIN_dimensions']}, '{row['PRODUCT_LANGUAGE_name']}')\"\n",
    "        export_cursor.execute(query)\n",
    "        export_conn.commit()\n",
    "    except Exception as e:\n",
    "        print(e)\n",
    "        break\n",
    "\n",
    "# Read the data from the SQL Server\n",
    "query = 'SELECT * FROM dbo.rPRODUCT'\n",
    "product = pd.read_sql(query, export_conn)\n",
    "\n",
    "product.head()\n"
   ]
  },
  {
   "cell_type": "markdown",
   "metadata": {},
   "source": [
    "BACKUP BACKUP BACKUP BACKUP BACKUP BACKUP BACKUP BACKUP BACKUP BACKUP BACKUP BACKUP BACKUP BACKUP "
   ]
  },
  {
   "cell_type": "code",
   "execution_count": 13,
   "metadata": {},
   "outputs": [
    {
     "name": "stdout",
     "output_type": "stream",
     "text": [
      "Empty DataFrame\n",
      "Columns: [TRAINING_course_id, TRAINING_STAFF_id, TRAINING_amount_enrolled_course, TRAINING_amount_enrolled_staff, TRAINING_country, TRAINING_amount_enrolled_course_country, TRAINING_amount_enrolled_staff_country, COURSE_id, SALES_STAFF_id]\n",
      "Index: []\n"
     ]
    },
    {
     "name": "stderr",
     "output_type": "stream",
     "text": [
      "C:\\Users\\noah\\AppData\\Local\\Temp\\ipykernel_20780\\785295862.py:3: UserWarning: pandas only supports SQLAlchemy connectable (engine/connection) or database string URI or sqlite3 DBAPI2 connection. Other DBAPI2 objects are not tested. Please consider using SQLAlchemy.\n",
      "  training = pd.read_sql(sql_query, export_conn)\n",
      "C:\\Users\\noah\\AppData\\Local\\Temp\\ipykernel_20780\\785295862.py:6: UserWarning: pandas only supports SQLAlchemy connectable (engine/connection) or database string URI or sqlite3 DBAPI2 connection. Other DBAPI2 objects are not tested. Please consider using SQLAlchemy.\n",
      "  satisfaction = pd.read_sql(sql_query, export_conn)\n",
      "C:\\Users\\noah\\AppData\\Local\\Temp\\ipykernel_20780\\785295862.py:9: UserWarning: pandas only supports SQLAlchemy connectable (engine/connection) or database string URI or sqlite3 DBAPI2 connection. Other DBAPI2 objects are not tested. Please consider using SQLAlchemy.\n",
      "  orders = pd.read_sql(sql_query, export_conn)\n",
      "C:\\Users\\noah\\AppData\\Local\\Temp\\ipykernel_20780\\785295862.py:12: UserWarning: pandas only supports SQLAlchemy connectable (engine/connection) or database string URI or sqlite3 DBAPI2 connection. Other DBAPI2 objects are not tested. Please consider using SQLAlchemy.\n",
      "  returned_item = pd.read_sql(sql_query, export_conn)\n",
      "C:\\Users\\noah\\AppData\\Local\\Temp\\ipykernel_20780\\785295862.py:15: UserWarning: pandas only supports SQLAlchemy connectable (engine/connection) or database string URI or sqlite3 DBAPI2 connection. Other DBAPI2 objects are not tested. Please consider using SQLAlchemy.\n",
      "  sales_inventory_levels = pd.read_sql(sql_query, export_conn)\n",
      "C:\\Users\\noah\\AppData\\Local\\Temp\\ipykernel_20780\\785295862.py:18: UserWarning: pandas only supports SQLAlchemy connectable (engine/connection) or database string URI or sqlite3 DBAPI2 connection. Other DBAPI2 objects are not tested. Please consider using SQLAlchemy.\n",
      "  sales_product_forecast = pd.read_sql(sql_query, export_conn)\n",
      "C:\\Users\\noah\\AppData\\Local\\Temp\\ipykernel_20780\\785295862.py:21: UserWarning: pandas only supports SQLAlchemy connectable (engine/connection) or database string URI or sqlite3 DBAPI2 connection. Other DBAPI2 objects are not tested. Please consider using SQLAlchemy.\n",
      "  sales_targetData = pd.read_sql(sql_query, export_conn)\n"
     ]
    }
   ],
   "source": [
    "# Now you can use this connection to query data and put it into a pandas DataFrame\n",
    "sql_query = \"SELECT * FROM training\"\n",
    "training = pd.read_sql(sql_query, export_conn)\n",
    "\n",
    "sql_query = \"SELECT * FROM satisfaction\"\n",
    "product = pd.read_sql(sql_query, export_conn)\n",
    "\n",
    "sql_query = \"SELECT * FROM orders\"\n",
    "orders = pd.read_sql(sql_query, export_conn)\n",
    "\n",
    "sql_query = \"SELECT * FROM returned_item\"\n",
    "returned_item = pd.read_sql(sql_query, export_conn)\n",
    "\n",
    "sql_query = \"SELECT * FROM sales_inventory_levels\"\n",
    "sales_inventory_levels = pd.read_sql(sql_query, export_conn)\n",
    "\n",
    "sql_query = \"SELECT * FROM sales_product_forecast\"\n",
    "sales_product_forecast = pd.read_sql(sql_query, export_conn)\n",
    "\n",
    "sql_query = \"SELECT * FROM sales_targetData\"\n",
    "sales_targetData = pd.read_sql(sql_query, export_conn)\n",
    "\n",
    "# Now you can work with the data in the pandas DataFrame\n",
    "pd.DataFrame(training.head())"
   ]
  }
 ],
 "metadata": {
  "kernelspec": {
   "display_name": "Python 3",
   "language": "python",
   "name": "python3"
  },
  "language_info": {
   "codemirror_mode": {
    "name": "ipython",
    "version": 3
   },
   "file_extension": ".py",
   "mimetype": "text/x-python",
   "name": "python",
   "nbconvert_exporter": "python",
   "pygments_lexer": "ipython3",
   "version": "3.12.1"
  }
 },
 "nbformat": 4,
 "nbformat_minor": 2
}
