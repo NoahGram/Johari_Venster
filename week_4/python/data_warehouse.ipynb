{
 "cells": [
  {
   "cell_type": "markdown",
   "metadata": {},
   "source": [
    "Importeren van modules"
   ]
  },
  {
   "cell_type": "code",
   "execution_count": 51,
   "metadata": {},
   "outputs": [],
   "source": [
    "import pandas as pd\n",
    "import pyodbc\n",
    "import sqlite3"
   ]
  },
  {
   "cell_type": "markdown",
   "metadata": {},
   "source": [
    "Connectie maken met de officiele SSMS database"
   ]
  },
  {
   "cell_type": "code",
   "execution_count": 59,
   "metadata": {},
   "outputs": [
    {
     "name": "stderr",
     "output_type": "stream",
     "text": [
      "C:\\Users\\Jimmy\\AppData\\Local\\Temp\\ipykernel_9968\\3786044711.py:11: UserWarning: pandas only supports SQLAlchemy connectable (engine/connection) or database string URI or sqlite3 DBAPI2 connection. Other DBAPI2 objects are not tested. Please consider using SQLAlchemy.\n",
      "  satisfaction = pd.read_sql(query, export_conn)\n"
     ]
    },
    {
     "data": {
      "text/html": [
       "<div>\n",
       "<style scoped>\n",
       "    .dataframe tbody tr th:only-of-type {\n",
       "        vertical-align: middle;\n",
       "    }\n",
       "\n",
       "    .dataframe tbody tr th {\n",
       "        vertical-align: top;\n",
       "    }\n",
       "\n",
       "    .dataframe thead th {\n",
       "        text-align: right;\n",
       "    }\n",
       "</style>\n",
       "<table border=\"1\" class=\"dataframe\">\n",
       "  <thead>\n",
       "    <tr style=\"text-align: right;\">\n",
       "      <th></th>\n",
       "      <th>SATISFACTION_id</th>\n",
       "      <th>SATISFACTION_TYPE_id</th>\n",
       "      <th>SATISFACTION_STAFF_is</th>\n",
       "      <th>SATISFACTION_amount_staff</th>\n",
       "      <th>SATISFACTION_country_percent</th>\n",
       "      <th>SATISFACTION_position_percent</th>\n",
       "    </tr>\n",
       "  </thead>\n",
       "  <tbody>\n",
       "  </tbody>\n",
       "</table>\n",
       "</div>"
      ],
      "text/plain": [
       "Empty DataFrame\n",
       "Columns: [SATISFACTION_id, SATISFACTION_TYPE_id, SATISFACTION_STAFF_is, SATISFACTION_amount_staff, SATISFACTION_country_percent, SATISFACTION_position_percent]\n",
       "Index: []"
      ]
     },
     "execution_count": 59,
     "metadata": {},
     "output_type": "execute_result"
    }
   ],
   "source": [
    "DB = {'servername': r'LAPTOP-NIPS1D14\\SQLEXPRESS',\n",
    "    'database': 'johari'}\n",
    "\n",
    "export_conn = pyodbc.connect('DRIVER={SQL Server};SERVER=' + DB['servername'] + \n",
    "                     ';DATABASE=' + DB['database'] + ';Trusted_Connection=yes')\n",
    "export_cursor = export_conn.cursor()\n",
    "export_cursor\n",
    "\n",
    "# Read the data from the SQL Server\n",
    "query = 'SELECT * FROM dbo.satisfaction'\n",
    "satisfaction = pd.read_sql(query, export_conn)\n",
    "\n",
    "satisfaction.head()"
   ]
  },
  {
   "cell_type": "markdown",
   "metadata": {},
   "source": [
    "Maak een nieuwe SQLite database. Hier wordt alle bewerkingen toegepast, en wanneer alles klaar is wordt alle gegevens binnen deze SQLite database later overgezet naar de officiele SSMS database"
   ]
  },
  {
   "cell_type": "code",
   "execution_count": 55,
   "metadata": {},
   "outputs": [],
   "source": [
    "# Maak een nieuwe SQLite-database\n",
    "conn = sqlite3.connect('test.db')\n",
    "\n",
    "# Maak een nieuw DataFrame\n",
    "df = pd.DataFrame({\n",
    "    'SATISTFACTION_id': [1, 2, 3],\n",
    "    'SATISTFACTION_TYPE_id': [1, 2, 3],\n",
    "    'SATISFACTION_STAFF_js': [1, 2, 3],\n",
    "    'SATISFACTION_amount_staff': [1, 2, 3],\n",
    "    'SATISFACTION_country_percent': [1, 2, 3],\n",
    "    'SATISFACTION_position_percent': [1, 2, 3],\n",
    "})\n",
    "\n",
    "# Maak een nieuwe tabel van het DataFrame\n",
    "df.to_sql('new_table', conn, if_exists='replace', index=False)"
   ]
  },
  {
   "cell_type": "markdown",
   "metadata": {},
   "source": [
    "Zet alle gegevens om van de SQLite .db bestand naar de officiele SSMS database"
   ]
  },
  {
   "cell_type": "code",
   "execution_count": 67,
   "metadata": {},
   "outputs": [
    {
     "name": "stderr",
     "output_type": "stream",
     "text": [
      "C:\\Users\\Jimmy\\AppData\\Local\\Temp\\ipykernel_9968\\1230837820.py:16: UserWarning: pandas only supports SQLAlchemy connectable (engine/connection) or database string URI or sqlite3 DBAPI2 connection. Other DBAPI2 objects are not tested. Please consider using SQLAlchemy.\n",
      "  satisfaction = pd.read_sql(query, export_conn)\n"
     ]
    },
    {
     "data": {
      "text/html": [
       "<div>\n",
       "<style scoped>\n",
       "    .dataframe tbody tr th:only-of-type {\n",
       "        vertical-align: middle;\n",
       "    }\n",
       "\n",
       "    .dataframe tbody tr th {\n",
       "        vertical-align: top;\n",
       "    }\n",
       "\n",
       "    .dataframe thead th {\n",
       "        text-align: right;\n",
       "    }\n",
       "</style>\n",
       "<table border=\"1\" class=\"dataframe\">\n",
       "  <thead>\n",
       "    <tr style=\"text-align: right;\">\n",
       "      <th></th>\n",
       "      <th>SATISFACTION_id</th>\n",
       "      <th>SATISFACTION_TYPE_id</th>\n",
       "      <th>SATISFACTION_STAFF_is</th>\n",
       "      <th>SATISFACTION_amount_staff</th>\n",
       "      <th>SATISFACTION_country_percent</th>\n",
       "      <th>SATISFACTION_position_percent</th>\n",
       "    </tr>\n",
       "  </thead>\n",
       "  <tbody>\n",
       "    <tr>\n",
       "      <th>0</th>\n",
       "      <td>1</td>\n",
       "      <td>1</td>\n",
       "      <td>1</td>\n",
       "      <td>1</td>\n",
       "      <td>1</td>\n",
       "      <td>1</td>\n",
       "    </tr>\n",
       "    <tr>\n",
       "      <th>1</th>\n",
       "      <td>2</td>\n",
       "      <td>2</td>\n",
       "      <td>2</td>\n",
       "      <td>2</td>\n",
       "      <td>2</td>\n",
       "      <td>2</td>\n",
       "    </tr>\n",
       "    <tr>\n",
       "      <th>2</th>\n",
       "      <td>3</td>\n",
       "      <td>3</td>\n",
       "      <td>3</td>\n",
       "      <td>3</td>\n",
       "      <td>3</td>\n",
       "      <td>3</td>\n",
       "    </tr>\n",
       "    <tr>\n",
       "      <th>3</th>\n",
       "      <td>1</td>\n",
       "      <td>1</td>\n",
       "      <td>1</td>\n",
       "      <td>1</td>\n",
       "      <td>1</td>\n",
       "      <td>1</td>\n",
       "    </tr>\n",
       "    <tr>\n",
       "      <th>4</th>\n",
       "      <td>2</td>\n",
       "      <td>2</td>\n",
       "      <td>2</td>\n",
       "      <td>2</td>\n",
       "      <td>2</td>\n",
       "      <td>2</td>\n",
       "    </tr>\n",
       "  </tbody>\n",
       "</table>\n",
       "</div>"
      ],
      "text/plain": [
       "   SATISFACTION_id  SATISFACTION_TYPE_id  SATISFACTION_STAFF_is  \\\n",
       "0                1                     1                      1   \n",
       "1                2                     2                      2   \n",
       "2                3                     3                      3   \n",
       "3                1                     1                      1   \n",
       "4                2                     2                      2   \n",
       "\n",
       "   SATISFACTION_amount_staff  SATISFACTION_country_percent  \\\n",
       "0                          1                             1   \n",
       "1                          2                             2   \n",
       "2                          3                             3   \n",
       "3                          1                             1   \n",
       "4                          2                             2   \n",
       "\n",
       "   SATISFACTION_position_percent  \n",
       "0                              1  \n",
       "1                              2  \n",
       "2                              3  \n",
       "3                              1  \n",
       "4                              2  "
      ]
     },
     "execution_count": 67,
     "metadata": {},
     "output_type": "execute_result"
    }
   ],
   "source": [
    "aenc_conn = sqlite3.connect('test.db')\n",
    "satisfaction = pd.read_sql_query('SELECT * FROM new_Table', aenc_conn)\n",
    "satisfaction\n",
    "\n",
    "for index, row in satisfaction.iterrows():\n",
    "    try:\n",
    "        query = f\"INSERT INTO dbo.SATISFACTION VALUES ({row['SATISTFACTION_id']}, {row['SATISTFACTION_TYPE_id']}, {row['SATISFACTION_STAFF_js']}, {row['SATISFACTION_amount_staff']}, {row['SATISFACTION_country_percent']}, {row['SATISFACTION_position_percent']})\"\n",
    "        export_cursor.execute(query)\n",
    "        export_conn.commit()\n",
    "    except Exception as e:\n",
    "        print(e)\n",
    "        break\n",
    "\n",
    "# Read the data from the SQL Server\n",
    "query = 'SELECT * FROM dbo.satisfaction'\n",
    "satisfaction = pd.read_sql(query, export_conn)\n",
    "\n",
    "satisfaction.head()\n"
   ]
  },
  {
   "cell_type": "markdown",
   "metadata": {},
   "source": [
    "BACKUP BACKUP BACKUP BACKUP BACKUP BACKUP BACKUP BACKUP BACKUP BACKUP BACKUP BACKUP BACKUP BACKUP "
   ]
  },
  {
   "cell_type": "code",
   "execution_count": 13,
   "metadata": {},
   "outputs": [
    {
     "name": "stdout",
     "output_type": "stream",
     "text": [
      "Empty DataFrame\n",
      "Columns: [TRAINING_course_id, TRAINING_STAFF_id, TRAINING_amount_enrolled_course, TRAINING_amount_enrolled_staff, TRAINING_country, TRAINING_amount_enrolled_course_country, TRAINING_amount_enrolled_staff_country, COURSE_id, SALES_STAFF_id]\n",
      "Index: []\n"
     ]
    },
    {
     "name": "stderr",
     "output_type": "stream",
     "text": [
      "C:\\Users\\noah\\AppData\\Local\\Temp\\ipykernel_20780\\785295862.py:3: UserWarning: pandas only supports SQLAlchemy connectable (engine/connection) or database string URI or sqlite3 DBAPI2 connection. Other DBAPI2 objects are not tested. Please consider using SQLAlchemy.\n",
      "  training = pd.read_sql(sql_query, export_conn)\n",
      "C:\\Users\\noah\\AppData\\Local\\Temp\\ipykernel_20780\\785295862.py:6: UserWarning: pandas only supports SQLAlchemy connectable (engine/connection) or database string URI or sqlite3 DBAPI2 connection. Other DBAPI2 objects are not tested. Please consider using SQLAlchemy.\n",
      "  satisfaction = pd.read_sql(sql_query, export_conn)\n",
      "C:\\Users\\noah\\AppData\\Local\\Temp\\ipykernel_20780\\785295862.py:9: UserWarning: pandas only supports SQLAlchemy connectable (engine/connection) or database string URI or sqlite3 DBAPI2 connection. Other DBAPI2 objects are not tested. Please consider using SQLAlchemy.\n",
      "  orders = pd.read_sql(sql_query, export_conn)\n",
      "C:\\Users\\noah\\AppData\\Local\\Temp\\ipykernel_20780\\785295862.py:12: UserWarning: pandas only supports SQLAlchemy connectable (engine/connection) or database string URI or sqlite3 DBAPI2 connection. Other DBAPI2 objects are not tested. Please consider using SQLAlchemy.\n",
      "  returned_item = pd.read_sql(sql_query, export_conn)\n",
      "C:\\Users\\noah\\AppData\\Local\\Temp\\ipykernel_20780\\785295862.py:15: UserWarning: pandas only supports SQLAlchemy connectable (engine/connection) or database string URI or sqlite3 DBAPI2 connection. Other DBAPI2 objects are not tested. Please consider using SQLAlchemy.\n",
      "  sales_inventory_levels = pd.read_sql(sql_query, export_conn)\n",
      "C:\\Users\\noah\\AppData\\Local\\Temp\\ipykernel_20780\\785295862.py:18: UserWarning: pandas only supports SQLAlchemy connectable (engine/connection) or database string URI or sqlite3 DBAPI2 connection. Other DBAPI2 objects are not tested. Please consider using SQLAlchemy.\n",
      "  sales_product_forecast = pd.read_sql(sql_query, export_conn)\n",
      "C:\\Users\\noah\\AppData\\Local\\Temp\\ipykernel_20780\\785295862.py:21: UserWarning: pandas only supports SQLAlchemy connectable (engine/connection) or database string URI or sqlite3 DBAPI2 connection. Other DBAPI2 objects are not tested. Please consider using SQLAlchemy.\n",
      "  sales_targetData = pd.read_sql(sql_query, export_conn)\n"
     ]
    }
   ],
   "source": [
    "# Now you can use this connection to query data and put it into a pandas DataFrame\n",
    "sql_query = \"SELECT * FROM training\"\n",
    "training = pd.read_sql(sql_query, export_conn)\n",
    "\n",
    "sql_query = \"SELECT * FROM satisfaction\"\n",
    "satisfaction = pd.read_sql(sql_query, export_conn)\n",
    "\n",
    "sql_query = \"SELECT * FROM orders\"\n",
    "orders = pd.read_sql(sql_query, export_conn)\n",
    "\n",
    "sql_query = \"SELECT * FROM returned_item\"\n",
    "returned_item = pd.read_sql(sql_query, export_conn)\n",
    "\n",
    "sql_query = \"SELECT * FROM sales_inventory_levels\"\n",
    "sales_inventory_levels = pd.read_sql(sql_query, export_conn)\n",
    "\n",
    "sql_query = \"SELECT * FROM sales_product_forecast\"\n",
    "sales_product_forecast = pd.read_sql(sql_query, export_conn)\n",
    "\n",
    "sql_query = \"SELECT * FROM sales_targetData\"\n",
    "sales_targetData = pd.read_sql(sql_query, export_conn)\n",
    "\n",
    "# Now you can work with the data in the pandas DataFrame\n",
    "pd.DataFrame(training.head())"
   ]
  }
 ],
 "metadata": {
  "kernelspec": {
   "display_name": "Python 3",
   "language": "python",
   "name": "python3"
  },
  "language_info": {
   "codemirror_mode": {
    "name": "ipython",
    "version": 3
   },
   "file_extension": ".py",
   "mimetype": "text/x-python",
   "name": "python",
   "nbconvert_exporter": "python",
   "pygments_lexer": "ipython3",
   "version": "3.12.2"
  }
 },
 "nbformat": 4,
 "nbformat_minor": 2
}
