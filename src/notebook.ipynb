{
 "cells": [
  {
   "cell_type": "code",
   "execution_count": 1,
   "metadata": {},
   "outputs": [],
   "source": [
    "import pandas as pd\n",
    "import pyodbc\n",
    "import sqlite3\n",
    "import numpy as np"
   ]
  },
  {
   "cell_type": "code",
   "execution_count": 2,
   "metadata": {},
   "outputs": [
    {
     "data": {
      "text/plain": [
       "<pyodbc.Cursor at 0x1ae2e6ef3b0>"
      ]
     },
     "execution_count": 2,
     "metadata": {},
     "output_type": "execute_result"
    }
   ],
   "source": [
    "DB = {'servername': '.',\n",
    "    'database': 'johari'}\n",
    "\n",
    "ssms_conn = pyodbc.connect('DRIVER={SQL Server};SERVER=' + DB['servername'] + \n",
    "                     ';DATABASE=' + DB['database'] + ';Trusted_Connection=yes')\n",
    "ssms_cursor = ssms_conn.cursor()\n",
    "ssms_cursor"
   ]
  },
  {
   "cell_type": "code",
   "execution_count": 3,
   "metadata": {},
   "outputs": [],
   "source": [
    "# Lokale connecties\n",
    "sqlite_conn = sqlite3.connect('../data/processed/dwh.sqlite')\n",
    "go_sales_conn = sqlite3.connect('../data/raw/go_sales.sqlite')\n",
    "go_staff_conn = sqlite3.connect('../data/raw/go_staff.sqlite')\n",
    "go_crm_conn = sqlite3.connect('../data/raw/go_crm.sqlite')"
   ]
  },
  {
   "cell_type": "markdown",
   "metadata": {},
   "source": [
    "### SQLite --> Dataframes"
   ]
  },
  {
   "cell_type": "code",
   "execution_count": 4,
   "metadata": {},
   "outputs": [
    {
     "data": {
      "text/plain": [
       "5"
      ]
     },
     "execution_count": 4,
     "metadata": {},
     "output_type": "execute_result"
    }
   ],
   "source": [
    "# RETURNED_REASON\n",
    "returned_reason = pd.read_sql_query('SELECT * FROM RETURN_REASON', go_sales_conn)\n",
    "returned_reason = returned_reason[['RETURN_REASON_CODE', 'RETURN_DESCRIPTION_EN']]\n",
    "returned_reason.to_sql('RETURN_REASON', sqlite_conn, if_exists='replace', index=False)"
   ]
  },
  {
   "cell_type": "code",
   "execution_count": 5,
   "metadata": {},
   "outputs": [
    {
     "data": {
      "text/plain": [
       "7"
      ]
     },
     "execution_count": 5,
     "metadata": {},
     "output_type": "execute_result"
    }
   ],
   "source": [
    "# ORDER_METHOD\n",
    "order_method = pd.read_sql_query('SELECT * FROM ORDER_METHOD', go_sales_conn)\n",
    "order_method = order_method[['ORDER_METHOD_CODE', 'ORDER_METHOD_EN']]\n",
    "order_method.to_sql('ORDER_METHOD', sqlite_conn, if_exists='replace', index=False)"
   ]
  },
  {
   "cell_type": "code",
   "execution_count": 6,
   "metadata": {},
   "outputs": [
    {
     "data": {
      "text/plain": [
       "9"
      ]
     },
     "execution_count": 6,
     "metadata": {},
     "output_type": "execute_result"
    }
   ],
   "source": [
    "# COURSE\n",
    "course = pd.read_sql_query('SELECT * FROM COURSE', go_staff_conn)\n",
    "course = course[['COURSE_CODE', 'COURSE_DESCRIPTION']]\n",
    "course.to_sql('COURSE', sqlite_conn, if_exists='replace', index=False)"
   ]
  },
  {
   "cell_type": "code",
   "execution_count": 7,
   "metadata": {},
   "outputs": [
    {
     "data": {
      "text/plain": [
       "5"
      ]
     },
     "execution_count": 7,
     "metadata": {},
     "output_type": "execute_result"
    }
   ],
   "source": [
    "# SATISFACTION_TYPE\n",
    "satisfaction_type = pd.read_sql_query('SELECT * FROM SATISFACTION_TYPE', go_staff_conn)\n",
    "satisfaction_type = satisfaction_type[['SATISFACTION_TYPE_CODE', 'SATISFACTION_TYPE_DESCRIPTION']]\n",
    "satisfaction_type.to_sql('SATISFACTION_TYPE', sqlite_conn, if_exists='replace', index=False)"
   ]
  },
  {
   "cell_type": "code",
   "execution_count": 8,
   "metadata": {},
   "outputs": [
    {
     "data": {
      "text/plain": [
       "115"
      ]
     },
     "execution_count": 8,
     "metadata": {},
     "output_type": "execute_result"
    }
   ],
   "source": [
    "# PRODUCT\n",
    "product = pd.read_sql_query('SELECT * FROM PRODUCT', go_sales_conn)\n",
    "product = product[[\n",
    "    'PRODUCT_NUMBER', \n",
    "    'PRODUCT_NAME', \n",
    "    'PRODUCT_IMAGE', \n",
    "    'DESCRIPTION', \n",
    "    'PRODUCT_TYPE_CODE', \n",
    "    'INTRODUCTION_DATE', \n",
    "    'PRODUCTION_COST', \n",
    "    'MARGIN', \n",
    "    'LANGUAGE'\n",
    "]]\n",
    "product.to_sql('PRODUCT', sqlite_conn, if_exists='replace', index=False)"
   ]
  },
  {
   "cell_type": "code",
   "execution_count": 9,
   "metadata": {},
   "outputs": [
    {
     "data": {
      "text/plain": [
       "102"
      ]
     },
     "execution_count": 9,
     "metadata": {},
     "output_type": "execute_result"
    }
   ],
   "source": [
    "# SALES_STAFF\n",
    "sales_staff = pd.read_sql_query('SELECT * FROM SALES_STAFF', go_staff_conn)\n",
    "sales_branch = pd.read_sql_query('SELECT * FROM SALES_BRANCH', go_staff_conn)\n",
    "country = pd.read_sql_query('SELECT * FROM COUNTRY', go_sales_conn)\n",
    "\n",
    "sales_staff = sales_staff[['SALES_STAFF_CODE', 'FIRST_NAME', 'LAST_NAME', 'WORK_PHONE', 'EMAIL', 'FAX', 'SALES_BRANCH_CODE', 'POSITION_EN', 'DATE_HIRED', 'EXTENSION']]\n",
    "sales_branch = sales_branch[['SALES_BRANCH_CODE', 'ADDRESS1', 'ADDRESS2', 'CITY', 'REGION', 'POSTAL_ZONE', 'COUNTRY_CODE']]\n",
    "country = country[['COUNTRY_CODE', 'COUNTRY', 'LANGUAGE', 'CURRENCY_NAME']]\n",
    "\n",
    "sales_staff = pd.merge(sales_staff, sales_branch, how='inner', left_on='SALES_BRANCH_CODE', right_on='SALES_BRANCH_CODE')\n",
    "sales_staff = pd.merge(sales_staff, country, how='inner', left_on='COUNTRY_CODE', right_on='COUNTRY_CODE')\n",
    "\n",
    "sales_staff.to_sql('SALES_STAFF', sqlite_conn, if_exists='replace', index=False)"
   ]
  },
  {
   "cell_type": "code",
   "execution_count": 10,
   "metadata": {},
   "outputs": [
    {
     "data": {
      "text/plain": [
       "2082"
      ]
     },
     "execution_count": 10,
     "metadata": {},
     "output_type": "execute_result"
    }
   ],
   "source": [
    "# RETAILER_CONTACT\n",
    "retailer_contact = pd.read_sql_query('SELECT * FROM RETAILER_CONTACT', go_crm_conn)\n",
    "retailer_site = pd.read_sql_query('SELECT * FROM RETAILER_SITE', go_crm_conn)\n",
    "country_retailer_site = pd.read_sql_query('SELECT * FROM COUNTRY', go_crm_conn)\n",
    "sales_territory_retailer_site = pd.read_sql_query('SELECT * FROM SALES_TERRITORY', go_crm_conn)\n",
    "retailer = pd.read_sql_query('SELECT * FROM RETAILER', go_crm_conn)\n",
    "retailer_type = pd.read_sql_query('SELECT * FROM RETAILER_TYPE', go_crm_conn)\n",
    "retailer_headquarters = pd.read_sql_query('SELECT * FROM RETAILER_HEADQUARTERS', go_crm_conn)\n",
    "country_retailer_headquarters = pd.read_sql_query('SELECT * FROM COUNTRY', go_crm_conn)\n",
    "sales_territory_retailer_headquarters = pd.read_sql_query('SELECT * FROM SALES_TERRITORY', go_crm_conn)\n",
    "retailer_segment = pd.read_sql_query('SELECT * FROM RETAILER_SEGMENT', go_crm_conn)\n",
    "sales_demographic = pd.read_sql_query('SELECT * FROM SALES_DEMOGRAPHIC', go_crm_conn)\n",
    "age_group = pd.read_sql_query('SELECT * FROM AGE_GROUP', go_crm_conn)\n",
    "\n",
    "\n",
    "# Selecteer alleen de kolommen die we nodig hebben en hernoem ze wanneer nodig\n",
    "retailer_contact = retailer_contact[['RETAILER_CONTACT_CODE', 'RETAILER_SITE_CODE', 'FIRST_NAME', 'LAST_NAME', 'JOB_POSITION_EN', 'EXTENSION', 'FAX', 'E_MAIL', 'GENDER']].rename(columns={'FAX': 'FAX_retailer_contact'})\n",
    "\n",
    "retailer_site = retailer_site[['RETAILER_SITE_CODE', 'RETAILER_CODE', 'ADDRESS1', 'ADDRESS2', 'CITY', 'REGION', 'POSTAL_ZONE', 'COUNTRY_CODE', 'ACTIVE_INDICATOR']].rename(columns={'ADDRESS1': 'ADDRESS1_retailer_site', 'ADDRESS2': 'ADDRESS2_retailer_site', 'CITY': 'CITY_retailer_site', 'REGION': 'REGION_retailer_site', 'POSTAL_ZONE': 'POSTAL_ZONE_retailer_site'})\n",
    "country_retailer_site = country_retailer_site[['COUNTRY_CODE', 'COUNTRY_EN', 'FLAG_IMAGE', 'SALES_TERRITORY_CODE']].rename(columns={'COUNTRY_EN': 'COUNTRY_EN_retailer_site', 'FLAG_IMAGE': 'FLAG_IMAGE_retailer_site', 'SALES_TERRITORY_CODE': 'SALES_TERRITORY_CODE_retailer_site'})\n",
    "sales_territory_retailer_site = sales_territory_retailer_site[['SALES_TERRITORY_CODE', 'TERRITORY_NAME_EN']].rename(columns={'SALES_TERRITORY_CODE': 'SALES_TERRITORY_CODE_retailer_site', 'TERRITORY_NAME_EN': 'TERRITORY_NAME_EN_retailer_site'})\n",
    "\n",
    "retailer = retailer[['RETAILER_CODE', 'RETAILER_CODEMR', 'COMPANY_NAME', 'RETAILER_TYPE_CODE']]\n",
    "retailer_type = retailer_type[['RETAILER_TYPE_CODE', 'RETAILER_TYPE_EN']]\n",
    "\n",
    "retailer_headquarters = retailer_headquarters[['RETAILER_CODEMR', 'RETAILER_NAME', 'ADDRESS1', 'ADDRESS2', 'CITY', 'REGION', 'POSTAL_ZONE', 'COUNTRY_CODE', 'PHONE', 'FAX', 'SEGMENT_CODE']].rename(columns={'FAX': 'FAX_retailer_headquarters', 'ADDRESS1': 'ADDRESS1_retailer_headquarters', 'ADDRESS2': 'ADDRESS2_retailer_headquarters', 'CITY': 'CITY_retailer_headquarters', 'REGION': 'REGION_retailer_headquarters', 'POSTAL_ZONE': 'POSTAL_ZONE_retailer_headquarters'})\n",
    "country_retailer_headquarters = country_retailer_headquarters[['COUNTRY_CODE', 'COUNTRY_EN', 'FLAG_IMAGE', 'SALES_TERRITORY_CODE']].rename(columns={'COUNTRY_EN': 'COUNTRY_EN_retailer_headquarters', 'FLAG_IMAGE': 'FLAG_IMAGE_retailer_headquarters', 'SALES_TERRITORY_CODE': 'SALES_TERRITORY_CODE_retailer_headquarters'})\n",
    "sales_territory_retailer_headquarters = sales_territory_retailer_headquarters[['SALES_TERRITORY_CODE', 'TERRITORY_NAME_EN']].rename(columns={'SALES_TERRITORY_CODE': 'SALES_TERRITORY_CODE_retailer_headquarters', 'TERRITORY_NAME_EN': 'TERRITORY_NAME_EN_retailer_headquarters'})\n",
    "retailer_segment = retailer_segment[['SEGMENT_CODE', 'LANGUAGE', 'SEGMENT_NAME', 'SEGMENT_DESCRIPTION']]\n",
    "sales_demographic = sales_demographic[['DEMOGRAPHIC_CODE', 'RETAILER_CODEMR', 'AGE_GROUP_CODE', 'SALES_PERCENT']]\n",
    "age_group = age_group[['AGE_GROUP_CODE', 'UPPER_AGE', 'LOWER_AGE']]\n",
    "\n",
    "\n",
    "# Merge alle tabellen\n",
    "retailer_site = pd.merge(retailer_site, country_retailer_site, how='inner', on='COUNTRY_CODE').rename(columns={'COUNTRY_CODE': 'COUNTRY_CODE_retailer_site'})\n",
    "retailer_site = pd.merge(retailer_site, sales_territory_retailer_site, how='inner', on='SALES_TERRITORY_CODE_retailer_site', suffixes=('', '_retailer_site'))\n",
    "retailer_contact = pd.merge(retailer_contact, retailer_site, how='inner', on='RETAILER_SITE_CODE')\n",
    "retailer_contact = pd.merge(retailer_contact, retailer, how='inner', on='RETAILER_CODE')\n",
    "retailer_contact = pd.merge(retailer_contact, retailer_type, how='inner', on='RETAILER_TYPE_CODE')\n",
    "retailer_contact = pd.merge(retailer_contact, retailer_headquarters, how='inner', on='RETAILER_CODEMR')\n",
    "retailer_contact = pd.merge(retailer_contact, country_retailer_headquarters, how='inner', on='COUNTRY_CODE').rename(columns={'COUNTRY_CODE': 'COUNTRY_CODE_retailer_headquarters'})\n",
    "retailer_contact = pd.merge(retailer_contact, sales_territory_retailer_headquarters, how='inner', on='SALES_TERRITORY_CODE_retailer_headquarters')\n",
    "retailer_contact = pd.merge(retailer_contact, retailer_segment, how='inner', on='SEGMENT_CODE')\n",
    "retailer_contact = pd.merge(retailer_contact, sales_demographic, how='inner', on='RETAILER_CODEMR')\n",
    "retailer_contact = pd.merge(retailer_contact, age_group, how='inner', on='AGE_GROUP_CODE')\n",
    "\n",
    "\n",
    "# Naar SQLite voor visuele debugging\n",
    "retailer_contact.to_sql('RETAILER_CONTACT', sqlite_conn, if_exists='replace', index=False)"
   ]
  },
  {
   "cell_type": "markdown",
   "metadata": {},
   "source": [
    "### Dataframes --> SSMS"
   ]
  },
  {
   "cell_type": "code",
   "execution_count": 11,
   "metadata": {},
   "outputs": [],
   "source": [
    "# RETURNED_REASON\n",
    "for index, row in returned_reason.iterrows():\n",
    "    try:\n",
    "        query = f\"INSERT INTO dbo.RETURN_REASON VALUES ({row['RETURN_REASON_CODE']}, '{row['RETURN_DESCRIPTION_EN']}')\"\n",
    "        ssms_cursor.execute(query)\n",
    "        ssms_conn.commit()\n",
    "    except Exception as e:\n",
    "        print(e)\n",
    "        ssms_conn.rollback()\n",
    "        break"
   ]
  },
  {
   "cell_type": "code",
   "execution_count": 12,
   "metadata": {},
   "outputs": [],
   "source": [
    "# ORDER_METHOD\n",
    "for index, row in order_method.iterrows():\n",
    "    try:\n",
    "        query = f\"INSERT INTO dbo.ORDER_METHOD VALUES ({row['ORDER_METHOD_CODE']}, '{row['ORDER_METHOD_EN']}')\"\n",
    "        ssms_cursor.execute(query)\n",
    "        ssms_conn.commit()\n",
    "    except Exception as e:\n",
    "        print(e)\n",
    "        ssms_conn.rollback()\n",
    "        break"
   ]
  },
  {
   "cell_type": "code",
   "execution_count": 13,
   "metadata": {},
   "outputs": [],
   "source": [
    "# COURSE\n",
    "for index, row in course.iterrows():\n",
    "    try:\n",
    "        query = f\"INSERT INTO dbo.COURSE VALUES ({row['COURSE_CODE']}, '{row['COURSE_DESCRIPTION']}')\"\n",
    "        ssms_cursor.execute(query)\n",
    "        ssms_conn.commit()\n",
    "    except Exception as e:\n",
    "        print(e)\n",
    "        ssms_conn.rollback()\n",
    "        break"
   ]
  },
  {
   "cell_type": "code",
   "execution_count": 14,
   "metadata": {},
   "outputs": [],
   "source": [
    "# SATISFACTION_TYPE\n",
    "for index, row in satisfaction_type.iterrows():\n",
    "    try:\n",
    "        query = f\"INSERT INTO dbo.SATISFACTION_TYPE VALUES ({row['SATISFACTION_TYPE_CODE']}, '{row['SATISFACTION_TYPE_DESCRIPTION']}')\"\n",
    "        ssms_cursor.execute(query)\n",
    "        ssms_conn.commit()\n",
    "    except Exception as e:\n",
    "        print(e)\n",
    "        ssms_conn.rollback()\n",
    "        break"
   ]
  },
  {
   "cell_type": "code",
   "execution_count": 15,
   "metadata": {},
   "outputs": [],
   "source": [
    "# PRODUCT\n",
    "for index, row in product.iterrows():\n",
    "    try:\n",
    "        introduction_date = pd.to_datetime(row['INTRODUCTION_DATE'], dayfirst=True).strftime('%Y-%m-%d')\n",
    "        query = f\"\"\"\n",
    "        INSERT INTO dbo.PRODUCT \n",
    "        (product_product_id, product_name, product_image, product_line_name, product_type_name, product_introduction_date, product_cost, product_margin, product_language) \n",
    "        VALUES \n",
    "        ({row['PRODUCT_NUMBER']}, '{row['PRODUCT_NAME']}', '{row['PRODUCT_IMAGE']}', '', '{row['PRODUCT_TYPE_CODE']}', '{introduction_date}', '{row['PRODUCTION_COST']}', {row['MARGIN']}, '{row['LANGUAGE']}')\n",
    "        \"\"\"\n",
    "        ssms_cursor.execute(query)\n",
    "        ssms_conn.commit()\n",
    "    except Exception as e:\n",
    "        print(e)\n",
    "        ssms_conn.rollback()\n",
    "        break"
   ]
  },
  {
   "cell_type": "code",
   "execution_count": 16,
   "metadata": {},
   "outputs": [],
   "source": [
    "# SALES_STAFF\n",
    "for index, row in sales_staff.iterrows():\n",
    "    try:\n",
    "        date_hired = pd.to_datetime(row['DATE_HIRED'], format='%d-%b-%Y %I:%M:%S %p').strftime('%Y-%m-%d')\n",
    "        extension = 'NULL' if pd.isnull(row['EXTENSION']) else f\"'{row['EXTENSION']}'\"\n",
    "        address1 = row['ADDRESS1'].replace(\"'\", \"''\")  # Escape single quotes\n",
    "        address2 = 'NULL' if pd.isnull(row['ADDRESS2']) else f\"'{row['ADDRESS2'].replace(\"'\", \"''\")}'\"  # Escape single quotes\n",
    "        city = row['CITY'].replace(\"'\", \"''\")  # Escape single quotes\n",
    "        region = 'NULL' if pd.isnull(row['REGION']) else f\"'{row['REGION'].replace(\"'\", \"''\")}'\"  # Escape single quotes\n",
    "        postal_zone = row['POSTAL_ZONE'].replace(\"'\", \"''\")  # Escape single quotes\n",
    "        country = row['COUNTRY'].replace(\"'\", \"''\")  # Escape single quotes\n",
    "        language = row['LANGUAGE'].replace(\"'\", \"''\")  # Escape single quotes\n",
    "        currency_name = row['CURRENCY_NAME'].replace(\"'\", \"''\")  # Escape single quotes\n",
    "        query = f\"\"\"\n",
    "        INSERT INTO dbo.SALES_STAFF \n",
    "        (sales_staff_id, first_name, last_name, phone, email, fax, position_en, date_hired, extension, sales_branch_id, sales_branch_address1, sales_branch_address2, sales_branch_city, sales_branch_region, sales_branch_postal_zone, country_id, country_name, country_language, country_currency) \n",
    "        VALUES \n",
    "        ({row['SALES_STAFF_CODE']}, '{row['FIRST_NAME']}', '{row['LAST_NAME']}', '{row['WORK_PHONE']}', '{row['EMAIL']}', '{row['FAX']}', '{row['POSITION_EN']}', '{date_hired}', {extension}, '{row['SALES_BRANCH_CODE']}', '{address1}', {address2}, '{city}', {region}, '{postal_zone}', '{row['COUNTRY_CODE']}', '{country}', '{language}', '{currency_name}')\n",
    "        \"\"\"\n",
    "        ssms_cursor.execute(query)\n",
    "        ssms_conn.commit()\n",
    "    except Exception as e:\n",
    "        print(e)\n",
    "        ssms_conn.rollback()\n",
    "        break"
   ]
  },
  {
   "cell_type": "code",
   "execution_count": 17,
   "metadata": {},
   "outputs": [],
   "source": [
    "# RETAILER_CONTACT\n",
    "for index, row in retailer_contact.iterrows():\n",
    "    try:\n",
    "        extension = row['EXTENSION'] if row['EXTENSION'] is not None else ''\n",
    "        last_name = row['LAST_NAME'].replace(\"'\", \"''\") if row['LAST_NAME'] is not None else ''\n",
    "        city_retailer_site = row['CITY_retailer_site'].replace(\"'\", \"''\") if row['CITY_retailer_site'] is not None else ''\n",
    "        address1_retailer_site = row['ADDRESS1_retailer_site'].replace(\"'\", \"''\") if row['ADDRESS1_retailer_site'] is not None else ''\n",
    "        address2_retailer_site = row['ADDRESS2_retailer_site'].replace(\"'\", \"''\") if row['ADDRESS2_retailer_site'] is not None else ''\n",
    "        address1_retailer_headquarters = row['ADDRESS1_retailer_headquarters'].replace(\"'\", \"''\") if row['ADDRESS1_retailer_headquarters'] is not None else ''\n",
    "        address2_retailer_headquarters = row['ADDRESS2_retailer_headquarters'].replace(\"'\", \"''\") if row['ADDRESS2_retailer_headquarters'] is not None else ''\n",
    "        company_name = row['COMPANY_NAME'].replace(\"'\", \"''\") if row['COMPANY_NAME'] is not None else ''\n",
    "        retailer_name = row['RETAILER_NAME'].replace(\"'\", \"''\") if row['RETAILER_NAME'] is not None else ''\n",
    "\n",
    "        query = f\"\"\"\n",
    "        INSERT INTO [johari].[dbo].[RETAILER_CONTACT]\n",
    "        (\n",
    "            [id],\n",
    "            [first_name],\n",
    "            [last_name],\n",
    "            [job_position_en],\n",
    "            [extension],\n",
    "            [fax],\n",
    "            [email],\n",
    "            [gender],\n",
    "            [retailer_site_id],\n",
    "            [retailer_site_address1],\n",
    "            [retailer_site_address2],\n",
    "            [retailer_site_city],\n",
    "            [retailer_site_region],\n",
    "            [retailer_site_postal_zone],\n",
    "            [retailer_site_country_id],\n",
    "            [retailer_site_country_en],\n",
    "            [retailer_site_flag_image],\n",
    "            [retailer_site_sales_territory_id],\n",
    "            [retailer_site_sales_territory_name_en],\n",
    "            [retailer_id],\n",
    "            [retailer_codemr],\n",
    "            [retailer_company_name],\n",
    "            [retailer_type_id],\n",
    "            [retailer_type_type_en],\n",
    "            [retailer_headquarters_id],\n",
    "            [retailer_headquarters_name],\n",
    "            [retailer_headquarters_address1],\n",
    "            [retailer_headquarters_address2],\n",
    "            [retailer_headquarters_city],\n",
    "            [retailer_headquarters_region],\n",
    "            [retailer_headquarters_postal_zone],\n",
    "            [retailer_headquarters_phone],\n",
    "            [retailer_headquarters_fax],\n",
    "            [retailer_headquarters_segment_id],\n",
    "            [retailer_segment_language],\n",
    "            [retailer_segment_name],\n",
    "            [retailer_segment_description],\n",
    "            [retailer_headquarters_country_id],\n",
    "            [retailer_headquarters_country_en],\n",
    "            [retailer_headquarters_flag_image],\n",
    "            [retailer_headquarters_sales_territory_id],\n",
    "            [retailer_headquarters_sales_territory_name_en],\n",
    "            [sales_demographic_id],\n",
    "            [sales_demographic_codemr],\n",
    "            [sales_demographic_sales_percent],\n",
    "            [sales_demographic_age_group_id],\n",
    "            [age_group_id],\n",
    "            [age_group_upper_age],\n",
    "            [age_group_lower_age]\n",
    "        )\n",
    "        VALUES\n",
    "        (\n",
    "            {row['RETAILER_CONTACT_CODE']},\n",
    "            '{row['FIRST_NAME']}',\n",
    "            '{last_name}',\n",
    "            '{row['JOB_POSITION_EN']}',\n",
    "            '{extension}',\n",
    "            '{row['FAX_retailer_contact']}',\n",
    "            '{row['E_MAIL']}',\n",
    "            '{row['GENDER']}',\n",
    "            '{row['RETAILER_SITE_CODE']}',\n",
    "            '{address1_retailer_site}',\n",
    "            '{address2_retailer_site}',\n",
    "            '{city_retailer_site}',\n",
    "            '{row['REGION_retailer_site']}',\n",
    "            '{row['POSTAL_ZONE_retailer_site']}',\n",
    "            '{row['COUNTRY_CODE_retailer_site']}',\n",
    "            '{row['COUNTRY_EN_retailer_site']}',\n",
    "            '{row['FLAG_IMAGE_retailer_site']}',\n",
    "            '{row['SALES_TERRITORY_CODE_retailer_site']}',\n",
    "            '{row['TERRITORY_NAME_EN_retailer_site']}',\n",
    "            '{row['RETAILER_CODE']}',\n",
    "            '{row['RETAILER_CODEMR']}',\n",
    "            '{company_name}',\n",
    "            '{row['RETAILER_TYPE_CODE']}',\n",
    "            '{row['RETAILER_TYPE_EN']}',\n",
    "            '{row['RETAILER_CODEMR']}',\n",
    "            '{retailer_name}',\n",
    "            '{address1_retailer_headquarters}',\n",
    "            '{address2_retailer_headquarters}',\n",
    "            '{row['CITY_retailer_headquarters']}',\n",
    "            '{row['REGION_retailer_headquarters']}',\n",
    "            '{row['POSTAL_ZONE_retailer_headquarters']}',\n",
    "            '{row['PHONE']}',\n",
    "            '{row['FAX_retailer_headquarters']}',\n",
    "            '{row['SEGMENT_CODE']}',\n",
    "            '{row['LANGUAGE']}',\n",
    "            '{row['SEGMENT_NAME']}',\n",
    "            '{row['SEGMENT_DESCRIPTION']}',\n",
    "            '{row['COUNTRY_CODE_retailer_headquarters']}',\n",
    "            '{row['COUNTRY_EN_retailer_headquarters']}',\n",
    "            '{row['FLAG_IMAGE_retailer_headquarters']}',\n",
    "            '{row['SALES_TERRITORY_CODE_retailer_headquarters']}',\n",
    "            '{row['TERRITORY_NAME_EN_retailer_headquarters']}',\n",
    "            '{row['DEMOGRAPHIC_CODE']}',\n",
    "            '{row['RETAILER_CODEMR']}',\n",
    "            '{row['SALES_PERCENT']}',\n",
    "            '{row['AGE_GROUP_CODE']}',\n",
    "            '{row['AGE_GROUP_CODE']}',\n",
    "            '{row['UPPER_AGE']}',\n",
    "            '{row['LOWER_AGE']}'\n",
    "        )\n",
    "        \"\"\"\n",
    "        ssms_cursor.execute(query)\n",
    "        ssms_conn.commit()\n",
    "    except Exception as e:\n",
    "        print(e)\n",
    "        print(row)\n",
    "        ssms_conn.rollback()\n",
    "        break"
   ]
  }
 ],
 "metadata": {
  "kernelspec": {
   "display_name": "Python 3",
   "language": "python",
   "name": "python3"
  },
  "language_info": {
   "codemirror_mode": {
    "name": "ipython",
    "version": 3
   },
   "file_extension": ".py",
   "mimetype": "text/x-python",
   "name": "python",
   "nbconvert_exporter": "python",
   "pygments_lexer": "ipython3",
   "version": "3.12.3"
  }
 },
 "nbformat": 4,
 "nbformat_minor": 2
}
