{
 "cells": [
  {
   "cell_type": "markdown",
   "metadata": {},
   "source": [
    "# Imports & Connections"
   ]
  },
  {
   "cell_type": "code",
   "execution_count": 1,
   "metadata": {},
   "outputs": [],
   "source": [
    "import pandas as pd\n",
    "import pyodbc\n",
    "import sqlite3\n",
    "import numpy as np"
   ]
  },
  {
   "cell_type": "code",
   "execution_count": 4,
   "metadata": {},
   "outputs": [
    {
     "name": "stderr",
     "output_type": "stream",
     "text": [
      "<>:1: SyntaxWarning: invalid escape sequence '\\S'\n",
      "<>:1: SyntaxWarning: invalid escape sequence '\\S'\n",
      "C:\\Users\\Noah\\AppData\\Local\\Temp\\ipykernel_164528\\1463935337.py:1: SyntaxWarning: invalid escape sequence '\\S'\n",
      "  DB = {'servername': 'DESKTOP-IT4OHPV\\SQLEXPRESS',\n"
     ]
    },
    {
     "data": {
      "text/plain": [
       "<pyodbc.Cursor at 0x19ac12f07b0>"
      ]
     },
     "execution_count": 4,
     "metadata": {},
     "output_type": "execute_result"
    }
   ],
   "source": [
    "DB = {'servername': 'DESKTOP-IT4OHPV\\SQLEXPRESS',\n",
    "    'database': 'johari_Herkansing2'}\n",
    "\n",
    "ssms_conn = pyodbc.connect('DRIVER={SQL Server};SERVER=' + DB['servername'] + \n",
    "                     ';DATABASE=' + DB['database'] + ';Trusted_Connection=yes')\n",
    "conn = ssms_conn.cursor()\n",
    "conn"
   ]
  },
  {
   "cell_type": "code",
   "execution_count": 3,
   "metadata": {},
   "outputs": [],
   "source": [
    "# Lokale connecties\n",
    "sqlite_conn = sqlite3.connect('../data/processed/dwh.sqlite')\n",
    "go_sales_conn = sqlite3.connect('../data/raw/go_sales.sqlite')\n",
    "go_staff_conn = sqlite3.connect('../data/raw/go_staff.sqlite')\n",
    "go_crm_conn = sqlite3.connect('../data/raw/go_crm.sqlite')"
   ]
  },
  {
   "cell_type": "markdown",
   "metadata": {},
   "source": [
    "# Surrogate Key Creation"
   ]
  },
  {
   "cell_type": "code",
   "execution_count": null,
   "metadata": {},
   "outputs": [],
   "source": [
    "def add_surrogate_key(conn, table_name):\n",
    "    cursor = conn.cursor()\n",
    "    cursor.execute(f\"ALTER TABLE {table_name} ADD COLUMN SK INT IDENTITY(1,1) PRIMARY KEY;\")\n",
    "    conn.commit()"
   ]
  },
  {
   "cell_type": "markdown",
   "metadata": {},
   "source": [
    "# Foreign Surrogate Key Creation"
   ]
  },
  {
   "cell_type": "code",
   "execution_count": null,
   "metadata": {},
   "outputs": [],
   "source": [
    "def populate_foreign_keys(conn, fact_table, dim_table, natural_key, foreign_key_column):\n",
    "    cursor = conn.cursor()\n",
    "    # This SQL statement assumes that the natural_key uniquely identifies records in the dimension table\n",
    "    sql = f\"\"\"\n",
    "    UPDATE {fact_table}\n",
    "    SET {foreign_key_column} = (\n",
    "        SELECT SK\n",
    "        FROM {dim_table}\n",
    "        WHERE {dim_table}.{natural_key} = {fact_table}.{natural_key}\n",
    "    )\n",
    "    \"\"\"\n",
    "    cursor.execute(sql)\n",
    "    conn.commit()"
   ]
  },
  {
   "cell_type": "markdown",
   "metadata": {},
   "source": [
    "# Simulate Slowly Changing Dimensions Type 2"
   ]
  },
  {
   "cell_type": "code",
   "execution_count": null,
   "metadata": {},
   "outputs": [],
   "source": [
    "# Example usage\n",
    "add_surrogate_key(conn, 'dim_customer')\n",
    "add_surrogate_key(conn, 'dim_product')\n",
    "\n",
    "# Assuming 'customer_id' and 'product_id' are natural keys in their respective dimension tables\n",
    "# and 'customer_sk' and 'product_sk' are the columns in the fact table to hold the foreign surrogate keys\n",
    "populate_foreign_keys(conn, 'fact_sales', 'dim_customer', 'customer_id', 'customer_sk')\n",
    "populate_foreign_keys(conn, 'fact_sales', 'dim_product', 'product_id', 'product_sk')"
   ]
  }
 ],
 "metadata": {
  "kernelspec": {
   "display_name": "Python 3",
   "language": "python",
   "name": "python3"
  },
  "language_info": {
   "codemirror_mode": {
    "name": "ipython",
    "version": 3
   },
   "file_extension": ".py",
   "mimetype": "text/x-python",
   "name": "python",
   "nbconvert_exporter": "python",
   "pygments_lexer": "ipython3",
   "version": "3.12.0"
  }
 },
 "nbformat": 4,
 "nbformat_minor": 2
}
