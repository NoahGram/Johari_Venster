{
 "cells": [
  {
   "cell_type": "markdown",
   "metadata": {},
   "source": [
    "# Imports & Connections"
   ]
  },
  {
   "cell_type": "code",
   "execution_count": 5,
   "metadata": {},
   "outputs": [],
   "source": [
    "import pandas as pd\n",
    "import pyodbc\n",
    "import sqlite3\n",
    "import numpy as np"
   ]
  },
  {
   "cell_type": "code",
   "execution_count": 6,
   "metadata": {},
   "outputs": [
    {
     "name": "stderr",
     "output_type": "stream",
     "text": [
      "<>:2: SyntaxWarning: invalid escape sequence '\\S'\n",
      "<>:2: SyntaxWarning: invalid escape sequence '\\S'\n",
      "C:\\Users\\Noah\\AppData\\Local\\Temp\\ipykernel_108112\\2725324115.py:2: SyntaxWarning: invalid escape sequence '\\S'\n",
      "  'servername': 'DESKTOP-IT4OHPV\\SQLEXPRESS',\n"
     ]
    }
   ],
   "source": [
    "DB = {\n",
    "    'servername': 'DESKTOP-IT4OHPV\\SQLEXPRESS',\n",
    "    'database': 'johari_Herkansing_NEW'\n",
    "}\n",
    "\n",
    "ssms_conn = pyodbc.connect('DRIVER={SQL Server};SERVER=' + DB['servername'] + \n",
    "                     ';DATABASE=' + DB['database'] + ';Trusted_Connection=yes')"
   ]
  },
  {
   "cell_type": "code",
   "execution_count": 7,
   "metadata": {},
   "outputs": [
    {
     "name": "stderr",
     "output_type": "stream",
     "text": [
      "C:\\Users\\Noah\\AppData\\Local\\Temp\\ipykernel_108112\\1395309261.py:9: UserWarning: pandas only supports SQLAlchemy connectable (engine/connection) or database string URI or sqlite3 DBAPI2 connection. Other DBAPI2 objects are not tested. Please consider using SQLAlchemy.\n",
      "  fact_dfs = {table: pd.read_sql(f'SELECT * FROM {table}', ssms_conn) for table in fact_tables}\n",
      "C:\\Users\\Noah\\AppData\\Local\\Temp\\ipykernel_108112\\1395309261.py:13: UserWarning: pandas only supports SQLAlchemy connectable (engine/connection) or database string URI or sqlite3 DBAPI2 connection. Other DBAPI2 objects are not tested. Please consider using SQLAlchemy.\n",
      "  dim_dfs = {table: pd.read_sql(f'SELECT * FROM {table}', ssms_conn) for table in dim_tables}\n"
     ]
    }
   ],
   "source": [
    "# Local Connections\n",
    "sqlite_conn = sqlite3.connect('../data/processed/dwh.sqlite')\n",
    "go_sales_conn = sqlite3.connect('../data/raw/go_sales.sqlite')\n",
    "go_staff_conn = sqlite3.connect('../data/raw/go_staff.sqlite')\n",
    "go_crm_conn = sqlite3.connect('../data/raw/go_crm.sqlite')\n",
    "\n",
    "# Fact tables\n",
    "fact_tables = ['training', 'satisfaction', 'returned_item', 'orders', 'sales_targetData', 'sales_product_forecast', 'sales_inventory_levels']\n",
    "fact_dfs = {table: pd.read_sql(f'SELECT * FROM {table}', ssms_conn) for table in fact_tables}\n",
    "\n",
    "# Dimension tables\n",
    "dim_tables = ['product', 'sales_staff', 'course', 'satisfaction_type', 'return_reason', 'order_method', 'retailer_contact']\n",
    "dim_dfs = {table: pd.read_sql(f'SELECT * FROM {table}', ssms_conn) for table in dim_tables}\n",
    "\n",
    "# Test Output\n",
    "orders_df = fact_dfs['orders']\n",
    "product_df = dim_dfs['product']\n",
    "#product_df.head()"
   ]
  },
  {
   "cell_type": "markdown",
   "metadata": {},
   "source": [
    "# Surrogate Key Creation"
   ]
  },
  {
   "cell_type": "code",
   "execution_count": 8,
   "metadata": {},
   "outputs": [],
   "source": [
    "# Function to add surrogate key to dimension tables\n",
    "def add_surrogate_key(conn, table_name):\n",
    "    cursor = conn.cursor()\n",
    "    # Add SK column\n",
    "    cursor.execute(f\"ALTER TABLE {table_name} ADD SK INT IDENTITY(1,1);\")\n",
    "    # Add EffectiveDate column\n",
    "    cursor.execute(f\"ALTER TABLE {table_name} ADD EffectiveDate DATETIME NOT NULL DEFAULT GETDATE();\")\n",
    "    # Add EndDate column\n",
    "    cursor.execute(f\"ALTER TABLE {table_name} ADD EndDate DATETIME NULL;\")\n",
    "    # Add IsActive column\n",
    "    cursor.execute(f\"ALTER TABLE {table_name} ADD IsActive BIT NOT NULL DEFAULT 1;\")\n",
    "    conn.commit()\n",
    "\n",
    "# Add surrogate keys to dimension tables\n",
    "#for table in dim_tables:\n",
    "    #add_surrogate_key(ssms_conn, table)"
   ]
  },
  {
   "cell_type": "markdown",
   "metadata": {},
   "source": [
    "# Foreign Surrogate Key Creation"
   ]
  },
  {
   "cell_type": "code",
   "execution_count": 13,
   "metadata": {},
   "outputs": [],
   "source": [
    "# Function to add surrogate foreign key columns to fact tables\n",
    "def add_surrogate_foreign_key_columns(conn, fact_table, key_mappings):\n",
    "    cursor = conn.cursor()\n",
    "    for _, (fact_table, foreign_key_column) in key_mappings.items():\n",
    "        cursor.execute(f\"ALTER TABLE {fact_table} ADD {foreign_key_column} INT;\")\n",
    "    conn.commit()\n",
    "\n",
    "# Add surrogate foreign key columns to fact tables\n",
    "for fact_table in fact_tables:\n",
    "    if fact_table == 'orders':\n",
    "        key_mappings = {\n",
    "            #Orders\n",
    "            #'PRODUCT_id': ('orders', 'PRODUCT_SFK'),\n",
    "            #'ORDER_METHOD_id': ('orders', 'ORDER_METHOD_SFK'),\n",
    "            #'RETAILER_CONTACT_id': ('orders', 'RETAILER_CONTACT_SFK'),\n",
    "            #'RETURNED_REASON': ('orders', 'RETURNED_REASON_SFK'),\n",
    "\n",
    "            #Sales_targetData\n",
    "            'PRODUCT_id': ('sales_targetData', 'PRODUCT_SFK'),\n",
    "            'SALES_STAFF_id': ('sales_targetData', 'SALES_STAFF_SFK'),\n",
    "            'COURSE_id': ('sales_targetData', 'COURSE_SFK'),\n",
    "        }\n",
    "        add_surrogate_foreign_key_columns(ssms_conn, fact_table, key_mappings)\n",
    "\n",
    "# Function to populate foreign keys in fact tables\n",
    "def populate_foreign_keys(conn, fact_table, dim_table, natural_key, foreign_key_column, sfk_column):\n",
    "    cursor = conn.cursor()\n",
    "    # Adjusted SQL statement to correctly match and update SFKs\n",
    "    sql = f\"\"\"\n",
    "    UPDATE {fact_table}\n",
    "    SET {sfk_column} = (\n",
    "        SELECT {dim_table}.SK\n",
    "        FROM {dim_table}\n",
    "        WHERE {dim_table}.{natural_key} = {fact_table}.{foreign_key_column}\n",
    "    )\n",
    "    \"\"\"\n",
    "    cursor.execute(sql)\n",
    "    conn.commit()"
   ]
  },
  {
   "cell_type": "markdown",
   "metadata": {},
   "source": [
    "# Populate Foreign Surrogate Keys"
   ]
  },
  {
   "cell_type": "code",
   "execution_count": 14,
   "metadata": {},
   "outputs": [],
   "source": [
    "# Populate SFKs for the 'orders' fact table\n",
    "#populate_foreign_keys(ssms_conn, 'orders', 'product', 'id', 'product_id', 'PRODUCT_SFK')\n",
    "#populate_foreign_keys(ssms_conn, 'orders', 'order_method', 'order_method_id', 'order_method_code', 'ORDER_METHOD_SFK')\n",
    "#populate_foreign_keys(ssms_conn, 'orders', 'RETAILER_CONTACT', 'retailer_id', 'retailer_contact_code', 'RETAILER_CONTACT_SFK')\n",
    "#populate_foreign_keys(ssms_conn, 'orders', 'RETURN_REASON', 'return_reason_id', '', 'RETURNED_REASON_SFK')\n",
    "\n",
    "# Populate SFKs for the 'sales_targetData' fact table\n",
    "populate_foreign_keys(ssms_conn, 'sales_targetData', 'product', 'id', 'product_id', 'PRODUCT_SFK')\n",
    "populate_foreign_keys(ssms_conn, 'sales_targetData', 'sales_staff', 'sales_staff_id', 'staff_id', 'SALES_STAFF_SFK')\n",
    "#populate_foreign_keys(ssms_conn, 'sales_targetData', 'course', 'id', 'course_id', 'COURSE_SFK')"
   ]
  },
  {
   "cell_type": "markdown",
   "metadata": {},
   "source": [
    "# Simulate Slowly Changing Dimensions Type 2"
   ]
  },
  {
   "cell_type": "code",
   "execution_count": null,
   "metadata": {},
   "outputs": [],
   "source": [
    "# Step 1: Identify a Product to Update\n",
    "# Let's say we're updating the product with ProductID = 'P123'\n",
    "product_to_update = 'P123'\n",
    "\n",
    "# Step 2: Insert a New Record for the Updated Product\n",
    "# Assuming you have a function to generate a new unique SK\n",
    "new_sk = generate_new_sk()  # This is a placeholder for your SK generation logic\n",
    "updated_product_info = {\n",
    "    'ProductID': product_to_update,\n",
    "    'SK': new_sk,\n",
    "    'ProductName': 'Updated Product Name',  # Example of an update\n",
    "    'IsActive': 1,\n",
    "    'EffectiveDate': datetime.now(),\n",
    "    # Add other fields as necessary\n",
    "}\n",
    "# Append the new record to the product DataFrame\n",
    "product_df = product_df.append(updated_product_info, ignore_index=True)\n",
    "\n",
    "# Step 3: Update the IsActive Status of the Old Record\n",
    "product_df.loc[(product_df['ProductID'] == product_to_update) & (product_df['IsActive'] == 1) & (product_df['SK'] != new_sk), ['IsActive', 'EndDate']] = [0, datetime.now()]\n",
    "\n",
    "# Step 4: Update the PRODUCT_SFK in the orders Fact Table\n",
    "# This example assumes you want to update all orders for the product to reference the new product version\n",
    "orders_df.loc[orders_df['ProductID'] == product_to_update, 'PRODUCT_SFK'] = new_sk"
   ]
  },
  {
   "cell_type": "code",
   "execution_count": null,
   "metadata": {},
   "outputs": [],
   "source": [
    "# Close connections\n",
    "ssms_conn.close()\n",
    "sqlite_conn.close()\n",
    "go_sales_conn.close()\n",
    "go_staff_conn.close()\n",
    "go_crm_conn.close()"
   ]
  }
 ],
 "metadata": {
  "kernelspec": {
   "display_name": "Python 3",
   "language": "python",
   "name": "python3"
  },
  "language_info": {
   "codemirror_mode": {
    "name": "ipython",
    "version": 3
   },
   "file_extension": ".py",
   "mimetype": "text/x-python",
   "name": "python",
   "nbconvert_exporter": "python",
   "pygments_lexer": "ipython3",
   "version": "3.12.0"
  }
 },
 "nbformat": 4,
 "nbformat_minor": 2
}
