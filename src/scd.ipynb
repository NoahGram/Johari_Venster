{
 "cells": [
  {
   "cell_type": "markdown",
   "metadata": {},
   "source": [
    "# Imports & Connections"
   ]
  },
  {
   "cell_type": "code",
   "execution_count": 18,
   "metadata": {},
   "outputs": [],
   "source": [
    "import pandas as pd\n",
    "import pyodbc\n",
    "import sqlite3\n",
    "import numpy as np\n",
    "from datetime import datetime\n",
    "from sqlalchemy import create_engine"
   ]
  },
  {
   "cell_type": "code",
   "execution_count": 19,
   "metadata": {},
   "outputs": [
    {
     "name": "stderr",
     "output_type": "stream",
     "text": [
      "<>:2: SyntaxWarning: invalid escape sequence '\\S'\n",
      "<>:10: SyntaxWarning: invalid escape sequence '\\S'\n",
      "<>:2: SyntaxWarning: invalid escape sequence '\\S'\n",
      "<>:10: SyntaxWarning: invalid escape sequence '\\S'\n",
      "C:\\Users\\Noah\\AppData\\Local\\Temp\\ipykernel_56912\\207021866.py:2: SyntaxWarning: invalid escape sequence '\\S'\n",
      "  'servername': 'DESKTOP-IT4OHPV\\SQLEXPRESS',\n",
      "C:\\Users\\Noah\\AppData\\Local\\Temp\\ipykernel_56912\\207021866.py:10: SyntaxWarning: invalid escape sequence '\\S'\n",
      "  connection_string = \"mssql+pyodbc://@DESKTOP-IT4OHPV\\SQLEXPRESS/johari_Herkansing_NEW?driver=SQL+Server+Native+Client+11.0?trusted_connection=yes\"\n"
     ]
    }
   ],
   "source": [
    "DB = {\n",
    "    'servername': 'DESKTOP-IT4OHPV\\SQLEXPRESS',\n",
    "    'database': 'johari_Herkansing_NEW'\n",
    "}\n",
    "\n",
    "ssms_conn = pyodbc.connect('DRIVER={SQL Server};SERVER=' + DB['servername'] + \n",
    "                     ';DATABASE=' + DB['database'] + ';Trusted_Connection=yes')\n",
    "\n",
    "# Connection String (update with your details)\n",
    "connection_string = \"mssql+pyodbc://@DESKTOP-IT4OHPV\\SQLEXPRESS/johari_Herkansing_NEW?driver=SQL+Server+Native+Client+11.0?trusted_connection=yes\"\n",
    "ssms_cursor = ssms_conn.cursor()   \n",
    "\n",
    "# Create Engine\n",
    "engine = create_engine(connection_string)"
   ]
  },
  {
   "cell_type": "code",
   "execution_count": 20,
   "metadata": {},
   "outputs": [
    {
     "name": "stderr",
     "output_type": "stream",
     "text": [
      "C:\\Users\\Noah\\AppData\\Local\\Temp\\ipykernel_56912\\1395309261.py:9: UserWarning: pandas only supports SQLAlchemy connectable (engine/connection) or database string URI or sqlite3 DBAPI2 connection. Other DBAPI2 objects are not tested. Please consider using SQLAlchemy.\n",
      "  fact_dfs = {table: pd.read_sql(f'SELECT * FROM {table}', ssms_conn) for table in fact_tables}\n",
      "C:\\Users\\Noah\\AppData\\Local\\Temp\\ipykernel_56912\\1395309261.py:13: UserWarning: pandas only supports SQLAlchemy connectable (engine/connection) or database string URI or sqlite3 DBAPI2 connection. Other DBAPI2 objects are not tested. Please consider using SQLAlchemy.\n",
      "  dim_dfs = {table: pd.read_sql(f'SELECT * FROM {table}', ssms_conn) for table in dim_tables}\n"
     ]
    }
   ],
   "source": [
    "# Local Connections\n",
    "sqlite_conn = sqlite3.connect('../data/processed/dwh.sqlite')\n",
    "go_sales_conn = sqlite3.connect('../data/raw/go_sales.sqlite')\n",
    "go_staff_conn = sqlite3.connect('../data/raw/go_staff.sqlite')\n",
    "go_crm_conn = sqlite3.connect('../data/raw/go_crm.sqlite')\n",
    "\n",
    "# Fact tables\n",
    "fact_tables = ['training', 'satisfaction', 'returned_item', 'orders', 'sales_targetData', 'sales_product_forecast', 'sales_inventory_levels']\n",
    "fact_dfs = {table: pd.read_sql(f'SELECT * FROM {table}', ssms_conn) for table in fact_tables}\n",
    "\n",
    "# Dimension tables\n",
    "dim_tables = ['product', 'sales_staff', 'course', 'satisfaction_type', 'return_reason', 'order_method', 'retailer_contact']\n",
    "dim_dfs = {table: pd.read_sql(f'SELECT * FROM {table}', ssms_conn) for table in dim_tables}\n",
    "\n",
    "# Test Output\n",
    "orders_df = fact_dfs['orders']\n",
    "product_df = dim_dfs['product']\n",
    "#product_df.head()"
   ]
  },
  {
   "cell_type": "markdown",
   "metadata": {},
   "source": [
    "# Surrogate Key Creation"
   ]
  },
  {
   "cell_type": "code",
   "execution_count": null,
   "metadata": {},
   "outputs": [],
   "source": [
    "# Function to add surrogate key to dimension tables\n",
    "def add_surrogate_key(conn, table_name):\n",
    "    cursor = conn.cursor()\n",
    "    # Add SK column\n",
    "    cursor.execute(f\"ALTER TABLE {table_name} ADD SK INT IDENTITY(1,1);\")\n",
    "    # Add EffectiveDate column\n",
    "    cursor.execute(f\"ALTER TABLE {table_name} ADD EffectiveDate DATETIME NOT NULL DEFAULT GETDATE();\")\n",
    "    # Add EndDate column\n",
    "    cursor.execute(f\"ALTER TABLE {table_name} ADD EndDate DATETIME NULL;\")\n",
    "    # Add IsActive column\n",
    "    cursor.execute(f\"ALTER TABLE {table_name} ADD IsActive BIT NOT NULL DEFAULT 1;\")\n",
    "    conn.commit()\n",
    "\n",
    "# Add surrogate keys to dimension tables\n",
    "#for table in dim_tables:\n",
    "    #add_surrogate_key(ssms_conn, table)"
   ]
  },
  {
   "cell_type": "markdown",
   "metadata": {},
   "source": [
    "# Foreign Surrogate Key Creation"
   ]
  },
  {
   "cell_type": "code",
   "execution_count": null,
   "metadata": {},
   "outputs": [],
   "source": [
    "# Function to add surrogate foreign key columns to fact tables\n",
    "def add_surrogate_foreign_key_columns(conn, fact_table, key_mappings):\n",
    "    cursor = conn.cursor()\n",
    "    for _, (fact_table, foreign_key_column) in key_mappings.items():\n",
    "        cursor.execute(f\"ALTER TABLE {fact_table} ADD {foreign_key_column} INT;\")\n",
    "    conn.commit()\n",
    "\n",
    "# Add surrogate foreign key columns to fact tables\n",
    "for fact_table in fact_tables:\n",
    "    if fact_table == 'orders':\n",
    "        key_mappings = {\n",
    "            #Orders\n",
    "            #'PRODUCT_id': ('orders', 'PRODUCT_SFK'),\n",
    "            #'ORDER_METHOD_id': ('orders', 'ORDER_METHOD_SFK'),\n",
    "            #'RETAILER_CONTACT_id': ('orders', 'RETAILER_CONTACT_SFK'),\n",
    "            #'RETURNED_REASON': ('orders', 'RETURNED_REASON_SFK'),\n",
    "\n",
    "            #Sales_targetData\n",
    "            'PRODUCT_id': ('sales_targetData', 'PRODUCT_SFK'),\n",
    "            'SALES_STAFF_id': ('sales_targetData', 'SALES_STAFF_SFK'),\n",
    "\n",
    "            #Sales_product_forecast\n",
    "            'PRODUCT_id': ('sales_product_forecast', 'PRODUCT_SFK'),\n",
    "\n",
    "            #Sales_inventory_levels\n",
    "            'PRODUCT_id': ('sales_inventory_levels', 'PRODUCT_SFK'),\n",
    "\n",
    "            #Satisfaction\n",
    "            'SATISFACTION_TYPE_id': ('satisfaction', 'SATISFACTION_TYPE_SFK'),\n",
    "            'SALES_STAFF_id': ('satisfaction', 'SALES_STAFF_SFK'),\n",
    "\n",
    "            #Training\n",
    "            'COURSE_id': ('training', 'COURSE_SFK'),\n",
    "            'SALES_STAFF_id': ('training', 'SALES_STAFF_SFK'),\n",
    "\n",
    "            #Returned_item\n",
    "            'RETURN_REASON_id': ('returned_item', 'RETURN_REASON_SFK'),\n",
    "        }\n",
    "        add_surrogate_foreign_key_columns(ssms_conn, fact_table, key_mappings)\n",
    "\n",
    "# Function to populate foreign keys in fact tables\n",
    "def populate_foreign_keys(conn, fact_table, dim_table, natural_key, foreign_key_column, sfk_column):\n",
    "    cursor = conn.cursor()\n",
    "    # Adjusted SQL statement to correctly match and update SFKs\n",
    "    sql = f\"\"\"\n",
    "    UPDATE {fact_table}\n",
    "    SET {sfk_column} = (\n",
    "        SELECT {dim_table}.SK\n",
    "        FROM {dim_table}\n",
    "        WHERE {dim_table}.{natural_key} = {fact_table}.{foreign_key_column}\n",
    "    )\n",
    "    \"\"\"\n",
    "    cursor.execute(sql)\n",
    "    conn.commit()"
   ]
  },
  {
   "cell_type": "markdown",
   "metadata": {},
   "source": [
    "# Populate Foreign Surrogate Keys"
   ]
  },
  {
   "cell_type": "code",
   "execution_count": null,
   "metadata": {},
   "outputs": [],
   "source": [
    "# Populate SFKs for the 'orders' fact table\n",
    "#populate_foreign_keys(ssms_conn, 'orders', 'product', 'id', 'product_id', 'PRODUCT_SFK')\n",
    "#populate_foreign_keys(ssms_conn, 'orders', 'order_method', 'order_method_id', 'order_method_code', 'ORDER_METHOD_SFK')\n",
    "#populate_foreign_keys(ssms_conn, 'orders', 'RETAILER_CONTACT', 'retailer_id', 'retailer_contact_code', 'RETAILER_CONTACT_SFK')\n",
    "#populate_foreign_keys(ssms_conn, 'orders', 'RETURN_REASON', 'return_reason_id', '', 'RETURNED_REASON_SFK')\n",
    "\n",
    "# Populate SFKs for the 'sales_targetData' fact table\n",
    "populate_foreign_keys(ssms_conn, 'sales_targetData', 'product', 'id', 'product_id', 'PRODUCT_SFK')\n",
    "populate_foreign_keys(ssms_conn, 'sales_targetData', 'sales_staff', 'sales_staff_id', 'staff_id', 'SALES_STAFF_SFK')\n",
    "\n",
    "# Populate SFKs for the 'sales_product_forecast' fact table\n",
    "populate_foreign_keys(ssms_conn, 'sales_product_forecast', 'product', 'id', 'product_id', 'PRODUCT_SFK')\n",
    "\n",
    "# Populate SFKs for the 'sales_inventory_levels' fact table\n",
    "populate_foreign_keys(ssms_conn, 'sales_inventory_levels', 'product', 'id', 'product_id', 'PRODUCT_SFK')\n",
    "\n",
    "# Populate SFKs for the 'satisfaction' fact table\n",
    "populate_foreign_keys(ssms_conn, 'satisfaction', 'satisfaction_type', 'id', 'satisfaction_type_id', 'SATISFACTION_TYPE_SFK')\n",
    "populate_foreign_keys(ssms_conn, 'satisfaction', 'sales_staff', 'sales_staff_id', 'staff_id', 'SALES_STAFF_SFK')\n",
    "\n",
    "# Populate SFKs for the 'training' fact table\n",
    "populate_foreign_keys(ssms_conn, 'training', 'course', 'id', 'course_id', 'COURSE_SFK')\n",
    "populate_foreign_keys(ssms_conn, 'training', 'sales_staff', 'sales_staff_id', 'staff_id', 'SALES_STAFF_SFK')\n",
    "\n",
    "# Populate SFKs for the 'returned_item' fact table\n",
    "populate_foreign_keys(ssms_conn, 'returned_item', 'return_reason', 'id', 'return_reason_id', 'RETURN_REASON_SFK')\n"
   ]
  },
  {
   "cell_type": "code",
   "execution_count": null,
   "metadata": {},
   "outputs": [],
   "source": [
    "# Test Output\n",
    "orders_df = fact_dfs['orders']\n",
    "product_df = dim_dfs['product']\n",
    "product_df.head()"
   ]
  },
  {
   "cell_type": "code",
   "execution_count": null,
   "metadata": {},
   "outputs": [],
   "source": [
    "product_df.head()"
   ]
  },
  {
   "cell_type": "markdown",
   "metadata": {},
   "source": [
    "# Simulate Slowly Changing Dimensions Type 2"
   ]
  },
  {
   "cell_type": "code",
   "execution_count": null,
   "metadata": {},
   "outputs": [],
   "source": [
    "# Step 1: Identify a Product to Update\n",
    "product_to_update = 'P123'\n",
    "\n",
    "# Step 2: Insert a New Record for the Updated Product\n",
    "new_sk = generate_new_sk()\n",
    "updated_product_info = {\n",
    "    'ProductID': product_to_update,\n",
    "    'SK': new_sk,\n",
    "    'ProductName': 'Updated Product Name',\n",
    "    'IsActive': 1,\n",
    "    'EffectiveDate': datetime.now(),\n",
    "}\n",
    "# Append the new record to the product DataFrame\n",
    "product_df = product_df.append(updated_product_info, ignore_index=True)\n",
    "\n",
    "# Step 3: Update the IsActive Status of the Old Record\n",
    "product_df.loc[(product_df['ProductID'] == product_to_update) & (product_df['IsActive'] == 1) & (product_df['SK'] != new_sk), ['IsActive', 'EndDate']] = [0, datetime.now()]\n",
    "\n",
    "# Step 4: Update the PRODUCT_SFK in the orders Fact Table\n",
    "orders_df.loc[orders_df['ProductID'] == product_to_update, 'PRODUCT_SFK'] = new_sk"
   ]
  },
  {
   "cell_type": "code",
   "execution_count": 21,
   "metadata": {},
   "outputs": [
    {
     "ename": "NameError",
     "evalue": "name 'row' is not defined",
     "output_type": "error",
     "traceback": [
      "\u001b[1;31m---------------------------------------------------------------------------\u001b[0m",
      "\u001b[1;31mNameError\u001b[0m                                 Traceback (most recent call last)",
      "Cell \u001b[1;32mIn[21], line 24\u001b[0m\n\u001b[0;32m     19\u001b[0m     ssms_conn\u001b[38;5;241m.\u001b[39mcommit()\n\u001b[0;32m     23\u001b[0m \u001b[38;5;66;03m# Call the simulate_scd_type_2() function\u001b[39;00m\n\u001b[1;32m---> 24\u001b[0m \u001b[43msimulate_scd_type_2\u001b[49m\u001b[43m(\u001b[49m\u001b[43m)\u001b[49m\n\u001b[0;32m     26\u001b[0m \u001b[38;5;66;03m# Close the cursor and connection\u001b[39;00m\n\u001b[0;32m     27\u001b[0m ssms_cursor\u001b[38;5;241m.\u001b[39mclose()\n",
      "Cell \u001b[1;32mIn[21], line 11\u001b[0m, in \u001b[0;36msimulate_scd_type_2\u001b[1;34m()\u001b[0m\n\u001b[0;32m      9\u001b[0m effective_date \u001b[38;5;241m=\u001b[39m datetime\u001b[38;5;241m.\u001b[39mnow()\n\u001b[0;32m     10\u001b[0m update_query \u001b[38;5;241m=\u001b[39m \u001b[38;5;124m\"\u001b[39m\u001b[38;5;124mUPDATE dbo.PRODUCT SET IsActive = 0, EndDate = ? WHERE SK = ?\u001b[39m\u001b[38;5;124m\"\u001b[39m\n\u001b[1;32m---> 11\u001b[0m ssms_cursor\u001b[38;5;241m.\u001b[39mexecute(update_query, (effective_date, \u001b[43mrow\u001b[49m[\u001b[38;5;241m-\u001b[39m\u001b[38;5;241m4\u001b[39m]))\n\u001b[0;32m     12\u001b[0m ssms_conn\u001b[38;5;241m.\u001b[39mcommit()\n\u001b[0;32m     14\u001b[0m \u001b[38;5;66;03m# Step 3: Insert a new row without specifying the SK (identity column)\u001b[39;00m\n\u001b[0;32m     15\u001b[0m \u001b[38;5;66;03m# Exclude the SK (identity column), EffectiveDate, EndDate, IsActive from the insert\u001b[39;00m\n",
      "\u001b[1;31mNameError\u001b[0m: name 'row' is not defined"
     ]
    }
   ],
   "source": [
    "import numpy as np\n",
    "from datetime import datetime\n",
    "\n",
    "def simulate_scd_type_2():\n",
    "    # Step 1: Select a random active row from the PRODUCT table\n",
    "    select_query = \"SELECT TOP 1 * FROM dbo.PRODUCT WHERE IsActive = 1 ORDER BY NEWID()\"\n",
    "    ssms_cursor.execute(select_query)\n",
    "    row = ssms_cursor.fetchone()\n",
    "    if row is None:\n",
    "        print(\"No active rows found.\")\n",
    "        return\n",
    "\n",
    "    # Retrieve the maximum id value from the PRODUCT table\n",
    "    id_query = \"SELECT MAX(id) FROM dbo.PRODUCT\"\n",
    "    ssms_cursor.execute(id_query)\n",
    "    max_id = ssms_cursor.fetchone()[0]\n",
    "    new_id = max_id + 1 if max_id is not None else 1\n",
    "    \n",
    "    # Step 2: Update the previously active row to set IsActive to 0 and update EndDate\n",
    "    effective_date = datetime.now()\n",
    "    update_query = \"UPDATE dbo.PRODUCT SET IsActive = 0, EndDate = ? WHERE SK = ?\"\n",
    "    ssms_cursor.execute(update_query, (effective_date, row[-4]))\n",
    "    ssms_conn.commit()\n",
    "\n",
    "    # Step 3: Insert a new row without specifying the SK (identity column)\n",
    "    params = (new_id,) + row[1:-4] + (effective_date, None, 1)\n",
    "    insert_query = \"INSERT INTO dbo.PRODUCT (id, name, image, description, type_id, type_name, line_id, line_name, introduction_date, production_cost, margin, language, EffectiveDate, EndDate, IsActive) VALUES (?, ?, ?, ?, ?, ?, ?, ?, ?, ?, ?, ?, ?, ?, ?)\"\n",
    "    ssms_cursor.execute(insert_query, params)\n",
    "    ssms_conn.commit()\n",
    "\n",
    "# Assuming ssms_cursor and ssms_conn are already defined and connected to your database\n",
    "simulate_scd_type_2()\n",
    "\n",
    "# Close the cursor and connection\n",
    "ssms_cursor.close()\n",
    "ssms_conn.close()"
   ]
  },
  {
   "cell_type": "code",
   "execution_count": null,
   "metadata": {},
   "outputs": [],
   "source": [
    "cursor = ssms_conn.cursor()\n",
    "\n",
    "# Step 1: Update the old record\n",
    "update_sql = \"\"\"\n",
    "UPDATE product\n",
    "SET IsActive = 0, EndDate = ?\n",
    "WHERE id = 1 AND IsActive = 1\n",
    "\"\"\"\n",
    "cursor.execute(update_sql, datetime.now())\n",
    "\n",
    "# Step 2: Insert the new record\n",
    "insert_sql = \"\"\"\n",
    "INSERT INTO product (id, name, IsActive, EffectiveDate, EndDate)\n",
    "VALUES (?, ?, ?, ?, ?, ?)\n",
    "\"\"\"\n",
    "\n",
    "random_image_value = \"sdfdsfdsfdsff\"\n",
    "# New ID should be generated appropriately, here just for demonstration\n",
    "new_id = 2  # This should be dynamically generated or omitted if auto-increment\n",
    "cursor.execute(insert_sql, new_id, 'TrailChef Water Teepee', 1, datetime.now(), None, random_image_value)\n",
    "\n",
    "# Commit the transaction\n",
    "ssms_conn.commit()\n",
    "\n",
    "# Close the cursor and connection if no longer needed\n",
    "cursor.close()\n",
    "ssms_conn.close()"
   ]
  },
  {
   "cell_type": "code",
   "execution_count": null,
   "metadata": {},
   "outputs": [],
   "source": [
    "# Close connections\n",
    "ssms_conn.close()\n",
    "sqlite_conn.close()\n",
    "go_sales_conn.close()\n",
    "go_staff_conn.close()\n",
    "go_crm_conn.close()"
   ]
  }
 ],
 "metadata": {
  "kernelspec": {
   "display_name": "Python 3",
   "language": "python",
   "name": "python3"
  },
  "language_info": {
   "codemirror_mode": {
    "name": "ipython",
    "version": 3
   },
   "file_extension": ".py",
   "mimetype": "text/x-python",
   "name": "python",
   "nbconvert_exporter": "python",
   "pygments_lexer": "ipython3",
   "version": "3.12.0"
  }
 },
 "nbformat": 4,
 "nbformat_minor": 2
}
