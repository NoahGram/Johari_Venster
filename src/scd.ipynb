{
 "cells": [
  {
   "cell_type": "markdown",
   "metadata": {},
   "source": [
    "# Imports & Connections"
   ]
  },
  {
   "cell_type": "code",
   "execution_count": 1,
   "metadata": {},
   "outputs": [],
   "source": [
    "import pandas as pd\n",
    "import pyodbc\n",
    "import sqlite3\n",
    "import numpy as np"
   ]
  },
  {
   "cell_type": "code",
   "execution_count": 2,
   "metadata": {},
   "outputs": [
    {
     "name": "stderr",
     "output_type": "stream",
     "text": [
      "<>:2: SyntaxWarning: invalid escape sequence '\\S'\n",
      "<>:2: SyntaxWarning: invalid escape sequence '\\S'\n",
      "C:\\Users\\Noah\\AppData\\Local\\Temp\\ipykernel_221388\\2725324115.py:2: SyntaxWarning: invalid escape sequence '\\S'\n",
      "  'servername': 'DESKTOP-IT4OHPV\\SQLEXPRESS',\n"
     ]
    }
   ],
   "source": [
    "DB = {\n",
    "    'servername': 'DESKTOP-IT4OHPV\\SQLEXPRESS',\n",
    "    'database': 'johari_Herkansing_NEW'\n",
    "}\n",
    "\n",
    "ssms_conn = pyodbc.connect('DRIVER={SQL Server};SERVER=' + DB['servername'] + \n",
    "                     ';DATABASE=' + DB['database'] + ';Trusted_Connection=yes')"
   ]
  },
  {
   "cell_type": "code",
   "execution_count": 3,
   "metadata": {},
   "outputs": [
    {
     "name": "stderr",
     "output_type": "stream",
     "text": [
      "C:\\Users\\Noah\\AppData\\Local\\Temp\\ipykernel_221388\\1001716418.py:9: UserWarning: pandas only supports SQLAlchemy connectable (engine/connection) or database string URI or sqlite3 DBAPI2 connection. Other DBAPI2 objects are not tested. Please consider using SQLAlchemy.\n",
      "  fact_dfs = {table: pd.read_sql(f'SELECT * FROM {table}', ssms_conn) for table in fact_tables}\n",
      "C:\\Users\\Noah\\AppData\\Local\\Temp\\ipykernel_221388\\1001716418.py:13: UserWarning: pandas only supports SQLAlchemy connectable (engine/connection) or database string URI or sqlite3 DBAPI2 connection. Other DBAPI2 objects are not tested. Please consider using SQLAlchemy.\n",
      "  dim_dfs = {table: pd.read_sql(f'SELECT * FROM {table}', ssms_conn) for table in dim_tables}\n"
     ]
    }
   ],
   "source": [
    "# Local connections\n",
    "sqlite_conn = sqlite3.connect('../data/processed/dwh.sqlite')\n",
    "go_sales_conn = sqlite3.connect('../data/raw/go_sales.sqlite')\n",
    "go_staff_conn = sqlite3.connect('../data/raw/go_staff.sqlite')\n",
    "go_crm_conn = sqlite3.connect('../data/raw/go_crm.sqlite')\n",
    "\n",
    "# Fact tables\n",
    "fact_tables = ['training', 'satisfaction', 'returned_item', 'orders', 'sales_targetData', 'sales_product_forecast', 'sales_inventory_levels']\n",
    "fact_dfs = {table: pd.read_sql(f'SELECT * FROM {table}', ssms_conn) for table in fact_tables}\n",
    "\n",
    "# Dimension tables\n",
    "dim_tables = ['product', 'sales_staff', 'course', 'satisfaction_type', 'return_reason', 'order_method', 'retailer_contact']\n",
    "dim_dfs = {table: pd.read_sql(f'SELECT * FROM {table}', ssms_conn) for table in dim_tables}\n",
    "\n",
    "# Test Tables\n",
    "#training_df.loc[0:4, ['year', 'course_description']]\n",
    "#product_df.head()"
   ]
  },
  {
   "cell_type": "markdown",
   "metadata": {},
   "source": [
    "# Surrogate Key Creation"
   ]
  },
  {
   "cell_type": "code",
   "execution_count": 6,
   "metadata": {},
   "outputs": [
    {
     "ename": "ProgrammingError",
     "evalue": "('42000', \"[42000] [Microsoft][ODBC SQL Server Driver][SQL Server]The constraint 'PK_PRODUCT' is being referenced by table 'SALES_TARGETData', foreign key constraint 'FK_SALES_TARGETData_PRODUCT'. (3725) (SQLExecDirectW); [42000] [Microsoft][ODBC SQL Server Driver][SQL Server]Could not drop constraint. See previous errors. (3727)\")",
     "output_type": "error",
     "traceback": [
      "\u001b[1;31m---------------------------------------------------------------------------\u001b[0m",
      "\u001b[1;31mProgrammingError\u001b[0m                          Traceback (most recent call last)",
      "Cell \u001b[1;32mIn[6], line 30\u001b[0m\n\u001b[0;32m     27\u001b[0m     conn\u001b[38;5;241m.\u001b[39mcommit()\n\u001b[0;32m     29\u001b[0m \u001b[38;5;28;01mfor\u001b[39;00m table \u001b[38;5;129;01min\u001b[39;00m dim_tables:\n\u001b[1;32m---> 30\u001b[0m     \u001b[43madd_surrogate_key_and_update_pk\u001b[49m\u001b[43m(\u001b[49m\u001b[43mssms_conn\u001b[49m\u001b[43m,\u001b[49m\u001b[43m \u001b[49m\u001b[43mtable\u001b[49m\u001b[43m)\u001b[49m\n",
      "Cell \u001b[1;32mIn[6], line 14\u001b[0m, in \u001b[0;36madd_surrogate_key_and_update_pk\u001b[1;34m(conn, table_name)\u001b[0m\n\u001b[0;32m      5\u001b[0m cursor\u001b[38;5;241m.\u001b[39mexecute(\u001b[38;5;124mf\u001b[39m\u001b[38;5;124m\"\"\"\u001b[39m\n\u001b[0;32m      6\u001b[0m \u001b[38;5;124mIF NOT EXISTS(SELECT * FROM INFORMATION_SCHEMA.COLUMNS \u001b[39m\n\u001b[0;32m      7\u001b[0m \u001b[38;5;124m              WHERE TABLE_NAME = \u001b[39m\u001b[38;5;124m'\u001b[39m\u001b[38;5;132;01m{\u001b[39;00mtable_name\u001b[38;5;132;01m}\u001b[39;00m\u001b[38;5;124m'\u001b[39m\u001b[38;5;124m AND COLUMN_NAME = \u001b[39m\u001b[38;5;124m'\u001b[39m\u001b[38;5;124mSK\u001b[39m\u001b[38;5;124m'\u001b[39m\u001b[38;5;124m)\u001b[39m\n\u001b[1;32m   (...)\u001b[0m\n\u001b[0;32m     10\u001b[0m \u001b[38;5;124mEND\u001b[39m\n\u001b[0;32m     11\u001b[0m \u001b[38;5;124m\u001b[39m\u001b[38;5;124m\"\"\"\u001b[39m)\n\u001b[0;32m     13\u001b[0m \u001b[38;5;66;03m# Step 2: Find and drop the existing primary key constraint\u001b[39;00m\n\u001b[1;32m---> 14\u001b[0m \u001b[43mcursor\u001b[49m\u001b[38;5;241;43m.\u001b[39;49m\u001b[43mexecute\u001b[49m\u001b[43m(\u001b[49m\u001b[38;5;124;43mf\u001b[39;49m\u001b[38;5;124;43m\"\"\"\u001b[39;49m\n\u001b[0;32m     15\u001b[0m \u001b[38;5;124;43mDECLARE @ConstraintName nvarchar(256);\u001b[39;49m\n\u001b[0;32m     16\u001b[0m \u001b[38;5;124;43mSELECT @ConstraintName = CONSTRAINT_NAME FROM INFORMATION_SCHEMA.TABLE_CONSTRAINTS\u001b[39;49m\n\u001b[0;32m     17\u001b[0m \u001b[38;5;124;43mWHERE TABLE_NAME = \u001b[39;49m\u001b[38;5;124;43m'\u001b[39;49m\u001b[38;5;132;43;01m{\u001b[39;49;00m\u001b[43mtable_name\u001b[49m\u001b[38;5;132;43;01m}\u001b[39;49;00m\u001b[38;5;124;43m'\u001b[39;49m\u001b[38;5;124;43m AND CONSTRAINT_TYPE = \u001b[39;49m\u001b[38;5;124;43m'\u001b[39;49m\u001b[38;5;124;43mPRIMARY KEY\u001b[39;49m\u001b[38;5;124;43m'\u001b[39;49m\u001b[38;5;124;43m;\u001b[39;49m\n\u001b[0;32m     18\u001b[0m \u001b[38;5;124;43mIF @ConstraintName IS NOT NULL\u001b[39;49m\n\u001b[0;32m     19\u001b[0m \u001b[38;5;124;43mBEGIN\u001b[39;49m\n\u001b[0;32m     20\u001b[0m \u001b[38;5;124;43m    EXEC(\u001b[39;49m\u001b[38;5;124;43m'\u001b[39;49m\u001b[38;5;124;43mALTER TABLE \u001b[39;49m\u001b[38;5;132;43;01m{\u001b[39;49;00m\u001b[43mtable_name\u001b[49m\u001b[38;5;132;43;01m}\u001b[39;49;00m\u001b[38;5;124;43m DROP CONSTRAINT \u001b[39;49m\u001b[38;5;124;43m'\u001b[39;49m\u001b[38;5;124;43m + @ConstraintName);\u001b[39;49m\n\u001b[0;32m     21\u001b[0m \u001b[38;5;124;43mEND\u001b[39;49m\n\u001b[0;32m     22\u001b[0m \u001b[38;5;124;43m\u001b[39;49m\u001b[38;5;124;43m\"\"\"\u001b[39;49m\u001b[43m)\u001b[49m\n\u001b[0;32m     24\u001b[0m \u001b[38;5;66;03m# Step 3: Set the SK column as the new primary key\u001b[39;00m\n\u001b[0;32m     25\u001b[0m cursor\u001b[38;5;241m.\u001b[39mexecute(\u001b[38;5;124mf\u001b[39m\u001b[38;5;124m\"\u001b[39m\u001b[38;5;124mALTER TABLE \u001b[39m\u001b[38;5;132;01m{\u001b[39;00mtable_name\u001b[38;5;132;01m}\u001b[39;00m\u001b[38;5;124m ADD CONSTRAINT PK_\u001b[39m\u001b[38;5;132;01m{\u001b[39;00mtable_name\u001b[38;5;132;01m}\u001b[39;00m\u001b[38;5;124m_SK PRIMARY KEY (SK);\u001b[39m\u001b[38;5;124m\"\u001b[39m)\n",
      "\u001b[1;31mProgrammingError\u001b[0m: ('42000', \"[42000] [Microsoft][ODBC SQL Server Driver][SQL Server]The constraint 'PK_PRODUCT' is being referenced by table 'SALES_TARGETData', foreign key constraint 'FK_SALES_TARGETData_PRODUCT'. (3725) (SQLExecDirectW); [42000] [Microsoft][ODBC SQL Server Driver][SQL Server]Could not drop constraint. See previous errors. (3727)\")"
     ]
    }
   ],
   "source": [
    "# Function to add surrogate key to dimension tables\n",
    "def add_surrogate_key(conn, table_name):\n",
    "    cursor = conn.cursor()\n",
    "    # Add SK column\n",
    "    #cursor.execute(f\"ALTER TABLE {table_name} ADD SK INT IDENTITY(1,1);\")\n",
    "    # Add EffectiveDate column\n",
    "    cursor.execute(f\"ALTER TABLE {table_name} ADD EffectiveDate DATETIME NOT NULL DEFAULT GETDATE();\")\n",
    "    # Add EndDate column\n",
    "    cursor.execute(f\"ALTER TABLE {table_name} ADD EndDate DATETIME NULL;\")\n",
    "    # Add IsActive column\n",
    "    cursor.execute(f\"ALTER TABLE {table_name} ADD IsActive BIT NOT NULL DEFAULT 1;\")\n",
    "    conn.commit()\n",
    "\n",
    "# Add surrogate keys to dimension tables\n",
    "for table in dim_tables:\n",
    "    add_surrogate_key(ssms_conn, table)"
   ]
  },
  {
   "cell_type": "markdown",
   "metadata": {},
   "source": [
    "# Foreign Surrogate Key Creation"
   ]
  },
  {
   "cell_type": "code",
   "execution_count": 18,
   "metadata": {},
   "outputs": [],
   "source": [
    "# Function to add surrogate foreign key columns to fact tables\n",
    "def add_surrogate_foreign_key_columns(conn, fact_table, key_mappings):\n",
    "    cursor = conn.cursor()\n",
    "    for _, (fact_table, foreign_key_column) in key_mappings.items():\n",
    "        cursor.execute(f\"ALTER TABLE {fact_table} ADD {foreign_key_column} INT;\")\n",
    "    conn.commit()\n",
    "\n",
    "# Add surrogate foreign key columns to fact tables\n",
    "for fact_table in fact_tables:\n",
    "    if fact_table == 'orders':\n",
    "        key_mappings = {\n",
    "            'PRODUCT_id': ('orders', 'PRODUCT_SFK'),\n",
    "            'ORDER_METHOD_id': ('orders', 'ORDER_METHOD_SFK'),\n",
    "            'RETAILER_CONTACT_id': ('orders', 'RETAILER_CONTACT_SFK'),\n",
    "            'RETURNED_REASON': ('orders', 'RETURNED_REASON_SFK'),\n",
    "        }\n",
    "        #add_surrogate_foreign_key_columns(ssms_conn, fact_table, key_mappings)\n",
    "\n",
    "# Function to populate foreign keys in fact tables\n",
    "def populate_foreign_keys(conn, fact_table, dim_table, natural_key, foreign_key_column, sfk_column):\n",
    "    cursor = conn.cursor()\n",
    "    # Adjusted SQL statement to correctly match and update SFKs\n",
    "    sql = f\"\"\"\n",
    "    UPDATE {fact_table}\n",
    "    SET {sfk_column} = (\n",
    "        SELECT {dim_table}.SK\n",
    "        FROM {dim_table}\n",
    "        WHERE {dim_table}.{natural_key} = {fact_table}.{foreign_key_column}\n",
    "    )\n",
    "    \"\"\"\n",
    "    cursor.execute(sql)\n",
    "    conn.commit()"
   ]
  },
  {
   "cell_type": "markdown",
   "metadata": {},
   "source": [
    "# Populate Foreign Surrogate Keys"
   ]
  },
  {
   "cell_type": "code",
   "execution_count": 22,
   "metadata": {},
   "outputs": [
    {
     "ename": "Error",
     "evalue": "('21000', '[21000] [Microsoft][ODBC SQL Server Driver][SQL Server]Subquery returned more than 1 value. This is not permitted when the subquery follows =, !=, <, <= , >, >= or when the subquery is used as an expression. (512) (SQLExecDirectW); [21000] [Microsoft][ODBC SQL Server Driver][SQL Server]The statement has been terminated. (3621)')",
     "output_type": "error",
     "traceback": [
      "\u001b[1;31m---------------------------------------------------------------------------\u001b[0m",
      "\u001b[1;31mError\u001b[0m                                     Traceback (most recent call last)",
      "Cell \u001b[1;32mIn[22], line 4\u001b[0m\n\u001b[0;32m      1\u001b[0m \u001b[38;5;66;03m# Populate SFKs for the 'orders' fact table\u001b[39;00m\n\u001b[0;32m      2\u001b[0m \u001b[38;5;66;03m#populate_foreign_keys(ssms_conn, 'orders', 'product', 'id', 'product_id', 'PRODUCT_SFK')\u001b[39;00m\n\u001b[0;32m      3\u001b[0m \u001b[38;5;66;03m#populate_foreign_keys(ssms_conn, 'orders', 'order_method', 'order_method_id', 'order_method_code', 'ORDER_METHOD_SFK')\u001b[39;00m\n\u001b[1;32m----> 4\u001b[0m \u001b[43mpopulate_foreign_keys\u001b[49m\u001b[43m(\u001b[49m\u001b[43mssms_conn\u001b[49m\u001b[43m,\u001b[49m\u001b[43m \u001b[49m\u001b[38;5;124;43m'\u001b[39;49m\u001b[38;5;124;43morders\u001b[39;49m\u001b[38;5;124;43m'\u001b[39;49m\u001b[43m,\u001b[49m\u001b[43m \u001b[49m\u001b[38;5;124;43m'\u001b[39;49m\u001b[38;5;124;43mretailer_contact\u001b[39;49m\u001b[38;5;124;43m'\u001b[39;49m\u001b[43m,\u001b[49m\u001b[43m \u001b[49m\u001b[38;5;124;43m'\u001b[39;49m\u001b[38;5;124;43mid\u001b[39;49m\u001b[38;5;124;43m'\u001b[39;49m\u001b[43m,\u001b[49m\u001b[43m \u001b[49m\u001b[38;5;124;43m'\u001b[39;49m\u001b[38;5;124;43mretailer_contact_code\u001b[39;49m\u001b[38;5;124;43m'\u001b[39;49m\u001b[43m,\u001b[49m\u001b[43m \u001b[49m\u001b[38;5;124;43m'\u001b[39;49m\u001b[38;5;124;43mRETAILER_CONTACT_SFK\u001b[39;49m\u001b[38;5;124;43m'\u001b[39;49m\u001b[43m)\u001b[49m\n\u001b[0;32m      5\u001b[0m \u001b[38;5;66;03m#populate_foreign_keys(ssms_conn, 'orders', 'RETURN_REASON', 'return_reason_id', '', 'RETURNED_REASON_SFK')\u001b[39;00m\n",
      "Cell \u001b[1;32mIn[18], line 31\u001b[0m, in \u001b[0;36mpopulate_foreign_keys\u001b[1;34m(conn, fact_table, dim_table, natural_key, foreign_key_column, sfk_column)\u001b[0m\n\u001b[0;32m     22\u001b[0m \u001b[38;5;66;03m# Adjusted SQL statement to correctly match and update SFKs\u001b[39;00m\n\u001b[0;32m     23\u001b[0m sql \u001b[38;5;241m=\u001b[39m \u001b[38;5;124mf\u001b[39m\u001b[38;5;124m\"\"\"\u001b[39m\n\u001b[0;32m     24\u001b[0m \u001b[38;5;124mUPDATE \u001b[39m\u001b[38;5;132;01m{\u001b[39;00mfact_table\u001b[38;5;132;01m}\u001b[39;00m\n\u001b[0;32m     25\u001b[0m \u001b[38;5;124mSET \u001b[39m\u001b[38;5;132;01m{\u001b[39;00msfk_column\u001b[38;5;132;01m}\u001b[39;00m\u001b[38;5;124m = (\u001b[39m\n\u001b[1;32m   (...)\u001b[0m\n\u001b[0;32m     29\u001b[0m \u001b[38;5;124m)\u001b[39m\n\u001b[0;32m     30\u001b[0m \u001b[38;5;124m\u001b[39m\u001b[38;5;124m\"\"\"\u001b[39m\n\u001b[1;32m---> 31\u001b[0m \u001b[43mcursor\u001b[49m\u001b[38;5;241;43m.\u001b[39;49m\u001b[43mexecute\u001b[49m\u001b[43m(\u001b[49m\u001b[43msql\u001b[49m\u001b[43m)\u001b[49m\n\u001b[0;32m     32\u001b[0m conn\u001b[38;5;241m.\u001b[39mcommit()\n",
      "\u001b[1;31mError\u001b[0m: ('21000', '[21000] [Microsoft][ODBC SQL Server Driver][SQL Server]Subquery returned more than 1 value. This is not permitted when the subquery follows =, !=, <, <= , >, >= or when the subquery is used as an expression. (512) (SQLExecDirectW); [21000] [Microsoft][ODBC SQL Server Driver][SQL Server]The statement has been terminated. (3621)')"
     ]
    }
   ],
   "source": [
    "# Populate SFKs for the 'orders' fact table\n",
    "populate_foreign_keys(ssms_conn, 'orders', 'product', 'id', 'product_id', 'PRODUCT_SFK')\n",
    "populate_foreign_keys(ssms_conn, 'orders', 'order_method', 'order_method_id', 'order_method_code', 'ORDER_METHOD_SFK')\n",
    "#populate_foreign_keys(ssms_conn, 'orders', 'retailer_contact', 'id', 'retailer_contact_code', 'RETAILER_CONTACT_SFK')\n",
    "#populate_foreign_keys(ssms_conn, 'orders', 'RETURN_REASON', 'return_reason_id', '', 'RETURNED_REASON_SFK')"
   ]
  },
  {
   "cell_type": "markdown",
   "metadata": {},
   "source": [
    "# Simulate Slowly Changing Dimensions Type 2"
   ]
  },
  {
   "cell_type": "code",
   "execution_count": null,
   "metadata": {},
   "outputs": [],
   "source": [
    "# Step 1: Merge the Orders and Product DataFrames on the business key (ProductID)\n",
    "# This operation is similar to the INNER JOIN in the SQL procedure\n",
    "merged_df = pd.merge(df_orders, df_product[['ProductID', 'SK']], on='ProductID', how='inner')\n",
    "\n",
    "# Step 2: Filter for active products\n",
    "# Assuming the 'IsActive' column exists in your df_product DataFrame to indicate active products\n",
    "active_products = df_product[df_product['IsActive'] == 1]\n",
    "\n",
    "# Perform the merge again, this time ensuring we only include active products\n",
    "merged_df_active = pd.merge(df_orders, active_products[['ProductID', 'SK']], on='ProductID', how='inner')\n",
    "\n",
    "# Step 3: Update the PRODUCT_SFK in df_orders based on the SK from the active_products\n",
    "# This assumes that the 'PRODUCT_SFK' column exists in your df_orders DataFrame\n",
    "df_orders.update(merged_df_active[['SK']])"
   ]
  },
  {
   "cell_type": "code",
   "execution_count": null,
   "metadata": {},
   "outputs": [],
   "source": [
    "# Close connections\n",
    "ssms_conn.close()\n",
    "sqlite_conn.close()\n",
    "go_sales_conn.close()\n",
    "go_staff_conn.close()\n",
    "go_crm_conn.close()"
   ]
  }
 ],
 "metadata": {
  "kernelspec": {
   "display_name": "Python 3",
   "language": "python",
   "name": "python3"
  },
  "language_info": {
   "codemirror_mode": {
    "name": "ipython",
    "version": 3
   },
   "file_extension": ".py",
   "mimetype": "text/x-python",
   "name": "python",
   "nbconvert_exporter": "python",
   "pygments_lexer": "ipython3",
   "version": "3.12.0"
  }
 },
 "nbformat": 4,
 "nbformat_minor": 2
}
