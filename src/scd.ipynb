{
 "cells": [
  {
   "cell_type": "markdown",
   "metadata": {},
   "source": [
    "# Imports & Connections"
   ]
  },
  {
   "cell_type": "code",
   "execution_count": 1,
   "metadata": {},
   "outputs": [],
   "source": [
    "import pandas as pd\n",
    "import pyodbc\n",
    "import sqlite3\n",
    "import numpy as np\n",
    "from datetime import datetime\n",
    "from sqlalchemy import create_engine"
   ]
  },
  {
   "cell_type": "code",
   "execution_count": 2,
   "metadata": {},
   "outputs": [
    {
     "name": "stderr",
     "output_type": "stream",
     "text": [
      "<>:2: SyntaxWarning: invalid escape sequence '\\S'\n",
      "<>:10: SyntaxWarning: invalid escape sequence '\\S'\n",
      "<>:2: SyntaxWarning: invalid escape sequence '\\S'\n",
      "<>:10: SyntaxWarning: invalid escape sequence '\\S'\n",
      "C:\\Users\\Noah\\AppData\\Local\\Temp\\ipykernel_95976\\3369659595.py:2: SyntaxWarning: invalid escape sequence '\\S'\n",
      "  'servername': 'DESKTOP-IT4OHPV\\SQLEXPRESS',\n",
      "C:\\Users\\Noah\\AppData\\Local\\Temp\\ipykernel_95976\\3369659595.py:10: SyntaxWarning: invalid escape sequence '\\S'\n",
      "  connection_string = \"mssql+pyodbc://@DESKTOP-IT4OHPV\\SQLEXPRESS/johari_Herkansing_NEW1?driver=SQL+Server+Native+Client+11.0?trusted_connection=yes\"\n"
     ]
    }
   ],
   "source": [
    "DB = {\n",
    "    'servername': 'DESKTOP-IT4OHPV\\SQLEXPRESS',\n",
    "    'database': 'johari_Herkansing_NEW1'\n",
    "}\n",
    "\n",
    "ssms_conn = pyodbc.connect('DRIVER={SQL Server};SERVER=' + DB['servername'] + \n",
    "                     ';DATABASE=' + DB['database'] + ';Trusted_Connection=yes')\n",
    "\n",
    "# Connection String (update with your details)\n",
    "connection_string = \"mssql+pyodbc://@DESKTOP-IT4OHPV\\SQLEXPRESS/johari_Herkansing_NEW1?driver=SQL+Server+Native+Client+11.0?trusted_connection=yes\"\n",
    "ssms_cursor = ssms_conn.cursor()   \n",
    "\n",
    "# Create Engine\n",
    "engine = create_engine(connection_string)"
   ]
  },
  {
   "cell_type": "code",
   "execution_count": 3,
   "metadata": {},
   "outputs": [
    {
     "name": "stderr",
     "output_type": "stream",
     "text": [
      "C:\\Users\\Noah\\AppData\\Local\\Temp\\ipykernel_95976\\1395309261.py:9: UserWarning: pandas only supports SQLAlchemy connectable (engine/connection) or database string URI or sqlite3 DBAPI2 connection. Other DBAPI2 objects are not tested. Please consider using SQLAlchemy.\n",
      "  fact_dfs = {table: pd.read_sql(f'SELECT * FROM {table}', ssms_conn) for table in fact_tables}\n",
      "C:\\Users\\Noah\\AppData\\Local\\Temp\\ipykernel_95976\\1395309261.py:13: UserWarning: pandas only supports SQLAlchemy connectable (engine/connection) or database string URI or sqlite3 DBAPI2 connection. Other DBAPI2 objects are not tested. Please consider using SQLAlchemy.\n",
      "  dim_dfs = {table: pd.read_sql(f'SELECT * FROM {table}', ssms_conn) for table in dim_tables}\n"
     ]
    }
   ],
   "source": [
    "# Local Connections\n",
    "sqlite_conn = sqlite3.connect('../data/processed/dwh.sqlite')\n",
    "go_sales_conn = sqlite3.connect('../data/raw/go_sales.sqlite')\n",
    "go_staff_conn = sqlite3.connect('../data/raw/go_staff.sqlite')\n",
    "go_crm_conn = sqlite3.connect('../data/raw/go_crm.sqlite')\n",
    "\n",
    "# Fact tables\n",
    "fact_tables = ['training', 'satisfaction', 'returned_item', 'orders', 'sales_targetData', 'sales_product_forecast', 'sales_inventory_levels']\n",
    "fact_dfs = {table: pd.read_sql(f'SELECT * FROM {table}', ssms_conn) for table in fact_tables}\n",
    "\n",
    "# Dimension tables\n",
    "dim_tables = ['product', 'sales_staff', 'course', 'satisfaction_type', 'return_reason', 'order_method', 'retailer_contact']\n",
    "dim_dfs = {table: pd.read_sql(f'SELECT * FROM {table}', ssms_conn) for table in dim_tables}\n",
    "\n",
    "# Test Output\n",
    "orders_df = fact_dfs['orders']\n",
    "product_df = dim_dfs['product']\n",
    "#product_df.head()"
   ]
  },
  {
   "cell_type": "markdown",
   "metadata": {},
   "source": [
    "# Surrogate Key Creation"
   ]
  },
  {
   "cell_type": "code",
   "execution_count": null,
   "metadata": {},
   "outputs": [],
   "source": [
    "# Function to add surrogate key to dimension tables\n",
    "def add_surrogate_key(conn, table_name):\n",
    "    cursor = conn.cursor()\n",
    "    # Add SK column\n",
    "    cursor.execute(f\"ALTER TABLE {table_name} ADD SK INT IDENTITY(1,1);\")\n",
    "    # Add EffectiveDate column\n",
    "    cursor.execute(f\"ALTER TABLE {table_name} ADD EffectiveDate DATETIME NOT NULL DEFAULT '1900-01-01';\")\n",
    "    # Add EndDate column\n",
    "    cursor.execute(f\"ALTER TABLE {table_name} ADD EndDate DATETIME NULL;\")\n",
    "    # Add IsActive column\n",
    "    cursor.execute(f\"ALTER TABLE {table_name} ADD IsActive BIT NOT NULL DEFAULT 1;\")\n",
    "    conn.commit()\n",
    "\n",
    "# Add surrogate keys to dimension tables\n",
    "for table in dim_tables:\n",
    "    add_surrogate_key(ssms_conn, table)"
   ]
  },
  {
   "cell_type": "markdown",
   "metadata": {},
   "source": [
    "# Foreign Surrogate Key Creation"
   ]
  },
  {
   "cell_type": "code",
   "execution_count": null,
   "metadata": {},
   "outputs": [],
   "source": [
    "# Function to add surrogate foreign key columns to fact tables\n",
    "def add_surrogate_foreign_key_columns(conn, fact_table, key_mappings):\n",
    "    cursor = conn.cursor()\n",
    "    for _, (fact_table, foreign_key_column) in key_mappings.items():\n",
    "        cursor.execute(f\"ALTER TABLE {fact_table} ADD {foreign_key_column} INT;\")\n",
    "    conn.commit()\n",
    "\n",
    "# Add surrogate foreign key columns to fact tables\n",
    "for fact_table in fact_tables:\n",
    "    if fact_table == 'orders':\n",
    "        key_mappings = {\n",
    "            #Orders\n",
    "            'PRODUCT_id': ('orders', 'PRODUCT_SFK'),\n",
    "            'ORDER_METHOD_id': ('orders', 'ORDER_METHOD_SFK'),\n",
    "            'RETAILER_CONTACT_id': ('orders', 'RETAILER_CONTACT_SFK'),\n",
    "            'RETURNED_REASON': ('orders', 'RETURNED_REASON_SFK'),\n",
    "\n",
    "            #Sales_targetData\n",
    "            'PRODUCT_id': ('sales_targetData', 'PRODUCT_SFK'),\n",
    "            'SALES_STAFF_id': ('sales_targetData', 'SALES_STAFF_SFK'),\n",
    "\n",
    "            #Sales_product_forecast\n",
    "            'PRODUCT_id': ('sales_product_forecast', 'PRODUCT_SFK'),\n",
    "\n",
    "            #Sales_inventory_levels\n",
    "            'PRODUCT_id': ('sales_inventory_levels', 'PRODUCT_SFK'),\n",
    "\n",
    "            #Satisfaction\n",
    "            'SATISFACTION_TYPE_id': ('satisfaction', 'SATISFACTION_TYPE_SFK'),\n",
    "            'SALES_STAFF_id': ('satisfaction', 'SALES_STAFF_SFK'),\n",
    "\n",
    "            #Training\n",
    "            'COURSE_id': ('training', 'COURSE_SFK'),\n",
    "            'SALES_STAFF_id': ('training', 'SALES_STAFF_SFK'),\n",
    "\n",
    "            #Returned_item\n",
    "            'RETURN_REASON_id': ('returned_item', 'RETURN_REASON_SFK'),\n",
    "        }\n",
    "        #add_surrogate_foreign_key_columns(ssms_conn, fact_table, key_mappings)\n",
    "\n",
    "#Product\n",
    "def insert_sfk_targetData_product(conn):\n",
    "    cursor = conn.cursor()\n",
    "    sql = \"\"\"\n",
    "    UPDATE sales_targetData\n",
    "    SET product_SFK = b.SK\n",
    "    FROM sales_targetData a\n",
    "    LEFT JOIN PRODUCT b\n",
    "        ON b.id = a.product_id\n",
    "        AND datefromparts(a.year, a.period, 1) BETWEEN b.EffectiveDate AND ISNULL(b.EndDate, '20991231')\n",
    "    \"\"\"\n",
    "    try:\n",
    "        cursor.execute(sql)\n",
    "        conn.commit()\n",
    "        print(\"Successfully inserted/updated SFKs in sales_targetData.\")\n",
    "    except Exception as e:\n",
    "        conn.rollback()\n",
    "        print(f\"Error inserting/updating SFKs in sales_targetData: {e}\")\n",
    "    #finally:\n",
    "        #cursor.close()\n",
    "\n",
    "#Sales_staff\n",
    "def insert_sfk_targetData_sales_staff(conn):\n",
    "    cursor = conn.cursor()\n",
    "    sql = \"\"\"\n",
    "    UPDATE sales_targetData\n",
    "    SET sales_staff_sfk = b.SK\n",
    "    FROM sales_targetData a\n",
    "    LEFT JOIN sales_staff b\n",
    "        ON b.sales_staff_id = a.staff_id\n",
    "        AND datefromparts(a.year, a.period, 1) BETWEEN b.EffectiveDate AND ISNULL(b.EndDate, '20991231')\n",
    "    \"\"\"\n",
    "    try:\n",
    "        cursor.execute(sql)\n",
    "        conn.commit()\n",
    "        print(\"Successfully inserted/updated SFKs in Sales_staff.\")\n",
    "    except Exception as e:\n",
    "        conn.rollback()\n",
    "        print(f\"Error inserting/updating SFKs in Sales_staff: {e}\")\n",
    "    #finally:\n",
    "        #cursor.close()\n",
    "\n",
    "def insert_sfk_orders_product(conn):\n",
    "    cursor = conn.cursor()\n",
    "    sql = \"\"\"\n",
    "    UPDATE orders\n",
    "    SET product_sfk = b.SK\n",
    "    FROM orders a\n",
    "    LEFT JOIN product b\n",
    "        ON b.id = a.product_id\n",
    "        AND a.order_date BETWEEN b.EffectiveDate AND ISNULL(b.EndDate, '20991231')\n",
    "    \"\"\"\n",
    "    try:\n",
    "        cursor.execute(sql)\n",
    "        conn.commit()\n",
    "        print(\"Successfully inserted/updated SFKs in orders.\")\n",
    "    except Exception as e:\n",
    "        conn.rollback()\n",
    "        print(f\"Error inserting/updating SFKs in orders: {e}\")\n",
    "    #finally:\n",
    "        #cursor.close()"
   ]
  },
  {
   "cell_type": "markdown",
   "metadata": {},
   "source": [
    "# Populate Foreign Surrogate Keys"
   ]
  },
  {
   "cell_type": "code",
   "execution_count": null,
   "metadata": {},
   "outputs": [],
   "source": [
    "# Populate SFKs for the 'sales_targetData' fact table\n",
    "#insert_sfk_targetData_product(ssms_conn)\n",
    "#insert_sfk_targetData_sales_staff(ssms_conn)\n",
    "\n",
    "# Populate SFKs for the 'orders' fact table\n",
    "#insert_sfk_orders_product(ssms_conn)"
   ]
  },
  {
   "cell_type": "code",
   "execution_count": null,
   "metadata": {},
   "outputs": [],
   "source": [
    "# Test Output\n",
    "orders_df = fact_dfs['orders']\n",
    "product_df = dim_dfs['product']\n",
    "sales_targetData_df = fact_dfs['sales_targetData']\n",
    "sales_targetData_df.head()"
   ]
  },
  {
   "cell_type": "code",
   "execution_count": null,
   "metadata": {},
   "outputs": [],
   "source": [
    "product_df"
   ]
  },
  {
   "cell_type": "markdown",
   "metadata": {},
   "source": [
    "# Simulate Slowly Changing Dimensions Type 2"
   ]
  },
  {
   "cell_type": "code",
   "execution_count": 6,
   "metadata": {},
   "outputs": [
    {
     "ename": "DataError",
     "evalue": "('22018', \"[22018] [Microsoft][ODBC SQL Server Driver][SQL Server]Conversion failed when converting the nvarchar value 'Granite Belay' to data type int. (245) (SQLExecDirectW)\")",
     "output_type": "error",
     "traceback": [
      "\u001b[1;31m---------------------------------------------------------------------------\u001b[0m",
      "\u001b[1;31mDataError\u001b[0m                                 Traceback (most recent call last)",
      "Cell \u001b[1;32mIn[6], line 46\u001b[0m\n\u001b[0;32m     43\u001b[0m     ssms_cursor\u001b[38;5;241m.\u001b[39mexecute(update_sales_query, (new_sk, row[\u001b[38;5;241m1\u001b[39m], row[\u001b[38;5;241m-\u001b[39m\u001b[38;5;241m4\u001b[39m]))  \u001b[38;5;66;03m# Ensure correct indices and data types\u001b[39;00m\n\u001b[0;32m     44\u001b[0m     ssms_conn\u001b[38;5;241m.\u001b[39mcommit()\n\u001b[1;32m---> 46\u001b[0m \u001b[43msimulate_scd_type_2_with_fact_update\u001b[49m\u001b[43m(\u001b[49m\u001b[43m)\u001b[49m\n",
      "Cell \u001b[1;32mIn[6], line 43\u001b[0m, in \u001b[0;36msimulate_scd_type_2_with_fact_update\u001b[1;34m()\u001b[0m\n\u001b[0;32m     41\u001b[0m \u001b[38;5;66;03m# Optional Step 4: Update the sales_targetData table to reflect the new SK for the product\u001b[39;00m\n\u001b[0;32m     42\u001b[0m update_sales_query \u001b[38;5;241m=\u001b[39m \u001b[38;5;124m\"\u001b[39m\u001b[38;5;124mUPDATE sales_targetData SET product_SFK = ? WHERE product_id = ? AND product_SFK = ?\u001b[39m\u001b[38;5;124m\"\u001b[39m\n\u001b[1;32m---> 43\u001b[0m \u001b[43mssms_cursor\u001b[49m\u001b[38;5;241;43m.\u001b[39;49m\u001b[43mexecute\u001b[49m\u001b[43m(\u001b[49m\u001b[43mupdate_sales_query\u001b[49m\u001b[43m,\u001b[49m\u001b[43m \u001b[49m\u001b[43m(\u001b[49m\u001b[43mnew_sk\u001b[49m\u001b[43m,\u001b[49m\u001b[43m \u001b[49m\u001b[43mrow\u001b[49m\u001b[43m[\u001b[49m\u001b[38;5;241;43m1\u001b[39;49m\u001b[43m]\u001b[49m\u001b[43m,\u001b[49m\u001b[43m \u001b[49m\u001b[43mrow\u001b[49m\u001b[43m[\u001b[49m\u001b[38;5;241;43m-\u001b[39;49m\u001b[38;5;241;43m4\u001b[39;49m\u001b[43m]\u001b[49m\u001b[43m)\u001b[49m\u001b[43m)\u001b[49m  \u001b[38;5;66;03m# Ensure correct indices and data types\u001b[39;00m\n\u001b[0;32m     44\u001b[0m ssms_conn\u001b[38;5;241m.\u001b[39mcommit()\n",
      "\u001b[1;31mDataError\u001b[0m: ('22018', \"[22018] [Microsoft][ODBC SQL Server Driver][SQL Server]Conversion failed when converting the nvarchar value 'Granite Belay' to data type int. (245) (SQLExecDirectW)\")"
     ]
    }
   ],
   "source": [
    "# Assuming ssms_cursor and ssms_conn are already defined and connected to your database\n",
    "\n",
    "def simulate_scd_type_2_with_fact_update():\n",
    "    # Step 1: Select a random active row from the PRODUCT table\n",
    "    select_query = \"SELECT TOP 1 * FROM dbo.PRODUCT WHERE IsActive = 1 ORDER BY NEWID()\"\n",
    "    ssms_cursor.execute(select_query)\n",
    "    row = ssms_cursor.fetchone()\n",
    "    if row is None:\n",
    "        print(\"No active rows found.\")\n",
    "        return\n",
    "\n",
    "    # Define old_id here\n",
    "    old_id = row[0]  # Assuming the first column is 'id'\n",
    "\n",
    "    # Retrieve the maximum id value from the PRODUCT table\n",
    "    id_query = \"SELECT MAX(id) FROM dbo.PRODUCT\"\n",
    "    ssms_cursor.execute(id_query)\n",
    "    max_id = ssms_cursor.fetchone()[0]\n",
    "    new_id = max_id + 1 if max_id is not None else 1\n",
    "    \n",
    "    # Step 2: Update the previously active row to set IsActive to 0 and update EndDate\n",
    "    effective_date = datetime.now()\n",
    "    update_query = \"UPDATE dbo.PRODUCT SET IsActive = 0, EndDate = ? WHERE SK = ?\"\n",
    "    ssms_cursor.execute(update_query, (effective_date, row[-4]))\n",
    "    ssms_conn.commit()\n",
    "\n",
    "    # Step 3: Insert a new row with the same id (unusual for SCD Type 2)\n",
    "    params = (old_id,) + row[1:-4] + (effective_date, None, 1)\n",
    "    insert_query = \"\"\"\n",
    "    INSERT INTO dbo.PRODUCT \n",
    "    (id, name, image, description, type_id, type_name, line_id, line_name, introduction_date, production_cost, margin, language, EffectiveDate, EndDate, IsActive) \n",
    "    VALUES (?, ?, ?, ?, ?, ?, ?, ?, ?, ?, ?, ?, ?, ?, ?)\n",
    "    \"\"\"\n",
    "    ssms_cursor.execute(insert_query, params)\n",
    "    ssms_conn.commit()\n",
    "\n",
    "    # Fetch the last inserted SK\n",
    "    ssms_cursor.execute(\"SELECT SCOPE_IDENTITY() AS NewSK\")\n",
    "    new_sk = ssms_cursor.fetchone()[0]\n",
    "\n",
    "    # Optional Step 4: Update the sales_targetData table to reflect the new SK for the product\n",
    "    update_sales_query = \"UPDATE dbo.sales_targetData SET product_SFK = ? WHERE product_SFK = ?\"\n",
    "    ssms_cursor.execute(update_sales_query, (new_sk, row[-4]))  # Ensure correct indices and data types\n",
    "    ssms_conn.commit()\n",
    "\n",
    "simulate_scd_type_2_with_fact_update()"
   ]
  },
  {
   "cell_type": "code",
   "execution_count": null,
   "metadata": {},
   "outputs": [],
   "source": [
    "def simulate_scd_type_2():\n",
    "    # Step 1: Select a random active row from the PRODUCT table\n",
    "    select_query = \"SELECT TOP 1 * FROM dbo.PRODUCT WHERE IsActive = 1 ORDER BY NEWID()\"\n",
    "    ssms_cursor.execute(select_query)\n",
    "    row = ssms_cursor.fetchone()\n",
    "    if row is None:\n",
    "        print(\"No active rows found.\")\n",
    "        return\n",
    "\n",
    "    # Retrieve the maximum id value from the PRODUCT table\n",
    "    id_query = \"SELECT MAX(id) FROM dbo.PRODUCT\"\n",
    "    ssms_cursor.execute(id_query)\n",
    "    max_id = ssms_cursor.fetchone()[0]\n",
    "    new_id = max_id + 1 if max_id is not None else 1\n",
    "    \n",
    "    # Step 2: Update the previously active row to set IsActive to 0 and update EndDate\n",
    "    effective_date = datetime.now()\n",
    "    update_query = \"UPDATE dbo.PRODUCT SET IsActive = 0, EndDate = ? WHERE SK = ?\"\n",
    "    ssms_cursor.execute(update_query, (effective_date, row[-4]))\n",
    "    ssms_conn.commit()\n",
    "\n",
    "    # Step 3: Insert a new row without specifying the SK (identity column)\n",
    "    params = (new_id,) + row[1:-4] + (effective_date, None, 1)\n",
    "    insert_query = \"INSERT INTO dbo.PRODUCT (id, name, image, description, type_id, type_name, line_id, line_name, introduction_date, production_cost, margin, language, EffectiveDate, EndDate, IsActive) VALUES (?, ?, ?, ?, ?, ?, ?, ?, ?, ?, ?, ?, ?, ?, ?)\"\n",
    "    ssms_cursor.execute(insert_query, params)\n",
    "    ssms_conn.commit()\n",
    "\n",
    "# Assuming ssms_cursor and ssms_conn are already defined and connected to your database\n",
    "simulate_scd_type_2()\n",
    "\n",
    "# Close the cursor and connection\n",
    "#ssms_cursor.close()\n",
    "#ssms_conn.close()"
   ]
  },
  {
   "cell_type": "code",
   "execution_count": null,
   "metadata": {},
   "outputs": [],
   "source": [
    "# Close connections\n",
    "ssms_conn.close()\n",
    "ssms_cursor.close()\n",
    "sqlite_conn.close()\n",
    "go_sales_conn.close()\n",
    "go_staff_conn.close()\n",
    "go_crm_conn.close()"
   ]
  }
 ],
 "metadata": {
  "kernelspec": {
   "display_name": "Python 3",
   "language": "python",
   "name": "python3"
  },
  "language_info": {
   "codemirror_mode": {
    "name": "ipython",
    "version": 3
   },
   "file_extension": ".py",
   "mimetype": "text/x-python",
   "name": "python",
   "nbconvert_exporter": "python",
   "pygments_lexer": "ipython3",
   "version": "3.12.0"
  }
 },
 "nbformat": 4,
 "nbformat_minor": 2
}
