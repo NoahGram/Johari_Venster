{
 "cells": [
  {
   "cell_type": "code",
   "execution_count": 1,
   "metadata": {},
   "outputs": [],
   "source": [
    "import pandas as pd\n",
    "import pyodbc\n",
    "import sqlite3\n",
    "import numpy as np"
   ]
  },
  {
   "cell_type": "code",
   "execution_count": 2,
   "metadata": {},
   "outputs": [
    {
     "data": {
      "text/plain": [
       "<pyodbc.Cursor at 0x2179dcf3430>"
      ]
     },
     "execution_count": 2,
     "metadata": {},
     "output_type": "execute_result"
    }
   ],
   "source": [
    "DB = {'servername': '.',\n",
    "    'database': 'johari'}\n",
    "\n",
    "ssms_conn = pyodbc.connect('DRIVER={SQL Server};SERVER=' + DB['servername'] + \n",
    "                     ';DATABASE=' + DB['database'] + ';Trusted_Connection=yes')\n",
    "ssms_cursor = ssms_conn.cursor()\n",
    "ssms_cursor"
   ]
  },
  {
   "cell_type": "code",
   "execution_count": 3,
   "metadata": {},
   "outputs": [],
   "source": [
    "# Lokale connecties\n",
    "sqlite_conn = sqlite3.connect('../data/processed/dwh.sqlite')\n",
    "go_sales_conn = sqlite3.connect('../data/raw/go_sales.sqlite')\n",
    "go_staff_conn = sqlite3.connect('../data/raw/go_staff.sqlite')\n",
    "go_crm_conn = sqlite3.connect('../data/raw/go_crm.sqlite')"
   ]
  },
  {
   "cell_type": "markdown",
   "metadata": {},
   "source": [
    "## SQLite --> Dataframes"
   ]
  },
  {
   "cell_type": "markdown",
   "metadata": {},
   "source": [
    "### Dimensies"
   ]
  },
  {
   "cell_type": "code",
   "execution_count": 4,
   "metadata": {},
   "outputs": [
    {
     "data": {
      "text/plain": [
       "5"
      ]
     },
     "execution_count": 4,
     "metadata": {},
     "output_type": "execute_result"
    }
   ],
   "source": [
    "# RETURNED_REASON\n",
    "return_reason = pd.read_sql_query('SELECT * FROM RETURN_REASON', go_sales_conn)\n",
    "return_reason = return_reason[['RETURN_REASON_CODE', 'RETURN_DESCRIPTION_EN']]\n",
    "return_reason.to_sql('RETURN_REASON', sqlite_conn, if_exists='replace', index=False)"
   ]
  },
  {
   "cell_type": "code",
   "execution_count": 5,
   "metadata": {},
   "outputs": [
    {
     "data": {
      "text/plain": [
       "7"
      ]
     },
     "execution_count": 5,
     "metadata": {},
     "output_type": "execute_result"
    }
   ],
   "source": [
    "# ORDER_METHOD\n",
    "order_method = pd.read_sql_query('SELECT * FROM ORDER_METHOD', go_sales_conn)\n",
    "order_method = order_method[['ORDER_METHOD_CODE', 'ORDER_METHOD_EN']]\n",
    "order_method.to_sql('ORDER_METHOD', sqlite_conn, if_exists='replace', index=False)"
   ]
  },
  {
   "cell_type": "code",
   "execution_count": 6,
   "metadata": {},
   "outputs": [
    {
     "data": {
      "text/plain": [
       "9"
      ]
     },
     "execution_count": 6,
     "metadata": {},
     "output_type": "execute_result"
    }
   ],
   "source": [
    "# COURSE\n",
    "course = pd.read_sql_query('SELECT * FROM COURSE', go_staff_conn)\n",
    "course = course[['COURSE_CODE', 'COURSE_DESCRIPTION']]\n",
    "course.to_sql('COURSE', sqlite_conn, if_exists='replace', index=False)"
   ]
  },
  {
   "cell_type": "code",
   "execution_count": 7,
   "metadata": {},
   "outputs": [
    {
     "data": {
      "text/plain": [
       "5"
      ]
     },
     "execution_count": 7,
     "metadata": {},
     "output_type": "execute_result"
    }
   ],
   "source": [
    "# RETURNED_REASON\n",
    "returned_reason = pd.read_sql_query('SELECT * FROM RETURN_REASON', go_sales_conn)\n",
    "returned_reason = returned_reason[['RETURN_REASON_CODE', 'RETURN_DESCRIPTION_EN']]\n",
    "returned_reason.to_sql('RETURN_REASON', sqlite_conn, if_exists='replace', index=False)"
   ]
  },
  {
   "cell_type": "code",
   "execution_count": 8,
   "metadata": {},
   "outputs": [
    {
     "data": {
      "text/plain": [
       "7"
      ]
     },
     "execution_count": 8,
     "metadata": {},
     "output_type": "execute_result"
    }
   ],
   "source": [
    "# ORDER_METHOD\n",
    "order_method = pd.read_sql_query('SELECT * FROM ORDER_METHOD', go_sales_conn)\n",
    "order_method = order_method[['ORDER_METHOD_CODE', 'ORDER_METHOD_EN']]\n",
    "order_method.to_sql('ORDER_METHOD', sqlite_conn, if_exists='replace', index=False)"
   ]
  },
  {
   "cell_type": "code",
   "execution_count": 9,
   "metadata": {},
   "outputs": [
    {
     "data": {
      "text/plain": [
       "9"
      ]
     },
     "execution_count": 9,
     "metadata": {},
     "output_type": "execute_result"
    }
   ],
   "source": [
    "# COURSE\n",
    "course = pd.read_sql_query('SELECT * FROM COURSE', go_staff_conn)\n",
    "course = course[['COURSE_CODE', 'COURSE_DESCRIPTION']]\n",
    "course.to_sql('COURSE', sqlite_conn, if_exists='replace', index=False)"
   ]
  },
  {
   "cell_type": "code",
   "execution_count": 10,
   "metadata": {},
   "outputs": [
    {
     "data": {
      "text/plain": [
       "5"
      ]
     },
     "execution_count": 10,
     "metadata": {},
     "output_type": "execute_result"
    }
   ],
   "source": [
    "# SATISFACTION_TYPE\n",
    "satisfaction_type = pd.read_sql_query('SELECT * FROM SATISFACTION_TYPE', go_staff_conn)\n",
    "satisfaction_type = satisfaction_type[['SATISFACTION_TYPE_CODE', 'SATISFACTION_TYPE_DESCRIPTION']]\n",
    "satisfaction_type.to_sql('SATISFACTION_TYPE', sqlite_conn, if_exists='replace', index=False)"
   ]
  },
  {
   "cell_type": "code",
   "execution_count": 11,
   "metadata": {},
   "outputs": [
    {
     "data": {
      "text/plain": [
       "115"
      ]
     },
     "execution_count": 11,
     "metadata": {},
     "output_type": "execute_result"
    }
   ],
   "source": [
    "# PRODUCT\n",
    "product = pd.read_sql_query('SELECT * FROM PRODUCT', go_sales_conn).drop(columns=['TRIAL888'])\n",
    "product_type = pd.read_sql_query('SELECT * FROM PRODUCT_TYPE', go_sales_conn)\n",
    "product_line = pd.read_sql_query('SELECT * FROM PRODUCT_LINE', go_sales_conn).drop(columns=['TRIAL888'])\n",
    "\n",
    "product_type = product_type[['PRODUCT_TYPE_CODE', 'PRODUCT_TYPE_EN', 'PRODUCT_LINE_CODE']]\n",
    "product = pd.merge(product, product_type, on='PRODUCT_TYPE_CODE', how='left')\n",
    "product = pd.merge(product, product_line, on='PRODUCT_LINE_CODE', how='left')\n",
    "\n",
    "product.to_sql('PRODUCT', sqlite_conn, if_exists='replace', index=False)"
   ]
  },
  {
   "cell_type": "code",
   "execution_count": 12,
   "metadata": {},
   "outputs": [
    {
     "data": {
      "text/plain": [
       "102"
      ]
     },
     "execution_count": 12,
     "metadata": {},
     "output_type": "execute_result"
    }
   ],
   "source": [
    "# SALES_STAFF\n",
    "sales_staff = pd.read_sql_query('SELECT * FROM SALES_STAFF', go_staff_conn)\n",
    "sales_branch = pd.read_sql_query('SELECT * FROM SALES_BRANCH', go_staff_conn)\n",
    "country = pd.read_sql_query('SELECT * FROM COUNTRY', go_sales_conn)\n",
    "\n",
    "sales_staff = sales_staff[['SALES_STAFF_CODE', 'FIRST_NAME', 'LAST_NAME', 'WORK_PHONE', 'EMAIL', 'FAX', 'SALES_BRANCH_CODE', 'POSITION_EN', 'DATE_HIRED', 'EXTENSION']]\n",
    "sales_branch = sales_branch[['SALES_BRANCH_CODE', 'ADDRESS1', 'ADDRESS2', 'CITY', 'REGION', 'POSTAL_ZONE', 'COUNTRY_CODE']]\n",
    "country = country[['COUNTRY_CODE', 'COUNTRY', 'LANGUAGE', 'CURRENCY_NAME']]\n",
    "\n",
    "sales_staff = pd.merge(sales_staff, sales_branch, how='inner', left_on='SALES_BRANCH_CODE', right_on='SALES_BRANCH_CODE')\n",
    "sales_staff = pd.merge(sales_staff, country, how='inner', left_on='COUNTRY_CODE', right_on='COUNTRY_CODE')\n",
    "\n",
    "sales_staff.to_sql('SALES_STAFF', sqlite_conn, if_exists='replace', index=False)"
   ]
  },
  {
   "cell_type": "code",
   "execution_count": 13,
   "metadata": {},
   "outputs": [
    {
     "data": {
      "text/plain": [
       "2082"
      ]
     },
     "execution_count": 13,
     "metadata": {},
     "output_type": "execute_result"
    }
   ],
   "source": [
    "# RETAILER_CONTACT\n",
    "retailer_contact = pd.read_sql_query('SELECT * FROM RETAILER_CONTACT', go_crm_conn)\n",
    "retailer_site = pd.read_sql_query('SELECT * FROM RETAILER_SITE', go_crm_conn)\n",
    "country_retailer_site = pd.read_sql_query('SELECT * FROM COUNTRY', go_crm_conn)\n",
    "sales_territory_retailer_site = pd.read_sql_query('SELECT * FROM SALES_TERRITORY', go_crm_conn)\n",
    "retailer = pd.read_sql_query('SELECT * FROM RETAILER', go_crm_conn)\n",
    "retailer_type = pd.read_sql_query('SELECT * FROM RETAILER_TYPE', go_crm_conn)\n",
    "retailer_headquarters = pd.read_sql_query('SELECT * FROM RETAILER_HEADQUARTERS', go_crm_conn)\n",
    "country_retailer_headquarters = pd.read_sql_query('SELECT * FROM COUNTRY', go_crm_conn)\n",
    "sales_territory_retailer_headquarters = pd.read_sql_query('SELECT * FROM SALES_TERRITORY', go_crm_conn)\n",
    "retailer_segment = pd.read_sql_query('SELECT * FROM RETAILER_SEGMENT', go_crm_conn)\n",
    "sales_demographic = pd.read_sql_query('SELECT * FROM SALES_DEMOGRAPHIC', go_crm_conn)\n",
    "age_group = pd.read_sql_query('SELECT * FROM AGE_GROUP', go_crm_conn)\n",
    "\n",
    "\n",
    "# Selecteer alleen de kolommen die we nodig hebben en hernoem ze wanneer nodig\n",
    "retailer_contact = retailer_contact[['RETAILER_CONTACT_CODE', 'RETAILER_SITE_CODE', 'FIRST_NAME', 'LAST_NAME', 'JOB_POSITION_EN', 'EXTENSION', 'FAX', 'E_MAIL', 'GENDER']].rename(columns={'FAX': 'FAX_retailer_contact'})\n",
    "\n",
    "retailer_site = retailer_site[['RETAILER_SITE_CODE', 'RETAILER_CODE', 'ADDRESS1', 'ADDRESS2', 'CITY', 'REGION', 'POSTAL_ZONE', 'COUNTRY_CODE', 'ACTIVE_INDICATOR']].rename(columns={'ADDRESS1': 'ADDRESS1_retailer_site', 'ADDRESS2': 'ADDRESS2_retailer_site', 'CITY': 'CITY_retailer_site', 'REGION': 'REGION_retailer_site', 'POSTAL_ZONE': 'POSTAL_ZONE_retailer_site'})\n",
    "country_retailer_site = country_retailer_site[['COUNTRY_CODE', 'COUNTRY_EN', 'FLAG_IMAGE', 'SALES_TERRITORY_CODE']].rename(columns={'COUNTRY_EN': 'COUNTRY_EN_retailer_site', 'FLAG_IMAGE': 'FLAG_IMAGE_retailer_site', 'SALES_TERRITORY_CODE': 'SALES_TERRITORY_CODE_retailer_site'})\n",
    "sales_territory_retailer_site = sales_territory_retailer_site[['SALES_TERRITORY_CODE', 'TERRITORY_NAME_EN']].rename(columns={'SALES_TERRITORY_CODE': 'SALES_TERRITORY_CODE_retailer_site', 'TERRITORY_NAME_EN': 'TERRITORY_NAME_EN_retailer_site'})\n",
    "\n",
    "retailer = retailer[['RETAILER_CODE', 'RETAILER_CODEMR', 'COMPANY_NAME', 'RETAILER_TYPE_CODE']]\n",
    "retailer_type = retailer_type[['RETAILER_TYPE_CODE', 'RETAILER_TYPE_EN']]\n",
    "\n",
    "retailer_headquarters = retailer_headquarters[['RETAILER_CODEMR', 'RETAILER_NAME', 'ADDRESS1', 'ADDRESS2', 'CITY', 'REGION', 'POSTAL_ZONE', 'COUNTRY_CODE', 'PHONE', 'FAX', 'SEGMENT_CODE']].rename(columns={'FAX': 'FAX_retailer_headquarters', 'ADDRESS1': 'ADDRESS1_retailer_headquarters', 'ADDRESS2': 'ADDRESS2_retailer_headquarters', 'CITY': 'CITY_retailer_headquarters', 'REGION': 'REGION_retailer_headquarters', 'POSTAL_ZONE': 'POSTAL_ZONE_retailer_headquarters'})\n",
    "country_retailer_headquarters = country_retailer_headquarters[['COUNTRY_CODE', 'COUNTRY_EN', 'FLAG_IMAGE', 'SALES_TERRITORY_CODE']].rename(columns={'COUNTRY_EN': 'COUNTRY_EN_retailer_headquarters', 'FLAG_IMAGE': 'FLAG_IMAGE_retailer_headquarters', 'SALES_TERRITORY_CODE': 'SALES_TERRITORY_CODE_retailer_headquarters'})\n",
    "sales_territory_retailer_headquarters = sales_territory_retailer_headquarters[['SALES_TERRITORY_CODE', 'TERRITORY_NAME_EN']].rename(columns={'SALES_TERRITORY_CODE': 'SALES_TERRITORY_CODE_retailer_headquarters', 'TERRITORY_NAME_EN': 'TERRITORY_NAME_EN_retailer_headquarters'})\n",
    "retailer_segment = retailer_segment[['SEGMENT_CODE', 'LANGUAGE', 'SEGMENT_NAME', 'SEGMENT_DESCRIPTION']]\n",
    "sales_demographic = sales_demographic[['DEMOGRAPHIC_CODE', 'RETAILER_CODEMR', 'AGE_GROUP_CODE', 'SALES_PERCENT']]\n",
    "age_group = age_group[['AGE_GROUP_CODE', 'UPPER_AGE', 'LOWER_AGE']]\n",
    "\n",
    "\n",
    "# Merge alle tabellen\n",
    "retailer_site = pd.merge(retailer_site, country_retailer_site, how='inner', on='COUNTRY_CODE').rename(columns={'COUNTRY_CODE': 'COUNTRY_CODE_retailer_site'})\n",
    "retailer_site = pd.merge(retailer_site, sales_territory_retailer_site, how='inner', on='SALES_TERRITORY_CODE_retailer_site', suffixes=('', '_retailer_site'))\n",
    "retailer_contact = pd.merge(retailer_contact, retailer_site, how='inner', on='RETAILER_SITE_CODE')\n",
    "retailer_contact = pd.merge(retailer_contact, retailer, how='inner', on='RETAILER_CODE')\n",
    "retailer_contact = pd.merge(retailer_contact, retailer_type, how='inner', on='RETAILER_TYPE_CODE')\n",
    "retailer_contact = pd.merge(retailer_contact, retailer_headquarters, how='inner', on='RETAILER_CODEMR')\n",
    "retailer_contact = pd.merge(retailer_contact, country_retailer_headquarters, how='inner', on='COUNTRY_CODE').rename(columns={'COUNTRY_CODE': 'COUNTRY_CODE_retailer_headquarters'})\n",
    "retailer_contact = pd.merge(retailer_contact, sales_territory_retailer_headquarters, how='inner', on='SALES_TERRITORY_CODE_retailer_headquarters')\n",
    "retailer_contact = pd.merge(retailer_contact, retailer_segment, how='inner', on='SEGMENT_CODE')\n",
    "retailer_contact = pd.merge(retailer_contact, sales_demographic, how='inner', on='RETAILER_CODEMR')\n",
    "retailer_contact = pd.merge(retailer_contact, age_group, how='inner', on='AGE_GROUP_CODE')\n",
    "\n",
    "\n",
    "# Naar SQLite voor visuele debugging\n",
    "retailer_contact.to_sql('RETAILER_CONTACT', sqlite_conn, if_exists='replace', index=False)"
   ]
  },
  {
   "cell_type": "markdown",
   "metadata": {},
   "source": [
    "### Feiten"
   ]
  },
  {
   "cell_type": "code",
   "execution_count": 14,
   "metadata": {},
   "outputs": [
    {
     "data": {
      "text/plain": [
       "301"
      ]
     },
     "execution_count": 14,
     "metadata": {},
     "output_type": "execute_result"
    }
   ],
   "source": [
    "# SATISFACTION\n",
    "satisfaction = pd.read_sql_query('SELECT * FROM satisfaction', go_staff_conn)\n",
    "satisfaction_type = pd.read_sql_query('SELECT * FROM SATISFACTION_TYPE', go_staff_conn).drop(columns=['TRIAL633'])\n",
    "sales_staff = pd.read_sql_query('SELECT * FROM SALES_STAFF', go_staff_conn)\n",
    "\n",
    "satisfaction = satisfaction[['YEAR', 'SALES_STAFF_CODE', 'SATISFACTION_TYPE_CODE']]\n",
    "sales_staff = sales_staff[['SALES_STAFF_CODE', 'POSITION_EN']]\n",
    "\n",
    "satisfaction = pd.merge(satisfaction, satisfaction_type, how='inner', on='SATISFACTION_TYPE_CODE')\n",
    "satisfaction = pd.merge(satisfaction, sales_staff, how='inner', on='SALES_STAFF_CODE')\n",
    "\n",
    "satisfaction.to_sql('SATISFACTION', sqlite_conn, if_exists='replace', index=False)"
   ]
  },
  {
   "cell_type": "code",
   "execution_count": 15,
   "metadata": {},
   "outputs": [
    {
     "data": {
      "text/plain": [
       "402"
      ]
     },
     "execution_count": 15,
     "metadata": {},
     "output_type": "execute_result"
    }
   ],
   "source": [
    "# TRAINING\n",
    "training = pd.read_sql_query('SELECT * FROM training', go_staff_conn)\n",
    "course = pd.read_sql_query('SELECT * FROM COURSE', go_staff_conn).drop(columns=['TRIAL633'])\n",
    "sales_staff = pd.read_sql_query('SELECT * FROM SALES_STAFF', go_staff_conn)\n",
    "\n",
    "training = training[['YEAR', 'COURSE_CODE', 'SALES_STAFF_CODE']]\n",
    "sales_staff = sales_staff[['SALES_STAFF_CODE', 'POSITION_EN']]\n",
    "\n",
    "training = pd.merge(training, course, how='inner', on='COURSE_CODE')\n",
    "training = pd.merge(training, sales_staff, how='inner', on='SALES_STAFF_CODE')\n",
    "\n",
    "training.to_sql('TRAINING', sqlite_conn, if_exists='replace', index=False)"
   ]
  },
  {
   "cell_type": "code",
   "execution_count": 16,
   "metadata": {},
   "outputs": [
    {
     "data": {
      "text/plain": [
       "39530"
      ]
     },
     "execution_count": 16,
     "metadata": {},
     "output_type": "execute_result"
    }
   ],
   "source": [
    "# SALES_TARGETData\n",
    "sales_target = pd.read_sql_query('SELECT * FROM SALES_TARGETData', go_sales_conn).drop(columns=['TRIAL888'])\n",
    "product = pd.read_sql_query('SELECT * FROM PRODUCT', go_sales_conn)\n",
    "product_type = pd.read_sql_query('SELECT * FROM PRODUCT_TYPE', go_sales_conn)\n",
    "product_line = pd.read_sql_query('SELECT * FROM PRODUCT_LINE', go_sales_conn)\n",
    "retailer = pd.read_sql_query('SELECT * FROM RETAILER', go_crm_conn)\n",
    "retailer_type = pd.read_sql_query('SELECT * FROM RETAILER_TYPE', go_crm_conn).drop(columns=['TRIAL222'])\n",
    "sales_staff = pd.read_sql_query('SELECT * FROM SALES_STAFF', go_staff_conn)\n",
    "\n",
    "product = product[['PRODUCT_NUMBER', 'PRODUCT_NAME', 'PRODUCT_TYPE_CODE']]\n",
    "product_type = product_type[['PRODUCT_TYPE_CODE', 'PRODUCT_TYPE_EN', 'PRODUCT_LINE_CODE']]\n",
    "product_line = product_line[['PRODUCT_LINE_CODE', 'PRODUCT_LINE_EN']]\n",
    "retailer = retailer[['RETAILER_CODE', 'COMPANY_NAME', 'RETAILER_TYPE_CODE']]\n",
    "sales_staff = sales_staff[['SALES_STAFF_CODE', 'POSITION_EN']]\n",
    "\n",
    "product = pd.merge(product, product_type, how='inner', on='PRODUCT_TYPE_CODE')\n",
    "product = pd.merge(product, product_line, how='inner', on='PRODUCT_LINE_CODE')\n",
    "retailer = pd.merge(retailer, retailer_type, how='inner', on='RETAILER_TYPE_CODE')\n",
    "sales_target = pd.merge(sales_target, sales_staff, how='inner', on='SALES_STAFF_CODE')\n",
    "sales_target = pd.merge(sales_target, product, how='inner', on='PRODUCT_NUMBER')\n",
    "sales_target = pd.merge(sales_target, retailer, how='inner', on='RETAILER_CODE')\n",
    "\n",
    "sales_target.to_sql('SALES_TARGETData', sqlite_conn, if_exists='replace', index=False)"
   ]
  },
  {
   "cell_type": "code",
   "execution_count": 17,
   "metadata": {},
   "outputs": [
    {
     "data": {
      "text/plain": [
       "43063"
      ]
     },
     "execution_count": 17,
     "metadata": {},
     "output_type": "execute_result"
    }
   ],
   "source": [
    "# ORDER\n",
    "order_details = pd.read_sql_query('SELECT * FROM order_details', go_sales_conn).drop(columns=['TRIAL879'])\n",
    "# product = pd.read_sql_query('SELECT * FROM PRODUCT', go_sales_conn).drop(columns=['TRIAL888'])\n",
    "# product_type = pd.read_sql_query('SELECT * FROM PRODUCT_TYPE', go_sales_conn).drop(columns=['TRIAL888'])\n",
    "# product_line = pd.read_sql_query('SELECT * FROM PRODUCT_LINE', go_sales_conn).drop(columns=['TRIAL888'])\n",
    "\n",
    "order_header = pd.read_sql_query('SELECT * FROM order_header', go_sales_conn).drop(columns=['TRIAL885'])\n",
    "# retailer_site = pd.read_sql_query('SELECT * FROM RETAILER_SITE', go_sales_conn).drop(columns=['TRIAL888'])\n",
    "# retailer_contact = pd.read_sql_query('SELECT * FROM RETAILER_CONTACT', go_crm_conn).drop(columns=['TRIAL222'])\n",
    "# sales_staff = pd.read_sql_query('SELECT * FROM SALES_STAFF', go_staff_conn).drop(columns=['TRIAL888'])\n",
    "# sales_branch = pd.read_sql_query('SELECT * FROM SALES_BRANCH', go_staff_conn).drop(columns=['TRIAL888'])\n",
    "order_method = pd.read_sql_query('SELECT * FROM ORDER_METHOD', go_sales_conn).drop(columns=['TRIAL888'])\n",
    "\n",
    "\n",
    "# Merge alle tabellen\n",
    "order_header = pd.merge(order_header, order_method, how='inner', on='ORDER_METHOD_CODE')\n",
    "order_details = pd.merge(order_details, order_header, how='inner', on='ORDER_NUMBER')\n",
    "\n",
    "order_details.to_sql('ORDER', sqlite_conn, if_exists='replace', index=False)"
   ]
  },
  {
   "cell_type": "code",
   "execution_count": 18,
   "metadata": {},
   "outputs": [
    {
     "data": {
      "text/plain": [
       "706"
      ]
     },
     "execution_count": 18,
     "metadata": {},
     "output_type": "execute_result"
    }
   ],
   "source": [
    "# RETURNED_ITEM\n",
    "returned_item = pd.read_sql_query('SELECT * FROM RETURNED_ITEM', go_sales_conn).drop(columns=['TRIAL888'])\n",
    "return_reason = pd.read_sql_query('SELECT * FROM RETURN_REASON', go_sales_conn).drop(columns=['TRIAL888'])\n",
    "\n",
    "returned_item = pd.merge(returned_item, return_reason, how='inner', on='RETURN_REASON_CODE')\n",
    "\n",
    "returned_item.to_sql('RETURNED_ITEM', sqlite_conn, if_exists='replace', index=False)"
   ]
  },
  {
   "cell_type": "code",
   "execution_count": 19,
   "metadata": {},
   "outputs": [
    {
     "data": {
      "text/plain": [
       "3872"
      ]
     },
     "execution_count": 19,
     "metadata": {},
     "output_type": "execute_result"
    }
   ],
   "source": [
    "# SALES_PRODUCT_FORECAST\n",
    "sales_product_forecast = pd.read_csv('../data/raw/GO_SALES_PRODUCT_FORECASTData.csv')\n",
    "product = pd.read_sql_query('SELECT * FROM PRODUCT', go_sales_conn)\n",
    "product_type = pd.read_sql_query('SELECT * FROM PRODUCT_TYPE', go_sales_conn)\n",
    "product_line = pd.read_sql_query('SELECT * FROM PRODUCT_LINE', go_sales_conn)\n",
    "\n",
    "sales_product_forecast['PRODUCT_NUMBER'] = sales_product_forecast['PRODUCT_NUMBER'].astype('int64')\n",
    "product['PRODUCT_NUMBER'] = product['PRODUCT_NUMBER'].astype('int64')\n",
    "product = product[['PRODUCT_NUMBER', 'PRODUCT_NAME', 'PRODUCT_TYPE_CODE']]\n",
    "product_type = product_type[['PRODUCT_TYPE_CODE', 'PRODUCT_TYPE_EN', 'PRODUCT_LINE_CODE']]\n",
    "product_line = product_line[['PRODUCT_LINE_CODE', 'PRODUCT_LINE_EN']]\n",
    "\n",
    "sales_product_forecast = pd.merge(sales_product_forecast, product, how='inner', on='PRODUCT_NUMBER')\n",
    "sales_product_forecast = pd.merge(sales_product_forecast, product_type, how='inner', on='PRODUCT_TYPE_CODE')\n",
    "sales_product_forecast = pd.merge(sales_product_forecast, product_line, how='inner', on='PRODUCT_LINE_CODE')\n",
    "\n",
    "sales_product_forecast.to_sql('SALES_PRODUCT_FORECAST', sqlite_conn, if_exists='replace', index=False)"
   ]
  },
  {
   "cell_type": "code",
   "execution_count": 20,
   "metadata": {},
   "outputs": [
    {
     "data": {
      "text/plain": [
       "3888"
      ]
     },
     "execution_count": 20,
     "metadata": {},
     "output_type": "execute_result"
    }
   ],
   "source": [
    "# SALES_INVENTORY_LEVELS\n",
    "sales_inventory_levels = pd.read_csv('../data/raw/GO_SALES_INVENTORY_LEVELSData.csv', index_col=False)\n",
    "product = pd.read_sql_query('SELECT * FROM PRODUCT', go_sales_conn)\n",
    "product_type = pd.read_sql_query('SELECT * FROM PRODUCT_TYPE', go_sales_conn)\n",
    "product_line = pd.read_sql_query('SELECT * FROM PRODUCT_LINE', go_sales_conn)\n",
    "\n",
    "product = product[['PRODUCT_NUMBER', 'PRODUCT_NAME', 'PRODUCT_TYPE_CODE']]\n",
    "product_type = product_type[['PRODUCT_TYPE_CODE', 'PRODUCT_TYPE_EN', 'PRODUCT_LINE_CODE']]\n",
    "product_line = product_line[['PRODUCT_LINE_CODE', 'PRODUCT_LINE_EN']]\n",
    "sales_inventory_levels['PRODUCT_NUMBER'] = sales_inventory_levels['PRODUCT_NUMBER'].astype('int64')\n",
    "product['PRODUCT_NUMBER'] = product['PRODUCT_NUMBER'].astype('int64')\n",
    "\n",
    "sales_inventory_levels = pd.merge(sales_inventory_levels, product, how='inner', on='PRODUCT_NUMBER')\n",
    "sales_inventory_levels = pd.merge(sales_inventory_levels, product_type, how='inner', on='PRODUCT_TYPE_CODE')\n",
    "sales_inventory_levels = pd.merge(sales_inventory_levels, product_line, how='inner', on='PRODUCT_LINE_CODE')\n",
    "\n",
    "sales_inventory_levels.to_sql('SALES_INVENTORY_LEVELS', sqlite_conn, if_exists='replace', index=False)"
   ]
  },
  {
   "cell_type": "markdown",
   "metadata": {},
   "source": [
    "## Dataframes --> SSMS"
   ]
  },
  {
   "cell_type": "markdown",
   "metadata": {},
   "source": [
    "### Dimensies"
   ]
  },
  {
   "cell_type": "code",
   "execution_count": 21,
   "metadata": {},
   "outputs": [],
   "source": [
    "# RETURNED_REASON\n",
    "for index, row in return_reason.iterrows():\n",
    "    try:\n",
    "        query = f\"INSERT INTO dbo.RETURN_REASON VALUES ({row['RETURN_REASON_CODE']}, '{row['RETURN_DESCRIPTION_EN']}')\"\n",
    "        ssms_cursor.execute(query)\n",
    "        ssms_conn.commit()\n",
    "    except Exception as e:\n",
    "        print(e)\n",
    "        ssms_conn.rollback()\n",
    "        break"
   ]
  },
  {
   "cell_type": "code",
   "execution_count": 22,
   "metadata": {},
   "outputs": [],
   "source": [
    "# ORDER_METHOD\n",
    "for index, row in order_method.iterrows():\n",
    "    try:\n",
    "        query = f\"INSERT INTO dbo.ORDER_METHOD VALUES ({row['ORDER_METHOD_CODE']}, '{row['ORDER_METHOD_EN']}')\"\n",
    "        ssms_cursor.execute(query)\n",
    "        ssms_conn.commit()\n",
    "    except Exception as e:\n",
    "        print(e)\n",
    "        ssms_conn.rollback()\n",
    "        break"
   ]
  },
  {
   "cell_type": "code",
   "execution_count": 23,
   "metadata": {},
   "outputs": [],
   "source": [
    "# COURSE\n",
    "for index, row in course.iterrows():\n",
    "    try:\n",
    "        query = f\"INSERT INTO dbo.COURSE VALUES ({row['COURSE_CODE']}, '{row['COURSE_DESCRIPTION']}')\"\n",
    "        ssms_cursor.execute(query)\n",
    "        ssms_conn.commit()\n",
    "    except Exception as e:\n",
    "        print(e)\n",
    "        ssms_conn.rollback()\n",
    "        break"
   ]
  },
  {
   "cell_type": "code",
   "execution_count": 24,
   "metadata": {},
   "outputs": [],
   "source": [
    "# SATISFACTION_TYPE\n",
    "for index, row in satisfaction_type.iterrows():\n",
    "    try:\n",
    "        query = f\"INSERT INTO dbo.SATISFACTION_TYPE VALUES ({row['SATISFACTION_TYPE_CODE']}, '{row['SATISFACTION_TYPE_DESCRIPTION']}')\"\n",
    "        ssms_cursor.execute(query)\n",
    "        ssms_conn.commit()\n",
    "    except Exception as e:\n",
    "        print(e)\n",
    "        ssms_conn.rollback()\n",
    "        break"
   ]
  },
  {
   "cell_type": "code",
   "execution_count": 25,
   "metadata": {},
   "outputs": [],
   "source": [
    "# PRODUCT\n",
    "product = pd.read_sql_query('SELECT * FROM PRODUCT', sqlite_conn)\n",
    "\n",
    "for index, row in product.iterrows():\n",
    "    try:\n",
    "        introduction_date = pd.to_datetime(row['INTRODUCTION_DATE'], dayfirst=True).strftime('%Y-%m-%d')\n",
    "        query = \"INSERT INTO PRODUCT VALUES (?, ?, ?, ?, ?, ?, ?, ?, ?, ? ,? ,?)\"\n",
    "        params = (row['PRODUCT_NUMBER'], row['PRODUCT_NAME'], row['PRODUCT_IMAGE'], row['DESCRIPTION'], row['PRODUCT_TYPE_CODE'], row['PRODUCT_TYPE_EN'], row['PRODUCT_LINE_CODE'], row['PRODUCT_LINE_EN'], introduction_date, row['PRODUCTION_COST'], row['MARGIN'], row['LANGUAGE'])\n",
    "        ssms_cursor.execute(query, params)\n",
    "        ssms_conn.commit()\n",
    "    except Exception as e:\n",
    "        print(e)\n",
    "        ssms_conn.rollback()\n",
    "        break"
   ]
  },
  {
   "cell_type": "code",
   "execution_count": 26,
   "metadata": {},
   "outputs": [],
   "source": [
    "# SALES_STAFF\n",
    "sales_staff = pd.read_sql_query('SELECT * FROM SALES_STAFF', sqlite_conn)\n",
    "sales_staff['DATE_HIRED'] = pd.to_datetime(sales_staff['DATE_HIRED'], format='%d-%b-%Y %I:%M:%S %p')\n",
    "sales_staff['EXTENSION'] = pd.to_numeric(sales_staff['EXTENSION'], errors='coerce').fillna(0).astype(int)\n",
    "\n",
    "for index, row in sales_staff.iterrows():\n",
    "    try:\n",
    "        \n",
    "        query = \"INSERT INTO SALES_STAFF VALUES (?, ?, ?, ?, ?, ?, ?, ?, ?, ?, ?, ?, ?, ?, ?, ?, ?, ?, ?)\"\n",
    "        params = (\n",
    "            row['SALES_STAFF_CODE'], \n",
    "            row['FIRST_NAME'], \n",
    "            row['LAST_NAME'], \n",
    "            row['WORK_PHONE'], \n",
    "            row['EMAIL'], \n",
    "            row['FAX'], \n",
    "            row['POSITION_EN'], \n",
    "            row['DATE_HIRED'],\n",
    "            row['EXTENSION'],\n",
    "            row['SALES_BRANCH_CODE'], \n",
    "            row['ADDRESS1'],\n",
    "            row['ADDRESS2'],\n",
    "            row['CITY'],\n",
    "            row['REGION'],\n",
    "            row['POSTAL_ZONE'],\n",
    "            row['COUNTRY_CODE'], \n",
    "            row['COUNTRY'], \n",
    "            row['LANGUAGE'], \n",
    "            row['CURRENCY_NAME']\n",
    "        )\n",
    "\n",
    "        ssms_cursor.execute(query, params)\n",
    "        ssms_conn.commit()\n",
    "    except Exception as e:\n",
    "        print(e)\n",
    "        print(row)\n",
    "        ssms_conn.rollback()\n",
    "        break"
   ]
  },
  {
   "cell_type": "code",
   "execution_count": 27,
   "metadata": {},
   "outputs": [],
   "source": [
    "# RETAILER_CONTACT\n",
    "for index, row in retailer_contact.iterrows():\n",
    "    try:\n",
    "        extension = row['EXTENSION'] if row['EXTENSION'] is not None else ''\n",
    "        last_name = row['LAST_NAME'].replace(\"'\", \"''\") if row['LAST_NAME'] is not None else ''\n",
    "        city_retailer_site = row['CITY_retailer_site'].replace(\"'\", \"''\") if row['CITY_retailer_site'] is not None else ''\n",
    "        address1_retailer_site = row['ADDRESS1_retailer_site'].replace(\"'\", \"''\") if row['ADDRESS1_retailer_site'] is not None else ''\n",
    "        address2_retailer_site = row['ADDRESS2_retailer_site'].replace(\"'\", \"''\") if row['ADDRESS2_retailer_site'] is not None else ''\n",
    "        address1_retailer_headquarters = row['ADDRESS1_retailer_headquarters'].replace(\"'\", \"''\") if row['ADDRESS1_retailer_headquarters'] is not None else ''\n",
    "        address2_retailer_headquarters = row['ADDRESS2_retailer_headquarters'].replace(\"'\", \"''\") if row['ADDRESS2_retailer_headquarters'] is not None else ''\n",
    "        company_name = row['COMPANY_NAME'].replace(\"'\", \"''\") if row['COMPANY_NAME'] is not None else ''\n",
    "        retailer_name = row['RETAILER_NAME'].replace(\"'\", \"''\") if row['RETAILER_NAME'] is not None else ''\n",
    "\n",
    "        query = f\"\"\"\n",
    "        INSERT INTO [johari].[dbo].[RETAILER_CONTACT]\n",
    "        (\n",
    "            [id],\n",
    "            [first_name],\n",
    "            [last_name],\n",
    "            [job_position_en],\n",
    "            [extension],\n",
    "            [fax],\n",
    "            [email],\n",
    "            [gender],\n",
    "            [retailer_site_id],\n",
    "            [retailer_site_address1],\n",
    "            [retailer_site_address2],\n",
    "            [retailer_site_city],\n",
    "            [retailer_site_region],\n",
    "            [retailer_site_postal_zone],\n",
    "            [retailer_site_country_id],\n",
    "            [retailer_site_country_en],\n",
    "            [retailer_site_flag_image],\n",
    "            [retailer_site_sales_territory_id],\n",
    "            [retailer_site_sales_territory_name_en],\n",
    "            [retailer_id],\n",
    "            [retailer_codemr],\n",
    "            [retailer_company_name],\n",
    "            [retailer_type_id],\n",
    "            [retailer_type_type_en],\n",
    "            [retailer_headquarters_id],\n",
    "            [retailer_headquarters_name],\n",
    "            [retailer_headquarters_address1],\n",
    "            [retailer_headquarters_address2],\n",
    "            [retailer_headquarters_city],\n",
    "            [retailer_headquarters_region],\n",
    "            [retailer_headquarters_postal_zone],\n",
    "            [retailer_headquarters_phone],\n",
    "            [retailer_headquarters_fax],\n",
    "            [retailer_headquarters_segment_id],\n",
    "            [retailer_segment_language],\n",
    "            [retailer_segment_name],\n",
    "            [retailer_segment_description],\n",
    "            [retailer_headquarters_country_id],\n",
    "            [retailer_headquarters_country_en],\n",
    "            [retailer_headquarters_flag_image],\n",
    "            [retailer_headquarters_sales_territory_id],\n",
    "            [retailer_headquarters_sales_territory_name_en],\n",
    "            [sales_demographic_id],\n",
    "            [sales_demographic_codemr],\n",
    "            [sales_demographic_sales_percent],\n",
    "            [sales_demographic_age_group_id],\n",
    "            [age_group_id],\n",
    "            [age_group_upper_age],\n",
    "            [age_group_lower_age]\n",
    "        )\n",
    "        VALUES\n",
    "        (\n",
    "            {row['RETAILER_CONTACT_CODE']},\n",
    "            '{row['FIRST_NAME']}',\n",
    "            '{last_name}',\n",
    "            '{row['JOB_POSITION_EN']}',\n",
    "            '{extension}',\n",
    "            '{row['FAX_retailer_contact']}',\n",
    "            '{row['E_MAIL']}',\n",
    "            '{row['GENDER']}',\n",
    "            '{row['RETAILER_SITE_CODE']}',\n",
    "            '{address1_retailer_site}',\n",
    "            '{address2_retailer_site}',\n",
    "            '{city_retailer_site}',\n",
    "            '{row['REGION_retailer_site']}',\n",
    "            '{row['POSTAL_ZONE_retailer_site']}',\n",
    "            '{row['COUNTRY_CODE_retailer_site']}',\n",
    "            '{row['COUNTRY_EN_retailer_site']}',\n",
    "            '{row['FLAG_IMAGE_retailer_site']}',\n",
    "            '{row['SALES_TERRITORY_CODE_retailer_site']}',\n",
    "            '{row['TERRITORY_NAME_EN_retailer_site']}',\n",
    "            '{row['RETAILER_CODE']}',\n",
    "            '{row['RETAILER_CODEMR']}',\n",
    "            '{company_name}',\n",
    "            '{row['RETAILER_TYPE_CODE']}',\n",
    "            '{row['RETAILER_TYPE_EN']}',\n",
    "            '{row['RETAILER_CODEMR']}',\n",
    "            '{retailer_name}',\n",
    "            '{address1_retailer_headquarters}',\n",
    "            '{address2_retailer_headquarters}',\n",
    "            '{row['CITY_retailer_headquarters']}',\n",
    "            '{row['REGION_retailer_headquarters']}',\n",
    "            '{row['POSTAL_ZONE_retailer_headquarters']}',\n",
    "            '{row['PHONE']}',\n",
    "            '{row['FAX_retailer_headquarters']}',\n",
    "            '{row['SEGMENT_CODE']}',\n",
    "            '{row['LANGUAGE']}',\n",
    "            '{row['SEGMENT_NAME']}',\n",
    "            '{row['SEGMENT_DESCRIPTION']}',\n",
    "            '{row['COUNTRY_CODE_retailer_headquarters']}',\n",
    "            '{row['COUNTRY_EN_retailer_headquarters']}',\n",
    "            '{row['FLAG_IMAGE_retailer_headquarters']}',\n",
    "            '{row['SALES_TERRITORY_CODE_retailer_headquarters']}',\n",
    "            '{row['TERRITORY_NAME_EN_retailer_headquarters']}',\n",
    "            '{row['DEMOGRAPHIC_CODE']}',\n",
    "            '{row['RETAILER_CODEMR']}',\n",
    "            '{row['SALES_PERCENT']}',\n",
    "            '{row['AGE_GROUP_CODE']}',\n",
    "            '{row['AGE_GROUP_CODE']}',\n",
    "            '{row['UPPER_AGE']}',\n",
    "            '{row['LOWER_AGE']}'\n",
    "        )\n",
    "        \"\"\"\n",
    "        ssms_cursor.execute(query)\n",
    "        ssms_conn.commit()\n",
    "    except Exception as e:\n",
    "        print(e)\n",
    "        print(row)\n",
    "        ssms_conn.rollback()\n",
    "        break"
   ]
  },
  {
   "cell_type": "markdown",
   "metadata": {},
   "source": [
    "### Feiten"
   ]
  },
  {
   "cell_type": "code",
   "execution_count": 28,
   "metadata": {},
   "outputs": [],
   "source": [
    "# SATISFACTION\n",
    "for index, row in satisfaction.iterrows():\n",
    "    try:\n",
    "        query = f\"INSERT INTO SATISFACTION VALUES ({row['YEAR']}, '{row['SATISFACTION_TYPE_CODE']}', '{row['SATISFACTION_TYPE_DESCRIPTION']}', '{row['SALES_STAFF_CODE']}', '{row['POSITION_EN']}')\"\n",
    "        ssms_cursor.execute(query)\n",
    "        ssms_conn.commit()\n",
    "    except Exception as e:\n",
    "        print(e)\n",
    "        ssms_conn.rollback()\n",
    "        break"
   ]
  },
  {
   "cell_type": "code",
   "execution_count": 29,
   "metadata": {},
   "outputs": [],
   "source": [
    "# TRAINING\n",
    "for index, row in training.iterrows():\n",
    "    try:\n",
    "        query = f\"INSERT INTO TRAINING VALUES ({row['YEAR']}, '{row['COURSE_CODE']}', '{row['COURSE_DESCRIPTION']}', '{row['SALES_STAFF_CODE']}', '{row['POSITION_EN']}')\"\n",
    "        ssms_cursor.execute(query)\n",
    "        ssms_conn.commit()\n",
    "    except Exception as e:\n",
    "        print(e)\n",
    "        ssms_conn.rollback()\n",
    "        break"
   ]
  },
  {
   "cell_type": "code",
   "execution_count": 30,
   "metadata": {},
   "outputs": [],
   "source": [
    "# SALES_TARGETData\n",
    "for index, row in sales_target.iterrows():\n",
    "    try:\n",
    "        query = \"INSERT INTO SALES_TARGETData VALUES (?, ?, ?, ?, ?, ?, ?, ?, ?, ?, ?, ?, ?)\"\n",
    "        params = (row['Id'], row['SALES_STAFF_CODE'], row['POSITION_EN'], row['SALES_YEAR'], row['SALES_PERIOD'], row['SALES_TARGET'], row['PRODUCT_NUMBER'], row['PRODUCT_NAME'], row['PRODUCT_TYPE_EN'], row['PRODUCT_LINE_EN'], row['RETAILER_TYPE_CODE'], row['COMPANY_NAME'], row['RETAILER_TYPE_EN'])\n",
    "        ssms_cursor.execute(query, params)\n",
    "        ssms_conn.commit()\n",
    "    except Exception as e:\n",
    "        print(e)\n",
    "        ssms_conn.rollback()\n",
    "        break"
   ]
  },
  {
   "cell_type": "code",
   "execution_count": 31,
   "metadata": {},
   "outputs": [],
   "source": [
    "# ORDER\n",
    "for index, row in order_details.iterrows():\n",
    "    try:\n",
    "        query = \"INSERT INTO ORDERS VALUES (?, ?, ?, ?, ?, ?, ?, ?, ?, ?, ?, ?, ?, ?)\"\n",
    "        params = (row['ORDER_DETAIL_CODE'], row['ORDER_NUMBER'], row['PRODUCT_NUMBER'], row['QUANTITY'], row['UNIT_COST'], row['UNIT_PRICE'], row['UNIT_SALE_PRICE'], row['RETAILER_NAME'], row['RETAILER_SITE_CODE'], row['RETAILER_CONTACT_CODE'], row['SALES_STAFF_CODE'], row['SALES_BRANCH_CODE'], row['ORDER_DATE'], row['ORDER_METHOD_CODE'])\n",
    "        ssms_cursor.execute(query, params)\n",
    "        ssms_conn.commit()\n",
    "    except Exception as e:\n",
    "        print(e)\n",
    "        ssms_conn.rollback()\n",
    "        break"
   ]
  },
  {
   "cell_type": "code",
   "execution_count": 32,
   "metadata": {},
   "outputs": [],
   "source": [
    "# RETURNED_ITEM\n",
    "returned_item['RETURN_DATE'] = pd.to_datetime(returned_item['RETURN_DATE'], format='%d-%m-%Y %H:%M:%S')\n",
    "\n",
    "for index, row in returned_item.iterrows():\n",
    "    try:\n",
    "        query = \"INSERT INTO RETURNED_ITEM VALUES (?, ?, ?, ?, ?)\"\n",
    "        params = (row['RETURN_CODE'], row['RETURN_DATE'], row['ORDER_DETAIL_CODE'], row['RETURN_REASON_CODE'], row['RETURN_QUANTITY'])\n",
    "        ssms_cursor.execute(query, params)\n",
    "        ssms_conn.commit()\n",
    "    except Exception as e:\n",
    "        print(e)\n",
    "        ssms_conn.rollback()\n",
    "        break"
   ]
  },
  {
   "cell_type": "code",
   "execution_count": 33,
   "metadata": {},
   "outputs": [],
   "source": [
    "# SALES_PRODUCT_FORECAST\n",
    "for index, row in sales_product_forecast.iterrows():\n",
    "    try:\n",
    "        query = \"INSERT INTO SALES_PRODUCT_FORECAST VALUES (?, ?, ?, ?, ?, ?)\"\n",
    "        params = (row['PRODUCT_NUMBER'], row['YEAR'], row['MONTH'], row['EXPECTED_VOLUME'], row['PRODUCT_TYPE_CODE'], row['PRODUCT_LINE_CODE'])\n",
    "        ssms_cursor.execute(query, params)\n",
    "        ssms_conn.commit()\n",
    "    except Exception as e:\n",
    "        print(e)\n",
    "        ssms_conn.rollback()\n",
    "        break"
   ]
  },
  {
   "cell_type": "code",
   "execution_count": 34,
   "metadata": {},
   "outputs": [],
   "source": [
    "# SALES_INVENTORY_LEVELS\n",
    "for index, row in sales_inventory_levels.iterrows():\n",
    "    try:\n",
    "        query = \"INSERT INTO SALES_INVENTORY_LEVELS VALUES (?, ?, ?, ?, ?, ?)\"\n",
    "        params = (row['INVENTORY_YEAR'], row['INVENTORY_MONTH'], row['PRODUCT_NUMBER'], row['PRODUCT_TYPE_CODE'], row['PRODUCT_LINE_CODE'], row['INVENTORY_COUNT'])\n",
    "        ssms_cursor.execute(query, params)\n",
    "        ssms_conn.commit()\n",
    "    except Exception as e:\n",
    "        print(e)\n",
    "        ssms_conn.rollback()\n",
    "        break"
   ]
  }
 ],
 "metadata": {
  "kernelspec": {
   "display_name": "Python 3",
   "language": "python",
   "name": "python3"
  },
  "language_info": {
   "codemirror_mode": {
    "name": "ipython",
    "version": 3
   },
   "file_extension": ".py",
   "mimetype": "text/x-python",
   "name": "python",
   "nbconvert_exporter": "python",
   "pygments_lexer": "ipython3",
   "version": "3.12.3"
  }
 },
 "nbformat": 4,
 "nbformat_minor": 2
}
